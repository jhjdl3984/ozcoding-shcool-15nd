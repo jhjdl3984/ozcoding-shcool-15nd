{
  "nbformat": 4,
  "nbformat_minor": 0,
  "metadata": {
    "colab": {
      "provenance": [],
      "authorship_tag": "ABX9TyNw2S7ZAojCl/n1LtfBRcYi",
      "include_colab_link": true
    },
    "kernelspec": {
      "name": "python3",
      "display_name": "Python 3"
    },
    "language_info": {
      "name": "python"
    }
  },
  "cells": [
    {
      "cell_type": "markdown",
      "metadata": {
        "id": "view-in-github",
        "colab_type": "text"
      },
      "source": [
        "<a href=\"https://colab.research.google.com/github/jhjdl3984/ozcoding-shcool-15nd/blob/main/chapter14.ipynb\" target=\"_parent\"><img src=\"https://colab.research.google.com/assets/colab-badge.svg\" alt=\"Open In Colab\"/></a>"
      ]
    },
    {
      "cell_type": "markdown",
      "source": [
        "##조건문: if"
      ],
      "metadata": {
        "id": "2bas5ewvRqsM"
      }
    },
    {
      "cell_type": "code",
      "execution_count": null,
      "metadata": {
        "colab": {
          "base_uri": "https://localhost:8080/"
        },
        "id": "6JHcXH3TRXy_",
        "outputId": "6a0a7515-62c7-4f5f-de21-b1d7e79fcf2d"
      },
      "outputs": [
        {
          "output_type": "stream",
          "name": "stdout",
          "text": [
            "붕어빵 몇개 사실껀가요?4\n",
            "개당 1800원 입니다.\n"
          ]
        }
      ],
      "source": [
        "개수 = int(input(\"붕어빵 몇개 사실껀가요?\"))\n",
        "\n",
        "if 개수 > 3:\n",
        "    print(\"개당 1800원 입니다.\")"
      ]
    },
    {
      "cell_type": "code",
      "source": [
        "의문의_숫자 = 10\n",
        "\n",
        "if 의문의_숫자 > 5:\n",
        "    if 의문의_숫자 < 10:\n",
        "        print(\"의문의 숫자는 5보다 크고 10보다 작습니다.\")\n",
        "# 의문의_숫자 > 5 는 충족하지만 < 10은 충족하지 않아 출력되는 것이 X"
      ],
      "metadata": {
        "id": "oxmGKepoTSJ0"
      },
      "execution_count": null,
      "outputs": []
    },
    {
      "cell_type": "code",
      "source": [
        "# 조건문 조건 (True)\n",
        "\n",
        "#True\n",
        "if True:\n",
        "    print(True)\n",
        "else:\n",
        "    print(False)\n",
        "\n",
        "#1\n",
        "if 1:\n",
        "    print(True)\n",
        "else:\n",
        "    print(False)\n",
        "\n",
        "#1.1\n",
        "if 1.1:\n",
        "    print(True)\n",
        "else:\n",
        "    print(False)\n",
        "\n",
        "#'hello'\n",
        "if 'hello':\n",
        "    print(True)\n",
        "else:\n",
        "    print(False)\n",
        "\n",
        "#' ' (띄어쓰기)\n",
        "if ' ':\n",
        "    print(True)\n",
        "else:\n",
        "    print(False)\n",
        "\n",
        "#not\n",
        "if not False:\n",
        "    print(True)\n",
        "else:\n",
        "    print(False)\n",
        "\n",
        "if not '':\n",
        "    print(True)\n",
        "else:\n",
        "    print(False)"
      ],
      "metadata": {
        "colab": {
          "base_uri": "https://localhost:8080/"
        },
        "id": "L1Qk-MI4TxBp",
        "outputId": "f3eca36a-91a2-4858-f9c0-40f24c6aaa12"
      },
      "execution_count": null,
      "outputs": [
        {
          "output_type": "stream",
          "name": "stdout",
          "text": [
            "True\n",
            "True\n",
            "True\n",
            "True\n",
            "True\n",
            "True\n",
            "True\n"
          ]
        }
      ]
    },
    {
      "cell_type": "code",
      "source": [
        "# 조건문 조건 (False)\n",
        "#False\n",
        "if False:\n",
        "    print(True)\n",
        "else:\n",
        "    print(False)\n",
        "\n",
        "#None\n",
        "if None:\n",
        "    print(True)\n",
        "else:\n",
        "    print(False)\n",
        "\n",
        "#if None: 에서 None 자체가 False로 평가돼 if에서 False가 돼 else로 넘어간다.\n",
        "#그렇다고 해서 False와 None이 같은건 X None이 False로 평가된다는것 뿐 !!\n",
        "\n",
        "#0\n",
        "if 0:\n",
        "    print(True)\n",
        "else:\n",
        "    print(False)\n",
        "\n",
        "#''\n",
        "if '':\n",
        "    print(True)\n",
        "else:\n",
        "    print(False)\n",
        "\n",
        "#not\n",
        "if not True:\n",
        "    print(True)\n",
        "else:\n",
        "    print(False)\n",
        "\n",
        "if not ' ':\n",
        "    print(True)\n",
        "else:\n",
        "    print(False)"
      ],
      "metadata": {
        "colab": {
          "base_uri": "https://localhost:8080/"
        },
        "id": "oHU5B8HCYNyT",
        "outputId": "7ebbeaa4-13a8-45b0-b04e-4dd052b0b2f0"
      },
      "execution_count": null,
      "outputs": [
        {
          "output_type": "stream",
          "name": "stdout",
          "text": [
            "False\n",
            "False\n",
            "False\n",
            "False\n",
            "False\n",
            "False\n"
          ]
        }
      ]
    },
    {
      "cell_type": "code",
      "source": [
        "#문제: 단어 a의 가운데 글자를 반환하는 코드\n",
        "#조건: 단어의 길이가 짝수라면 가운데 두글자를 출력\n",
        "#입력값1: \"abcde\"\n",
        "#입력값2: \"qwer\"\n",
        "\n",
        "a = input()\n",
        "\n",
        "가운데_인덱스 = int(len(a) / 2)\n",
        "\n",
        "if len(a) % 2 != 0:\n",
        "    print(a[가운데_인덱스])\n",
        "else:\n",
        "    print(a[가운데_인덱스-1:가운데_인덱스+1])"
      ],
      "metadata": {
        "colab": {
          "base_uri": "https://localhost:8080/"
        },
        "id": "nnYsH-dngOwS",
        "outputId": "d4bedf76-5534-489f-b330-1c24027c8508"
      },
      "execution_count": null,
      "outputs": [
        {
          "output_type": "stream",
          "name": "stdout",
          "text": [
            "qwer\n",
            "we\n"
          ]
        }
      ]
    }
  ]
}