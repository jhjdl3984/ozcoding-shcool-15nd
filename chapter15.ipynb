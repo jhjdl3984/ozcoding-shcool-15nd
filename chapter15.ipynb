{
  "nbformat": 4,
  "nbformat_minor": 0,
  "metadata": {
    "colab": {
      "provenance": [],
      "authorship_tag": "ABX9TyOCspLpBkplLkXEJsgnxXFE",
      "include_colab_link": true
    },
    "kernelspec": {
      "name": "python3",
      "display_name": "Python 3"
    },
    "language_info": {
      "name": "python"
    }
  },
  "cells": [
    {
      "cell_type": "markdown",
      "metadata": {
        "id": "view-in-github",
        "colab_type": "text"
      },
      "source": [
        "<a href=\"https://colab.research.google.com/github/jhjdl3984/ozcoding-shcool-15nd/blob/main/chapter15.ipynb\" target=\"_parent\"><img src=\"https://colab.research.google.com/assets/colab-badge.svg\" alt=\"Open In Colab\"/></a>"
      ]
    },
    {
      "cell_type": "markdown",
      "source": [
        "##반복문: for"
      ],
      "metadata": {
        "id": "MU4aeDEikW5b"
      }
    },
    {
      "cell_type": "code",
      "execution_count": null,
      "metadata": {
        "colab": {
          "base_uri": "https://localhost:8080/"
        },
        "id": "IKyR4E6gkR9T",
        "outputId": "703f7080-074a-4175-92da-28ed83e70ee7"
      },
      "outputs": [
        {
          "output_type": "stream",
          "name": "stdout",
          "text": [
            "9\n",
            "8\n",
            "7\n",
            "6\n",
            "5\n",
            "4\n",
            "3\n",
            "2\n",
            "1\n",
            "0\n"
          ]
        }
      ],
      "source": [
        "for i in reversed(range(10)):\n",
        "    print(i)"
      ]
    },
    {
      "cell_type": "code",
      "source": [
        "# for문에서 시퀀스 객체로 반복\n",
        "\n",
        "for i in \"닥스훈트\":\n",
        "    print(i)\n",
        "\n",
        "for i in \"닥스훈트\":\n",
        "    print(i, end='')"
      ],
      "metadata": {
        "colab": {
          "base_uri": "https://localhost:8080/"
        },
        "id": "Woab_IL7mgIP",
        "outputId": "1b455e69-50cd-4937-841c-9db1dec91eff"
      },
      "execution_count": null,
      "outputs": [
        {
          "output_type": "stream",
          "name": "stdout",
          "text": [
            "닥\n",
            "스\n",
            "훈\n",
            "트\n",
            "닥스훈트"
          ]
        }
      ]
    },
    {
      "cell_type": "code",
      "source": [
        "#문제: 절대값 정수가 담긴 정수 변수와 그 정수의 부호를 차례로 담은 부호 변수가 있다\n",
        "# 두 변수를 이용해 실제 정수의 합을 구해라 (True: 양수, False: 음수)\n",
        "\n",
        "정수 = [10, 5, 6]\n",
        "부호 = [True, False, True]\n",
        "\n",
        "result=0\n",
        "\n",
        "for i in range(len(정수)):\n",
        "    if 부호[i] == True:\n",
        "        result += 정수[i]\n",
        "    else:\n",
        "        result -= 정수[i]\n",
        "print(result)\n",
        "\n",
        "--------------------------\n",
        "\n",
        "result=0\n",
        "\n",
        "for k, v in zip(부호, 정수):\n",
        "    if k:\n",
        "        result += v\n",
        "    else:\n",
        "        result -= v\n",
        "print(result)\n"
      ],
      "metadata": {
        "colab": {
          "base_uri": "https://localhost:8080/"
        },
        "id": "HprSuLNSnIhe",
        "outputId": "129a54ae-7d13-4c14-fda1-9cc2276f78d2"
      },
      "execution_count": null,
      "outputs": [
        {
          "output_type": "stream",
          "name": "stdout",
          "text": [
            "11\n",
            "11\n"
          ]
        }
      ]
    }
  ]
}