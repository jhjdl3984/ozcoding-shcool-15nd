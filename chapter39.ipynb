{
  "nbformat": 4,
  "nbformat_minor": 0,
  "metadata": {
    "colab": {
      "provenance": [],
      "authorship_tag": "ABX9TyOotS+sEZv2bmU5MNaiPCAg",
      "include_colab_link": true
    },
    "kernelspec": {
      "name": "python3",
      "display_name": "Python 3"
    },
    "language_info": {
      "name": "python"
    }
  },
  "cells": [
    {
      "cell_type": "markdown",
      "metadata": {
        "id": "view-in-github",
        "colab_type": "text"
      },
      "source": [
        "<a href=\"https://colab.research.google.com/github/jhjdl3984/ozcoding-shcool-15nd/blob/main/chapter39.ipynb\" target=\"_parent\"><img src=\"https://colab.research.google.com/assets/colab-badge.svg\" alt=\"Open In Colab\"/></a>"
      ]
    },
    {
      "cell_type": "markdown",
      "source": [
        "##함수 데코레이터\n",
        "\n",
        "- @로 시작하는 구문\n",
        "\n",
        "- 함수 앞뒤에 붙일 내용, 반복할 내용이 있을 때 사용\n",
        "\n",
        "-만드는 방법에 따라 함수 데코레이터와 클래스 데코레이터로 나눌 수 O"
      ],
      "metadata": {
        "id": "FMQjpw8jPwAm"
      }
    },
    {
      "cell_type": "code",
      "execution_count": 6,
      "metadata": {
        "colab": {
          "base_uri": "https://localhost:8080/"
        },
        "id": "v-pDG4DvPqaH",
        "outputId": "7dc2ad04-d1f7-4ae3-b679-0b194769f442"
      },
      "outputs": [
        {
          "output_type": "stream",
          "name": "stdout",
          "text": [
            "허언증이 재발했습니다.\n",
            "파이썬 진짜 재미있엉 하하\n",
            "격리 되었습니다.\n"
          ]
        }
      ],
      "source": [
        "def test(function):             # oz() 함수를 인자로 받음\n",
        "    def wrapper():              # test(oz) 실행결과인 wrapper() 함수가 실행\n",
        "        print(\"허언증이 재발했습니다.\")\n",
        "        function()              # 여기에 oz() 함수가 들어감\n",
        "        print(\"격리 되었습니다.\")\n",
        "    return wrapper              # oz() 함수는 없어지고, wrapper() 로 대체됨\n",
        "\n",
        "@test           # 위에 있는 test 함수가 데코레이터 함수가 됨 => oz = test(oz)\n",
        "def oz():\n",
        "    print(\"파이썬 진짜 재미있엉 하하\")\n",
        "\n",
        "oz()"
      ]
    }
  ]
}