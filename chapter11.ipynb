{
  "nbformat": 4,
  "nbformat_minor": 0,
  "metadata": {
    "colab": {
      "provenance": [],
      "authorship_tag": "ABX9TyPjyxY+qp+ixgB9L9yIZ2II",
      "include_colab_link": true
    },
    "kernelspec": {
      "name": "python3",
      "display_name": "Python 3"
    },
    "language_info": {
      "name": "python"
    }
  },
  "cells": [
    {
      "cell_type": "markdown",
      "metadata": {
        "id": "view-in-github",
        "colab_type": "text"
      },
      "source": [
        "<a href=\"https://colab.research.google.com/github/jhjdl3984/ozcoding-shcool-15nd/blob/main/chapter11.ipynb\" target=\"_parent\"><img src=\"https://colab.research.google.com/assets/colab-badge.svg\" alt=\"Open In Colab\"/></a>"
      ]
    },
    {
      "cell_type": "markdown",
      "source": [
        "##tuple\n",
        "* tuple 생성방법: tuple = 값, 값 or tuple = (값, 값)\n",
        "* tuple은 값 추가, 삭제, 변경 XX (해결방법: 튜플을 리스트로 만들어서 추가, 삭제, 변경 예)list(튜플)"
      ],
      "metadata": {
        "id": "IhDuFGZbpl7m"
      }
    },
    {
      "cell_type": "code",
      "execution_count": null,
      "metadata": {
        "colab": {
          "base_uri": "https://localhost:8080/"
        },
        "id": "kyXURhVDo_A-",
        "outputId": "909683d8-318f-4d63-db0d-14f29d57e3cd"
      },
      "outputs": [
        {
          "output_type": "stream",
          "name": "stdout",
          "text": [
            "<class 'tuple'>\n",
            "(1,)\n"
          ]
        }
      ],
      "source": [
        "# 하나의 값만 들어있는 튜플을 만들때\n",
        "튜플 = (1, )\n",
        "print(type(튜플))\n",
        "print(튜플)\n",
        "\n",
        "#튜플2 = (1)\n",
        "#print(type(튜플2)) => int\n",
        "#print(튜플2)       => 1"
      ]
    },
    {
      "cell_type": "code",
      "source": [
        "수강생 = \"중꺽그마\"\n",
        "\n",
        "수강생_list = list(수강생)\n",
        "수강생_tuple = tuple(수강생)\n",
        "\n",
        "print(수강생_list)\n",
        "print(수강생_tuple)\n",
        "# 한글자 한글자 쪼개짐\n",
        "\n",
        "#join함수\n",
        "취뽀_수강생 = ''.join(수강생_list)\n",
        "print(취뽀_수강생)"
      ],
      "metadata": {
        "colab": {
          "base_uri": "https://localhost:8080/"
        },
        "id": "fW9br6ADttYV",
        "outputId": "c74c6ad0-6819-4804-d93a-56a5cd3b3227"
      },
      "execution_count": null,
      "outputs": [
        {
          "output_type": "stream",
          "name": "stdout",
          "text": [
            "['중', '꺽', '그', '마']\n",
            "('중', '꺽', '그', '마')\n",
            "중꺽그마\n"
          ]
        }
      ]
    },
    {
      "cell_type": "markdown",
      "source": [
        "####tuple을 사용하는 이유\n",
        "\n",
        "        list = [1, 2, 3, 4]에 값을 추가하면 이미 공간이 다 차서 추가 할당을 진행\n",
        "        추가 할당 시 메모리 크기는 4, 8, 16, 25 ...... 더블링을 해줌\n",
        "\n",
        "        1 2 3 4 이후로 추가하게 되면 4개를 더 추가해 메모리 크기는 8이된다.\n",
        "        그럼 5를 추가해서 1 2 3 4 5 가 되었다면 3자리는 자리 차지만 하게되는 것.\n",
        "\n",
        "\n",
        "\n",
        "\n",
        "\n",
        "\n"
      ],
      "metadata": {
        "id": "FjvuGrSPznsJ"
      }
    }
  ]
}