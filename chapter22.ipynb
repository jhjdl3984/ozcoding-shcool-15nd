{
  "nbformat": 4,
  "nbformat_minor": 0,
  "metadata": {
    "colab": {
      "provenance": [],
      "authorship_tag": "ABX9TyMDDjJM+PoiPPwFbOqxsy6B",
      "include_colab_link": true
    },
    "kernelspec": {
      "name": "python3",
      "display_name": "Python 3"
    },
    "language_info": {
      "name": "python"
    }
  },
  "cells": [
    {
      "cell_type": "markdown",
      "metadata": {
        "id": "view-in-github",
        "colab_type": "text"
      },
      "source": [
        "<a href=\"https://colab.research.google.com/github/jhjdl3984/ozcoding-shcool-15nd/blob/main/chapter22.ipynb\" target=\"_parent\"><img src=\"https://colab.research.google.com/assets/colab-badge.svg\" alt=\"Open In Colab\"/></a>"
      ]
    },
    {
      "cell_type": "markdown",
      "source": [
        "##가변 매개변수(*매개변수)\n",
        "###=> 함수를 호출할 때 전달하는 argument의 개수가 정해져 있지 않을 때 사용"
      ],
      "metadata": {
        "id": "AHCp1sX1vccU"
      }
    },
    {
      "cell_type": "code",
      "execution_count": 7,
      "metadata": {
        "colab": {
          "base_uri": "https://localhost:8080/"
        },
        "id": "Jf1YjYoHtnEz",
        "outputId": "e6523ca0-4e31-43d7-c4e6-a5283dec0f97"
      },
      "outputs": [
        {
          "output_type": "stream",
          "name": "stdout",
          "text": [
            "이렇게\n",
            "저렇게\n",
            "가변 매개변수는 요렇게\n",
            "신기하죠\n",
            "\n",
            "이렇게\n",
            "저렇게\n",
            "가변 매개변수는 요렇게\n",
            "신기하죠\n",
            "\n",
            "이렇게\n",
            "저렇게\n",
            "가변 매개변수는 요렇게\n",
            "신기하죠\n",
            "\n"
          ]
        }
      ],
      "source": [
        "def oz(n, *values):\n",
        "    for i in range(n):\n",
        "        for value in values:\n",
        "            print(value)\n",
        "        print()         # i = 0 일때, \"신기하죠\" 를 출력한 후,\n",
        "                        # 다시 for value in values: 로 돌아갔는데 모든 values를 사용해서\n",
        "                        # 밑에 같은 블럭에 있는 print()가 실행됨\n",
        "\n",
        "oz(3, \"이렇게\", \"저렇게\", \"가변 매개변수는 요렇게\", \"신기하죠\")"
      ]
    },
    {
      "cell_type": "markdown",
      "source": [
        "가변 배개면수 사용 시 유의점\n",
        "* 가변 매개변수 뒤에는 일반 매개변수가 올 수 X\n",
        "* 가변 매개변수는 하나만 사용할 수 O"
      ],
      "metadata": {
        "id": "EVZJOqCx47GG"
      }
    },
    {
      "cell_type": "code",
      "source": [
        "# 가변 매개면수가 먼저 나올 경우 => 오류\n",
        "\n",
        "def oz(*values, n):      #\n",
        "    for i in range(n):\n",
        "        for value in values:\n",
        "            print(value)\n",
        "        print()\n",
        "oz(\"이렇게\", \"저렇게\", \"가변 매개변수는 요렇게\", \"신기하죠\", 3)      #\n",
        "# argument에서 어디까지가 가변매개변수인지 알수없기때문"
      ],
      "metadata": {
        "id": "3PypkW1f5sk-"
      },
      "execution_count": null,
      "outputs": []
    },
    {
      "cell_type": "code",
      "source": [
        "# 가변 매개변수가 하나가 아닐때 =>오류\n",
        "\n",
        "def oz(*values, *arg):      #\n",
        "    for i in range(n):\n",
        "        for value in values:\n",
        "            print(value)\n",
        "        print()\n",
        "oz(\"이렇게\", \"저렇게\", \"가변 매개변수는 요렇게\", \"신기하죠\", 4, 5, 6)      #\n",
        "# 같은 이유"
      ],
      "metadata": {
        "id": "_UvwJ8eG6iNS"
      },
      "execution_count": null,
      "outputs": []
    },
    {
      "cell_type": "code",
      "source": [
        "# 가변 매개변수를 사용하는 이유? => 함수 호출할 때 전달하는 argument의 개수가 몇개인지 몰라서\n",
        "# 가변 매개변수를 사용하기 위한 문법은? => 매개변수 맨뒤에 작성\n",
        "# 가변 매개변수를 사용하기 위핝 제약 조건? => 가변 매개변수가 먼저 나오면 안되고, 하나만 사용해야 함\n",
        "#                                    but, *args와 **kwargs는 같이 쓸 수 O"
      ],
      "metadata": {
        "id": "JOTgRjRB6-5G"
      },
      "execution_count": null,
      "outputs": []
    }
  ]
}