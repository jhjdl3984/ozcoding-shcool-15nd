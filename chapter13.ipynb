{
  "nbformat": 4,
  "nbformat_minor": 0,
  "metadata": {
    "colab": {
      "provenance": [],
      "authorship_tag": "ABX9TyO+NtggwOIKGYQ0n8xnVUjj",
      "include_colab_link": true
    },
    "kernelspec": {
      "name": "python3",
      "display_name": "Python 3"
    },
    "language_info": {
      "name": "python"
    }
  },
  "cells": [
    {
      "cell_type": "markdown",
      "metadata": {
        "id": "view-in-github",
        "colab_type": "text"
      },
      "source": [
        "<a href=\"https://colab.research.google.com/github/jhjdl3984/ozcoding-shcool-15nd/blob/main/chapter13.ipynb\" target=\"_parent\"><img src=\"https://colab.research.google.com/assets/colab-badge.svg\" alt=\"Open In Colab\"/></a>"
      ]
    },
    {
      "cell_type": "markdown",
      "source": [
        "##set\n",
        "        * 수학의 집합을 의미\n",
        "        * 딕셔너리와 같이 순서 X\n",
        "        * 값의 중복을 허락 X\n",
        "        * 중괄호"
      ],
      "metadata": {
        "id": "XVRpJLayMFWy"
      }
    },
    {
      "cell_type": "code",
      "execution_count": null,
      "metadata": {
        "id": "NYZZVu-6LvEo",
        "colab": {
          "base_uri": "https://localhost:8080/"
        },
        "outputId": "c772dab7-2ce2-4945-9f92-d5389574f56f"
      },
      "outputs": [
        {
          "output_type": "stream",
          "name": "stdout",
          "text": [
            "<class 'set'>\n",
            "{'양파', '대파', '배추', '당근'}\n"
          ]
        }
      ],
      "source": [
        "채소 = {\"당근\", \"배추\", \"대파\", \"양파\"}\n",
        "print(type(채소))\n",
        "print(채소)\n",
        "\n",
        "# 순서가 없어서 출력 시, 작성한 요소가 순서대로 나오지 X"
      ]
    },
    {
      "cell_type": "code",
      "source": [
        "# 세트 만드는 방법\n",
        "세트 = set()\n",
        "print(세트)\n",
        "\n",
        "세트2 = {}\n",
        "print(세트2)"
      ],
      "metadata": {
        "colab": {
          "base_uri": "https://localhost:8080/"
        },
        "id": "RrTLNqOGNe-N",
        "outputId": "f2b5b284-4813-4240-e8ec-fd33073989a7"
      },
      "execution_count": null,
      "outputs": [
        {
          "output_type": "stream",
          "name": "stdout",
          "text": [
            "set()\n",
            "{}\n"
          ]
        }
      ]
    },
    {
      "cell_type": "code",
      "source": [
        "# 중복을 제일 싫어하는 set\n",
        "\n",
        "사과_리스트 = list(\"apple\")\n",
        "print(사과_리스트)\n",
        "\n",
        "사과_튜플 = tuple(\"apple\")\n",
        "print(사과_튜플)\n",
        "\n",
        "사과_set = set(\"apple\")\n",
        "print(사과_set)"
      ],
      "metadata": {
        "colab": {
          "base_uri": "https://localhost:8080/"
        },
        "id": "42OKZJpFN6zG",
        "outputId": "23c6bebe-cb58-41f4-afb9-0d8fdd6fa291"
      },
      "execution_count": null,
      "outputs": [
        {
          "output_type": "stream",
          "name": "stdout",
          "text": [
            "['a', 'p', 'p', 'l', 'e']\n",
            "('a', 'p', 'p', 'l', 'e')\n",
            "{'p', 'l', 'a', 'e'}\n"
          ]
        }
      ]
    },
    {
      "cell_type": "code",
      "source": [
        "# set() 자료형의 데이터 추가, 삭제, 변경\n",
        "\n",
        "# 추가\n",
        "# 채소.add(\"토마토\")\n",
        "# 채소\n",
        "\n",
        "# 채소.update(\"깻잎\")\n",
        "# 채소               # X\n",
        "\n",
        "# # 삭제\n",
        "# 채소.remove(\"잎\")\n",
        "# 채소\n",
        "# 채소.remove(\"잎\")\n",
        "# 채소               # remove는 삭제할게 없으면 오류\n",
        "\n",
        "# 채소.discard(\"깻\")\n",
        "# 채소\n",
        "# 채소.discard(\"깻\")\n",
        "# 채소               # discard는 삭제할게 없어도 오류X 가만히 있음\n",
        "\n",
        "채소.pop()           # 삭제될 요소를 보여줌\n",
        "print(채소)          # 랜덤으로 삭제\n",
        "\n"
      ],
      "metadata": {
        "colab": {
          "base_uri": "https://localhost:8080/",
          "height": 36
        },
        "id": "PWTWCwZZOki_",
        "outputId": "687a5350-a405-4446-deb0-69ef204ba01d"
      },
      "execution_count": null,
      "outputs": [
        {
          "output_type": "execute_result",
          "data": {
            "text/plain": [
              "'대파'"
            ],
            "application/vnd.google.colaboratory.intrinsic+json": {
              "type": "string"
            }
          },
          "metadata": {},
          "execution_count": 50
        }
      ]
    },
    {
      "cell_type": "code",
      "source": [
        "채소 = {\"당근\", \"배추\", \"대파\", \"양파\"}\n",
        "반환된_채소 = 채소.pop()\n",
        "print(f'{반환된_채소}는 내다버린 채소입니다.')\n",
        "print(채소)"
      ],
      "metadata": {
        "colab": {
          "base_uri": "https://localhost:8080/"
        },
        "id": "HVnLjFW-SS0V",
        "outputId": "77b92760-8896-43b1-ef81-3548861ef48e"
      },
      "execution_count": null,
      "outputs": [
        {
          "output_type": "stream",
          "name": "stdout",
          "text": [
            "양파는 내다버린 채소입니다.\n"
          ]
        }
      ]
    },
    {
      "cell_type": "code",
      "source": [
        "# set = 집합, 합집합, 교집합, 차집합 기타 등등\n",
        "# 대표적으로 합집합, 교집합, 차집합\n",
        "\n",
        "채소1 = {\"당근\", \"양파\", \"오이\", \"배추\"}\n",
        "채소2 = {\"양파\", \"오이\", \"대파\", \"가지\"}\n",
        "\n",
        "# 합집합(union)\n",
        "print(채소1 | 채소2)\n",
        "\n",
        "print(set.union(채소1, 채소2))\n",
        "\n",
        "# 교집합(intersection)\n",
        "print(채소1 & 채소2)\n",
        "\n",
        "print(set.intersection(채소1, 채소2))\n",
        "\n",
        "# 차집합(difference)\n",
        "print(채소1 - 채소2)\n",
        "\n",
        "print(set.difference(채소1, 채소2))\n"
      ],
      "metadata": {
        "colab": {
          "base_uri": "https://localhost:8080/"
        },
        "id": "7O2OpqHsSnZx",
        "outputId": "d1f8680f-2488-4a91-aef8-c24c907c760f"
      },
      "execution_count": null,
      "outputs": [
        {
          "output_type": "stream",
          "name": "stdout",
          "text": [
            "{'오이', '대파', '가지', '배추', '양파', '당근'}\n",
            "{'오이', '대파', '가지', '배추', '양파', '당근'}\n",
            "{'양파', '오이'}\n",
            "{'양파', '오이'}\n",
            "{'당근', '배추'}\n",
            "{'당근', '배추'}\n"
          ]
        }
      ]
    }
  ]
}