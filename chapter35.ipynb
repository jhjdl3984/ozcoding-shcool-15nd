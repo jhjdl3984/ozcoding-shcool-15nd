{
  "nbformat": 4,
  "nbformat_minor": 0,
  "metadata": {
    "colab": {
      "provenance": [],
      "authorship_tag": "ABX9TyN+7lk4YJUJvbuTjlPGBIO7",
      "include_colab_link": true
    },
    "kernelspec": {
      "name": "python3",
      "display_name": "Python 3"
    },
    "language_info": {
      "name": "python"
    }
  },
  "cells": [
    {
      "cell_type": "markdown",
      "metadata": {
        "id": "view-in-github",
        "colab_type": "text"
      },
      "source": [
        "<a href=\"https://colab.research.google.com/github/jhjdl3984/ozcoding-shcool-15nd/blob/main/chapter35.ipynb\" target=\"_parent\"><img src=\"https://colab.research.google.com/assets/colab-badge.svg\" alt=\"Open In Colab\"/></a>"
      ]
    },
    {
      "cell_type": "markdown",
      "source": [
        "##예외 객체와 구분하기\n",
        "\n",
        "-예외 객체 => Exception을 사용하면 예외의 종류에 대해 알 수 O"
      ],
      "metadata": {
        "id": "Z46vJFkZs3Nv"
      }
    },
    {
      "cell_type": "code",
      "execution_count": 3,
      "metadata": {
        "colab": {
          "base_uri": "https://localhost:8080/"
        },
        "id": "ft0CfKBRssyZ",
        "outputId": "493fe929-b137-4ddb-a7d7-7e0d8b601188"
      },
      "outputs": [
        {
          "output_type": "stream",
          "name": "stdout",
          "text": [
            "밑변과 높이를 입력해주세요3cm 5cm\n",
            "type(exception): <class 'ValueError'>\n",
            "exception: invalid literal for int() with base 10: '3cm'\n"
          ]
        }
      ],
      "source": [
        "# except 예외 as 별칭:\n",
        "#   print(별칭)      => 오류 메시지 출력\n",
        "\n",
        "try:\n",
        "    x, y = map(int, input(\"밑변과 높이를 입력해주세요\").split(\" \"))\n",
        "    print(f'삼각형의 넓이는 {x*y/2}입니다.')\n",
        "except Exception as exception:        # Exception 객체를 별칭 exception으로 받아 사용\n",
        "    print(\"type(exception):\", type(exception))\n",
        "    print(\"exception:\", exception)"
      ]
    },
    {
      "cell_type": "code",
      "source": [
        "# except 예외:\n",
        "#   print(예외)      => 예외 종류 출력\n",
        "\n",
        "try:\n",
        "    x, y = map(int, input(\"밑변과 높이를 입력해주세요\").split(\" \"))\n",
        "    print(f'삼각형의 넓이는 {x*y/2}입니다.')\n",
        "except Exception:\n",
        "    print(Exception)"
      ],
      "metadata": {
        "colab": {
          "base_uri": "https://localhost:8080/"
        },
        "id": "6wKkYkUV2BJh",
        "outputId": "427c2230-8c4f-4272-93b3-791e7bd1b25e"
      },
      "execution_count": 8,
      "outputs": [
        {
          "output_type": "stream",
          "name": "stdout",
          "text": [
            "밑변과 높이를 입력해주세요3cm 5cm\n",
            "<class 'Exception'>\n"
          ]
        }
      ]
    },
    {
      "cell_type": "code",
      "source": [
        "# 여러가지 예외\n",
        "\n",
        "numbers = [23, 11, 7, 4, 12]\n",
        "\n",
        "try:\n",
        "    number_input = int(input(\"찾고싶은 값의 위치를 입력해주세요\"))\n",
        "    print(f'{number_input}번째 요소 : {numbers[number_input]}')\n",
        "except ValueError as exception:\n",
        "    print(\"정수로 입력해주세요\")\n",
        "    print(exception)\n",
        "except IndexError as exception:\n",
        "    print(\"리스트의 범위를 벗어났습니다. 입력값을 다시 확인해주세요\")\n",
        "    print(exception)"
      ],
      "metadata": {
        "colab": {
          "base_uri": "https://localhost:8080/"
        },
        "id": "rJ0uTef0zXf2",
        "outputId": "9c7d4f52-ee5b-489f-f53d-c82f88d81c98"
      },
      "execution_count": 13,
      "outputs": [
        {
          "output_type": "stream",
          "name": "stdout",
          "text": [
            "찾고싶은 값의 위치를 입력해주세요안녕\n",
            "정수로 입력해주세요\n",
            "invalid literal for int() with base 10: '안녕'\n"
          ]
        }
      ]
    },
    {
      "cell_type": "code",
      "source": [
        "numbers = [23, 11, 7, 4, 12]\n",
        "\n",
        "try:\n",
        "    number_input = int(input(\"찾고싶은 값의 위치를 입력해주세요\"))\n",
        "    print(f'{number_input}번째 요소 : {numbers[number_input]}')\n",
        "    에러를.만들자\n",
        "except ValueError as exception:\n",
        "    print(\"정수로 입력해주세요\")\n",
        "    print(exception)\n",
        "except IndexError as exception:\n",
        "    print(\"리스트의 범위를 벗어났습니다. 입력값을 다시 확인해주세요\")\n",
        "    print(exception)\n",
        "except Exception as exception:        # 위의 어떤 except에서도 처리하지 못한 모든 예외 처리\n",
        "    print(\"대처 불가한 예외가 발생했습니다\")\n",
        "    print(exception)"
      ],
      "metadata": {
        "colab": {
          "base_uri": "https://localhost:8080/"
        },
        "id": "ZM10vcOd6Fvs",
        "outputId": "e3545103-7618-405b-fa30-09c73107d412"
      },
      "execution_count": 25,
      "outputs": [
        {
          "output_type": "stream",
          "name": "stdout",
          "text": [
            "찾고싶은 값의 위치를 입력해주세요3\n",
            "3번째 요소 : 4\n",
            "대처 불가한 예외가 발생했습니다\n",
            "name '에러를' is not defined\n"
          ]
        }
      ]
    },
    {
      "cell_type": "code",
      "source": [
        "# 예외 종류와 그에 대한 설명\n",
        "# => ValueError : 값이 잘못됐을 때 발생하는 에러\n",
        "#    IndexError : 인덱스의 범위를 벗어나서 발생하는 에러\n",
        "#    ZeroDivisionError : 수를 0으로 나누려 할 때 발생하는 에러\n",
        "#    TypeError : 자료형이 맞지 않게 사용될 때 발생하는 에러 (예: len(5), \"3\" + 2)\n",
        "#    KeyError : 딕셔너리 사용 시 없는 키에 접글할 때 발생하는 에러"
      ],
      "metadata": {
        "id": "JX3wIIUy8_Nd"
      },
      "execution_count": null,
      "outputs": []
    }
  ]
}