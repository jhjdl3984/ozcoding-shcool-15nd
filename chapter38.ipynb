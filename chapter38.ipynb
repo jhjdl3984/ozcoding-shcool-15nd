{
  "nbformat": 4,
  "nbformat_minor": 0,
  "metadata": {
    "colab": {
      "provenance": [],
      "authorship_tag": "ABX9TyP4Nn7HkIDJ+WmOlQDO5erh",
      "include_colab_link": true
    },
    "kernelspec": {
      "name": "python3",
      "display_name": "Python 3"
    },
    "language_info": {
      "name": "python"
    }
  },
  "cells": [
    {
      "cell_type": "markdown",
      "metadata": {
        "id": "view-in-github",
        "colab_type": "text"
      },
      "source": [
        "<a href=\"https://colab.research.google.com/github/jhjdl3984/ozcoding-shcool-15nd/blob/main/chapter38.ipynb\" target=\"_parent\"><img src=\"https://colab.research.google.com/assets/colab-badge.svg\" alt=\"Open In Colab\"/></a>"
      ]
    },
    {
      "cell_type": "markdown",
      "source": [
        "##외부모듈\n",
        "-모듈 설치방법\n",
        "\n",
        "(window)\n",
        "\n",
        "- pip install 모듈이름\n",
        "\n",
        "(mac)\n",
        "\n",
        "- pip3 install 모듈이름\n",
        "\n",
        "- brew install 모듈이름\n",
        "\n"
      ],
      "metadata": {
        "id": "MYhnIfAKNm7K"
      }
    },
    {
      "cell_type": "markdown",
      "source": [
        "beautifulsoup4\n",
        "\n",
        "=> 파이썬 외부모듈 중 하나임. 정적페이지를 크롤링하거나 스크래핑 할때 사용"
      ],
      "metadata": {
        "id": "D8GnLtNsPK33"
      }
    },
    {
      "cell_type": "code",
      "execution_count": 5,
      "metadata": {
        "colab": {
          "base_uri": "https://localhost:8080/"
        },
        "id": "mkrr1xL5Nkg8",
        "outputId": "8f228bbd-96a5-4a37-9a79-7fd652400615"
      },
      "outputs": [
        {
          "output_type": "stream",
          "name": "stdout",
          "text": [
            "Requirement already satisfied: beautifulsoup4 in /usr/local/lib/python3.12/dist-packages (4.13.5)\n",
            "Requirement already satisfied: soupsieve>1.2 in /usr/local/lib/python3.12/dist-packages (from beautifulsoup4) (2.8)\n",
            "Requirement already satisfied: typing-extensions>=4.0.0 in /usr/local/lib/python3.12/dist-packages (from beautifulsoup4) (4.15.0)\n"
          ]
        }
      ],
      "source": [
        "# beautifulsoup4 설치\n",
        "\n",
        "!pip3 install beautifulsoup4"
      ]
    },
    {
      "cell_type": "code",
      "source": [
        "from urllib import request\n",
        "from bs4 import BeautifulSoup\n",
        "\n",
        "target = request.urlopen('https://www.kma.go.kr/weather/forecast/mid-term-rss3.jsp?stnld=108')\n",
        "soup = BeautifulSoup(target, \"html.parser\")     # parser => 컴퓨터가 이해할 수 있는 언어로 해서 컴퓨터에게 알려주는것\n",
        "                                                # target을 parser를 통해서 분석해 컴퓨터에게 알려준 것이 soup에 담김\n",
        "for location in soup.select(\"location\"):        # HTML에 <location> 태그가 있을 때\n",
        "                                                # 예) <location>서울</location>\n",
        "    print(\"도시:\", location.select_one(\"city\").string)     # select_one => 하나 가져온다는 뜻\n",
        "    print(\"날씨:\", location.select_one(\"wf\").string)\n",
        "    print(\"최저기온:\", location.select_one(\"tmn\").string)\n",
        "    print(\"최고기온:\", location.select_one(\"tmx\").string)\n",
        "    print()\n",
        "# 출력\n",
        "# 도시: 서울\n",
        "# 날씨: 구름많음\n",
        "# 최저기온: 8\n",
        "# 최고기온: 19\n",
        "\n",
        "# 도시: 인천\n",
        "# 날씨: 구름많음\n",
        "# 최저기온: 7\n",
        "# 최고기온: 16\n",
        ".\n",
        ".\n",
        "."
      ],
      "metadata": {
        "id": "7rBZDQdwRxKM"
      },
      "execution_count": 11,
      "outputs": []
    }
  ]
}