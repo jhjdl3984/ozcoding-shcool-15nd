{
  "nbformat": 4,
  "nbformat_minor": 0,
  "metadata": {
    "colab": {
      "provenance": [],
      "authorship_tag": "ABX9TyOjhlSfoR/2pbmVLlscB3p2",
      "include_colab_link": true
    },
    "kernelspec": {
      "name": "python3",
      "display_name": "Python 3"
    },
    "language_info": {
      "name": "python"
    }
  },
  "cells": [
    {
      "cell_type": "markdown",
      "metadata": {
        "id": "view-in-github",
        "colab_type": "text"
      },
      "source": [
        "<a href=\"https://colab.research.google.com/github/jhjdl3984/ozcoding-shcool-15nd/blob/main/chapter47.ipynb\" target=\"_parent\"><img src=\"https://colab.research.google.com/assets/colab-badge.svg\" alt=\"Open In Colab\"/></a>"
      ]
    },
    {
      "cell_type": "markdown",
      "source": [
        "##상속\n",
        "- 상속 : 기존 클래스에 내용을 추가 or 변경하는 것\n",
        "\n",
        "- 다중상속 : 각각의 클래스에서 원하는 속성 or 기능만 뽑아다 사용하는 것\n",
        "\n",
        "\n",
        "-클래스 기반의 객체 지향 언어들은 상속이라는 기능을 지원함"
      ],
      "metadata": {
        "id": "gt9PIhBYcvMX"
      }
    },
    {
      "cell_type": "code",
      "execution_count": 4,
      "metadata": {
        "colab": {
          "base_uri": "https://localhost:8080/"
        },
        "id": "UuVf7lcwcsPJ",
        "outputId": "32e74a2f-bb6f-46e7-88a8-31225f8eb24b"
      },
      "outputs": [
        {
          "output_type": "stream",
          "name": "stdout",
          "text": [
            "Parent 클래스의 __init()__ 메소드가 호출되었습니다.\n",
            "Child 클래스의 __init__() 메소드가 호출되었습니다.\n",
            "Parent 클래스의 test() 메소드입니다.\n",
            "테스트\n"
          ]
        }
      ],
      "source": [
        "# 자식클래스를 만들때 사용할 부모 클래스\n",
        "\n",
        "class Parent:\n",
        "    def __init__(self):\n",
        "        self.value = \"테스트\"\n",
        "        print(\"Parent 클래스의 __init()__ 메소드가 호출되었습니다.\")\n",
        "    def test(self):\n",
        "        print(\"Parent 클래스의 test() 메소드입니다.\")\n",
        "\n",
        "class Child(Parent):\n",
        "    def __init__(self):\n",
        "        super().__init__()\n",
        "        print(\"Child 클래스의 __init__() 메소드가 호출되었습니다.\")\n",
        "\n",
        "child = Child()\n",
        "\n",
        "child.test()\n",
        "\n",
        "print(child.value)"
      ]
    }
  ]
}