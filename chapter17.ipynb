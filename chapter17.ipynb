{
  "nbformat": 4,
  "nbformat_minor": 0,
  "metadata": {
    "colab": {
      "provenance": [],
      "authorship_tag": "ABX9TyNJKeU/UoNgSJauu4QpEuan",
      "include_colab_link": true
    },
    "kernelspec": {
      "name": "python3",
      "display_name": "Python 3"
    },
    "language_info": {
      "name": "python"
    }
  },
  "cells": [
    {
      "cell_type": "markdown",
      "metadata": {
        "id": "view-in-github",
        "colab_type": "text"
      },
      "source": [
        "<a href=\"https://colab.research.google.com/github/jhjdl3984/ozcoding-shcool-15nd/blob/main/chapter17.ipynb\" target=\"_parent\"><img src=\"https://colab.research.google.com/assets/colab-badge.svg\" alt=\"Open In Colab\"/></a>"
      ]
    },
    {
      "cell_type": "markdown",
      "source": [
        "##함수"
      ],
      "metadata": {
        "id": "gxpyJbfXZvC3"
      }
    },
    {
      "cell_type": "code",
      "execution_count": 2,
      "metadata": {
        "colab": {
          "base_uri": "https://localhost:8080/"
        },
        "id": "QzfDhNJYZezl",
        "outputId": "c882afca-f4eb-485e-e566-f7e45b7f901a"
      },
      "outputs": [
        {
          "output_type": "stream",
          "name": "stdout",
          "text": [
            "양파를 2개를 수확했습니다.\n",
            "대파를 수확했습니다.\n"
          ]
        }
      ],
      "source": [
        "# 입력값이 없어도 함수를 만들 수 O\n",
        "\n",
        "def 양파():\n",
        "    print(\"양파를 2개를 수확했습니다.\")\n",
        "def 대파():\n",
        "    print(\"대파를 수확했습니다.\")\n",
        "\n",
        "양파()\n",
        "대파()"
      ]
    },
    {
      "cell_type": "code",
      "source": [
        "def 수확():\n",
        "    print(\"올해 비가 많이 왔습니다.\")\n",
        "\n",
        "print(\"농작물 수확물이 현저히 줄었습니다.\")\n",
        "\n",
        "수확()\n",
        "# 함수는 호출해야지 출력이 돼서 여기선 함수가 마지막에 출력돼서 print가 먼저 출력되고 함수가 마지막에 출력 !!"
      ],
      "metadata": {
        "colab": {
          "base_uri": "https://localhost:8080/"
        },
        "id": "cQOjghvjaqLp",
        "outputId": "61284b88-0bee-4f92-d05d-370d0a9ad991"
      },
      "execution_count": 3,
      "outputs": [
        {
          "output_type": "stream",
          "name": "stdout",
          "text": [
            "농작물 수확물이 현저히 줄었습니다.\n",
            "올해 비가 많이 왔습니다.\n"
          ]
        }
      ]
    },
    {
      "cell_type": "code",
      "source": [
        "# return을 만나면 바로 함수가 종료됨\n",
        "# return은 print처럼 바로 출력되지 X\n",
        "def function(x, y):\n",
        "    z = x + y\n",
        "    return z\n",
        "    print(\"진짠가요?\")      #함수가 종료되어 출력되지 않음\n",
        "\n",
        "print(\"옥수수와 수박의 수확량:\", function(10,2))"
      ],
      "metadata": {
        "colab": {
          "base_uri": "https://localhost:8080/"
        },
        "id": "e0i743Y0cY0h",
        "outputId": "a7b5099e-9460-48b2-ad02-c610a620dc97"
      },
      "execution_count": 8,
      "outputs": [
        {
          "output_type": "stream",
          "name": "stdout",
          "text": [
            "옥수수와 수박의 수확량: 12\n"
          ]
        }
      ]
    },
    {
      "cell_type": "code",
      "source": [
        "# return 없다면?  => return 값을 함수 밖으로 반환하지 X\n",
        "\n",
        "def function(x, y):\n",
        "    z = x + y\n",
        "    print(z)\n",
        "    # return z  => # 12\n",
        "                   # 옥수수와 수박의 수확량: 12\n",
        "                   # 라고 출력됨\n",
        "\n",
        "print(\"옥수수와 수박의 수확량:\", function(10,2))\n",
        "#12\n",
        "#None\n",
        "#옥수수와 수박의 수확량: 12\n",
        "#라고 생각했음. *함수 안에 있는 print가 출력되고\n",
        "#블럭이 땡겨진(함수가 끝난) 위치에 있는 print는 함수값이 None으로 출력"
      ],
      "metadata": {
        "colab": {
          "base_uri": "https://localhost:8080/"
        },
        "id": "nu2KFBeHekcH",
        "outputId": "29eb3451-ce3b-4696-f443-999b6f16caac"
      },
      "execution_count": 18,
      "outputs": [
        {
          "output_type": "stream",
          "name": "stdout",
          "text": [
            "12\n",
            "옥수수와 수박의 수확량: None\n"
          ]
        }
      ]
    },
    {
      "cell_type": "code",
      "source": [
        "def 계산(가격, 개수):\n",
        "    return 가격 * 개수     #return에다 수식넣을수 O\n",
        "\n",
        "print(계산(1000, 5), \"원입니다\")"
      ],
      "metadata": {
        "colab": {
          "base_uri": "https://localhost:8080/"
        },
        "id": "O5XMq10WjX4p",
        "outputId": "0f90ea09-6a56-4ebd-ae16-fd4a21eeabae"
      },
      "execution_count": 21,
      "outputs": [
        {
          "output_type": "stream",
          "name": "stdout",
          "text": [
            "5000 원입니다\n"
          ]
        }
      ]
    },
    {
      "cell_type": "code",
      "source": [
        "# 오류 예제\n",
        "# 밖에 있는 a(전역변수)는 함수 안에서 호출 할 수 X\n",
        "\n",
        "a = 100\n",
        "def f():\n",
        "    a = a + 1\n",
        "    return a\n",
        "f()"
      ],
      "metadata": {
        "id": "E_yHCoKCl_iW"
      },
      "execution_count": null,
      "outputs": []
    },
    {
      "cell_type": "code",
      "source": [
        "# 해결방법: global => 전역변수를 호출\n",
        "\n",
        "a = 100\n",
        "def f():\n",
        "    global a\n",
        "    a = a + 1\n",
        "    return a\n",
        "f()"
      ],
      "metadata": {
        "colab": {
          "base_uri": "https://localhost:8080/"
        },
        "id": "2aNa9qwak35D",
        "outputId": "49ae4603-e75d-4b24-ff24-0878d7254fbb"
      },
      "execution_count": 30,
      "outputs": [
        {
          "output_type": "execute_result",
          "data": {
            "text/plain": [
              "101"
            ]
          },
          "metadata": {},
          "execution_count": 30
        }
      ]
    },
    {
      "cell_type": "markdown",
      "source": [
        "####지역변수와 전역변수로 나누는 이유\n",
        ": 함수 안에서 일어나는 일로 바깥 함수에 영향을 주지 않기 위해서"
      ],
      "metadata": {
        "id": "nXVTxoSYmY_1"
      }
    },
    {
      "cell_type": "code",
      "source": [
        "won = {\"A등급\":1000, \"B등급\":500, \"C등급\":100}\n",
        "\n",
        "def 계산(a, b, c):\n",
        "    #global   => dict는 global 없이 전역변수를 가져올 수 O\n",
        "    합계 = won[\"A등급\"] * a + won[\"B등급\"] * b + won[\"C등급\"] * c\n",
        "    return 합계\n",
        "\n",
        "print(계산(5, 2, 3), \"원입니다\")\n",
        "# 지역변수는 a, b, c, 합계"
      ],
      "metadata": {
        "colab": {
          "base_uri": "https://localhost:8080/"
        },
        "id": "4x7hCDPXqsQt",
        "outputId": "2c21aa7d-656d-4e6f-b58b-f2ef3918023a"
      },
      "execution_count": 34,
      "outputs": [
        {
          "output_type": "stream",
          "name": "stdout",
          "text": [
            "6300 원입니다\n"
          ]
        }
      ]
    },
    {
      "cell_type": "code",
      "source": [
        "# 상수\n",
        "\n",
        "PI = 3.14\n",
        "def circle(r, inputpi):    #여기에서 r, inputpi는 매개변수\n",
        "    z = r * r * inputpi\n",
        "    return z\n",
        "\n",
        "print(circle(10, PI))      #여기에서 10, PI는 argument\n",
        "# 전역변수를 함수 안으로는 호출 못하지만,\n",
        "# 전역변수를 argument로 넣어서 => 매개변수로 들어가는건 O"
      ],
      "metadata": {
        "colab": {
          "base_uri": "https://localhost:8080/"
        },
        "id": "CpEI4pzetlly",
        "outputId": "533d9888-4f45-4964-e7be-e00c29ba4ebb"
      },
      "execution_count": 35,
      "outputs": [
        {
          "output_type": "stream",
          "name": "stdout",
          "text": [
            "314.0\n"
          ]
        }
      ]
    },
    {
      "cell_type": "code",
      "source": [
        "A = 0\n",
        "B = 0\n",
        "C = 0\n",
        "유물 = 0\n",
        "\n",
        "def 감자():\n",
        "    global A\n",
        "    A += 1    # A = 1\n",
        "              # 전역변수 => A = 1\n",
        "\n",
        "def 양파():\n",
        "    global A, B, C   # 1, 0, 0\n",
        "    A += 3           # A = 4\n",
        "    B += 3           # B = 3\n",
        "    C += 4           # c = 4\n",
        "                     # 전역변수 => A = 4\n",
        "                     #           B = 3\n",
        "                     #           C = 4\n",
        "\n",
        "def 옥수수():\n",
        "    global 유물\n",
        "    유물 += 1         # 유물 = 1\n",
        "                     # 전역변수 => 유물 = 1\n",
        "\n",
        "감자()      #함수실행\n",
        "양파()      #함수실행\n",
        "옥수수()     #함수실행\n",
        "\n",
        "합계 = A + B + C + 유물\n",
        "print(\"오늘 수확한 수확물 :\", 합계)"
      ],
      "metadata": {
        "colab": {
          "base_uri": "https://localhost:8080/"
        },
        "id": "bLA84fQRwlz3",
        "outputId": "86c9fe20-502c-458a-87a6-b8d892d12556"
      },
      "execution_count": 1,
      "outputs": [
        {
          "output_type": "stream",
          "name": "stdout",
          "text": [
            "오늘 수확한 수확물 : 12\n"
          ]
        }
      ]
    },
    {
      "cell_type": "code",
      "source": [
        "def print_text():\n",
        "    text = \"콩콩팥팥 수확의 기쁨\"\n",
        "    def txt():\n",
        "        print(text)\n",
        "    txt()         # 함수를 다 읽고나서 맨 마지막 실행\n",
        "print_text()      # 첫번째 실행"
      ],
      "metadata": {
        "colab": {
          "base_uri": "https://localhost:8080/"
        },
        "id": "4keGPUozj1lR",
        "outputId": "a1bdbd6b-4ec6-4a9b-d6e4-29ad3748c57e"
      },
      "execution_count": 17,
      "outputs": [
        {
          "output_type": "stream",
          "name": "stdout",
          "text": [
            "콩콩팥팥 수확의 기쁨\n"
          ]
        }
      ]
    }
  ]
}