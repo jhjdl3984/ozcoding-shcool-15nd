{
  "nbformat": 4,
  "nbformat_minor": 0,
  "metadata": {
    "colab": {
      "provenance": [],
      "authorship_tag": "ABX9TyNUrfalf9+lUU87FmngvzML",
      "include_colab_link": true
    },
    "kernelspec": {
      "name": "python3",
      "display_name": "Python 3"
    },
    "language_info": {
      "name": "python"
    }
  },
  "cells": [
    {
      "cell_type": "markdown",
      "metadata": {
        "id": "view-in-github",
        "colab_type": "text"
      },
      "source": [
        "<a href=\"https://colab.research.google.com/github/jhjdl3984/ozcoding-shcool-15nd/blob/main/chapter27.ipynb\" target=\"_parent\"><img src=\"https://colab.research.google.com/assets/colab-badge.svg\" alt=\"Open In Colab\"/></a>"
      ]
    },
    {
      "cell_type": "markdown",
      "source": [
        "##재귀 함수\n",
        "=> 함수 안에 자신의 함수를 다시 호출하는 함수"
      ],
      "metadata": {
        "id": "Lg52f2TAnsZn"
      }
    },
    {
      "cell_type": "code",
      "execution_count": 4,
      "metadata": {
        "colab": {
          "base_uri": "https://localhost:8080/"
        },
        "id": "v1BmZybwnoCT",
        "outputId": "947f956f-c918-4327-f76c-08ef7ac2c0b5"
      },
      "outputs": [
        {
          "output_type": "execute_result",
          "data": {
            "text/plain": [
              "120"
            ]
          },
          "metadata": {},
          "execution_count": 4
        }
      ],
      "source": [
        "# 반복문을 이용한 팩토리얼 구현 코드\n",
        "# 곱하기 연산이 진행되기 때문에 output의 초기값은 1이다. 더하기 연산이 진행되는 경우는 0으로 초기값을 설정함.\n",
        "\n",
        "def oz_factorial(n):\n",
        "    output = 1\n",
        "    for i in range(1, n+1):\n",
        "        output *= i\n",
        "    return output\n",
        "\n",
        "oz_factorial(5)"
      ]
    },
    {
      "cell_type": "code",
      "source": [
        "# input을 사용하려면\n",
        "\n",
        "def oz_factorial(n):\n",
        "    output = 1\n",
        "    for i in range(1, n+1):\n",
        "        output *= i\n",
        "    return output\n",
        "\n",
        "n = int(input(\"구하고자하는  팩토리얼의 수를 입력해주세요\"))\n",
        "print(f'{n}의 결과는 {oz_factorial(n)}입니다.')"
      ],
      "metadata": {
        "colab": {
          "base_uri": "https://localhost:8080/"
        },
        "id": "TR5_A5eAp_WH",
        "outputId": "d8994c35-5952-47f3-e70f-ef45911fdc0d"
      },
      "execution_count": 5,
      "outputs": [
        {
          "output_type": "stream",
          "name": "stdout",
          "text": [
            "구하고자하는  팩토리얼의 수를 입력해주세요5\n",
            "5의 결과는 120입니다.\n"
          ]
        }
      ]
    },
    {
      "cell_type": "code",
      "source": [
        "# 재귀함수를 사용할 경우\n",
        "\n",
        "def oz_factorial(n):\n",
        "    if n == 0:\n",
        "        return 1\n",
        "    else:\n",
        "        return n * oz_factorial(n-1)      # 함수 내에서 자기 자신을 호출하면 재귀함수라고 생각!!\n",
        "                                          # => 종료 조건을 만날 때까지 반복\n",
        "n = int(input(\"구하고자하는  팩토리얼의 수를 입력해주세요\"))\n",
        "print(f'{n}의 결과는 {oz_factorial(n)}입니다.')\n",
        "# 5 *\n",
        "# oz_factorial(n-1) => 4 => n이 4\n",
        "# 5 * 4\n",
        "# oz_factorial(n-1) => 3 => n이 3\n",
        "# 5 * 4 * 3\n",
        "# oz_factorial(n-1) => 2\n",
        "# oz_factorial(n-1)이 계속 n으로 들어간다고 생각"
      ],
      "metadata": {
        "colab": {
          "base_uri": "https://localhost:8080/"
        },
        "id": "agrbD-KsqQnL",
        "outputId": "0f1bce3a-eb88-4ea9-de86-0637bf14af42"
      },
      "execution_count": 17,
      "outputs": [
        {
          "output_type": "stream",
          "name": "stdout",
          "text": [
            "구하고자하는  팩토리얼의 수를 입력해주세요5\n",
            "5의 결과는 120입니다.\n"
          ]
        }
      ]
    },
    {
      "cell_type": "markdown",
      "source": [
        "재귀 함수의 문제점\n",
        "\n",
        "* 무한루프에 빠질수 있음 -> 꼬리재귀로 문제해결 가능\n",
        "\n",
        "* 지속적인 함수 호출로 인해 함수 안에 변수를 계속해서 선언하게 되고 이로인해 과도한 메모리 사용과 속도 저하가 발생할 수 O\n",
        "\n",
        "    ->메모리제이션으로 문제해결 가능\n"
      ],
      "metadata": {
        "id": "2O0cs-0fxd3j"
      }
    },
    {
      "cell_type": "markdown",
      "source": [
        "피보나치 수열\n",
        "\n",
        ": 첫째 및 둘째 항이 1이며 그 뒤에 모든 항은 바로 앞 두 항의 합인 수열로 이루어져 있다.\n",
        "\n",
        "1행 = 1\n",
        "\n",
        "2행 = 1\n",
        "\n",
        "3행 = 2 (1행+2행)\n",
        "\n",
        "4행 = 3 (2행+3행)\n",
        "\n",
        "5행 = 5 (3행+4행)"
      ],
      "metadata": {
        "id": "Kk3cs816zA1q"
      }
    },
    {
      "cell_type": "code",
      "source": [
        "count = 0\n",
        "\n",
        "def oz_fibo(n):\n",
        "    print(f'피보나치 수열 {n}을 구하는 중입니다.')\n",
        "    global count\n",
        "    count += 1\n",
        "\n",
        "    if n == 1:\n",
        "        return 1\n",
        "    if n == 2:\n",
        "        return 1\n",
        "    else:\n",
        "        return oz_fibo(n-1) + oz_fibo(n-2)\n",
        "\n",
        "n = int(input(\"구하고자하는 피보나치의 수열의 수를 입력해주세요\"))\n",
        "oz_fibo(n)\n",
        "print(f'피보나치 수열 {n}을 구하기 위해 계산된 횟수는 {count}입니다.')"
      ],
      "metadata": {
        "colab": {
          "base_uri": "https://localhost:8080/"
        },
        "id": "iDZe1FoVzAFm",
        "outputId": "daa1032c-cd52-4d29-b99a-c97857c61cad"
      },
      "execution_count": 18,
      "outputs": [
        {
          "output_type": "stream",
          "name": "stdout",
          "text": [
            "구하고자하는 피보나치의 수열의 수를 입력해주세요5\n",
            "피보나치 수열 5을 구하는 중입니다.\n",
            "피보나치 수열 4을 구하는 중입니다.\n",
            "피보나치 수열 3을 구하는 중입니다.\n",
            "피보나치 수열 2을 구하는 중입니다.\n",
            "피보나치 수열 1을 구하는 중입니다.\n",
            "피보나치 수열 2을 구하는 중입니다.\n",
            "피보나치 수열 3을 구하는 중입니다.\n",
            "피보나치 수열 2을 구하는 중입니다.\n",
            "피보나치 수열 1을 구하는 중입니다.\n",
            "피보나치 수열 5을 구하기 위해 계산된 횟수는 9입니다.\n"
          ]
        }
      ]
    },
    {
      "cell_type": "code",
      "source": [
        "# 초기값으로 설정했던 첫번째와 두번째 결과값을 memo 변수에 dict형 자료형을 넣어 저장\n",
        "# oz_fibo() 함수 실행 시 memo 변수에 계산할 피보나치 수열의 결과값이 있는지 확인.\n",
        "# 있다면 계산 하지 않고 이미 계산되어 저장된 결과값을 이용\n",
        "# 만일 결과값이 저장되어 있지 않은 경우 계산을 하고, 계산된 결과값은 다음 계산에서 사용할 수 있도록 memo에 저장\n",
        "\n",
        "memo = {\n",
        "    1: 1,\n",
        "    2: 1\n",
        "}\n",
        "\n",
        "count = 0\n",
        "\n",
        "def oz_fibo(n):\n",
        "    print(f'피보나치 수열 {n}을 구하는 중입니다.')\n",
        "    global count\n",
        "    count += 1\n",
        "\n",
        "    if n in memo:\n",
        "        return memo[n]\n",
        "    else:\n",
        "        output = oz_fibo(n-1) + oz_fibo(n-2)\n",
        "        memo[n] = output\n",
        "        return output\n",
        "\n",
        "n = int(input(\"구하고자하는 피보나치의 수열의 수를 입력해주세요\"))\n",
        "oz_fibo(n)\n",
        "print(f'피보나치 수열 {n}을 구하기 위해 계산된 횟수는 {count}입니다.')"
      ],
      "metadata": {
        "colab": {
          "base_uri": "https://localhost:8080/"
        },
        "id": "S0BzaAto4wcw",
        "outputId": "1986184f-f70b-4935-d186-a08f08fe176d"
      },
      "execution_count": 19,
      "outputs": [
        {
          "output_type": "stream",
          "name": "stdout",
          "text": [
            "구하고자하는 피보나치의 수열의 수를 입력해주세요10\n",
            "피보나치 수열 10을 구하는 중입니다.\n",
            "피보나치 수열 9을 구하는 중입니다.\n",
            "피보나치 수열 8을 구하는 중입니다.\n",
            "피보나치 수열 7을 구하는 중입니다.\n",
            "피보나치 수열 6을 구하는 중입니다.\n",
            "피보나치 수열 5을 구하는 중입니다.\n",
            "피보나치 수열 4을 구하는 중입니다.\n",
            "피보나치 수열 3을 구하는 중입니다.\n",
            "피보나치 수열 2을 구하는 중입니다.\n",
            "피보나치 수열 1을 구하는 중입니다.\n",
            "피보나치 수열 2을 구하는 중입니다.\n",
            "피보나치 수열 3을 구하는 중입니다.\n",
            "피보나치 수열 4을 구하는 중입니다.\n",
            "피보나치 수열 5을 구하는 중입니다.\n",
            "피보나치 수열 6을 구하는 중입니다.\n",
            "피보나치 수열 7을 구하는 중입니다.\n",
            "피보나치 수열 8을 구하는 중입니다.\n",
            "피보나치 수열 10을 구하기 위해 계산된 횟수는 17입니다.\n"
          ]
        }
      ]
    },
    {
      "cell_type": "code",
      "source": [
        "# 재귀함수에 대한 설명 => 함수 내에서 자신의 함수를 호출"
      ],
      "metadata": {
        "id": "3JukhnOe6Dc_"
      },
      "execution_count": null,
      "outputs": []
    }
  ]
}