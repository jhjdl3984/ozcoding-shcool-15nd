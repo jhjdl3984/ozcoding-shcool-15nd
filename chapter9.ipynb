{
  "nbformat": 4,
  "nbformat_minor": 0,
  "metadata": {
    "colab": {
      "provenance": [],
      "authorship_tag": "ABX9TyMBqnXgf83KUmc8Dc6CUWLZ",
      "include_colab_link": true
    },
    "kernelspec": {
      "name": "python3",
      "display_name": "Python 3"
    },
    "language_info": {
      "name": "python"
    }
  },
  "cells": [
    {
      "cell_type": "markdown",
      "metadata": {
        "id": "view-in-github",
        "colab_type": "text"
      },
      "source": [
        "<a href=\"https://colab.research.google.com/github/jhjdl3984/ozcoding-shcool-15nd/blob/main/chapter9.ipynb\" target=\"_parent\"><img src=\"https://colab.research.google.com/assets/colab-badge.svg\" alt=\"Open In Colab\"/></a>"
      ]
    },
    {
      "cell_type": "markdown",
      "source": [
        "## 입력과 출력\n",
        "\n",
        "* 입력 : input()\n",
        "* 출력 : print()\n",
        "\n",
        "\n",
        "##### 함수와 메서드\n",
        ">함수: 어디에 속해있지 않고 단독 모듈이라 함수를 그냥 호출하여 사용이 가능  예) print(), input()\n",
        "https://docs.python.org/ko/3/library/functions.html\n",
        "\n",
        "메소드: 함수의 클래스 안에 속해 있고 클래스의 멤버 변수들을 이용해서 구현된것\n",
        "예) \"까먹으신건가요?\".count(\"까\") / \"까먹으신건가요?\".index(\"까\")"
      ],
      "metadata": {
        "id": "rud0Ii3tIbEv"
      }
    },
    {
      "cell_type": "code",
      "execution_count": null,
      "metadata": {
        "colab": {
          "base_uri": "https://localhost:8080/"
        },
        "id": "QHzErG7MIR3l",
        "outputId": "f3f28f92-6e20-47a5-ced0-79f060ed661f"
      },
      "outputs": [
        {
          "output_type": "stream",
          "name": "stdout",
          "text": [
            "(우리학교 최고 존잘남)아.... 안녕5\n",
            "<class 'str'>\n"
          ]
        }
      ],
      "source": [
        "#input으로 들어오는 값은 문자열\n",
        "인사 = input(\"(우리학교 최고 존잘남)아.... 안녕\")\n",
        "print(type(인사))"
      ]
    },
    {
      "cell_type": "code",
      "source": [
        "# str -> int 2가지 방법\n",
        "정수 = input()\n",
        "정수 = int(정수)\n",
        "print(정수, type(정수))\n",
        "\n",
        "정수 = int(input())\n",
        "print(정수, type(정수))"
      ],
      "metadata": {
        "colab": {
          "base_uri": "https://localhost:8080/"
        },
        "id": "BmXr8VwKMZPt",
        "outputId": "f7f5a087-0a9e-40a8-f30b-dc9797caf9dd"
      },
      "execution_count": null,
      "outputs": [
        {
          "output_type": "stream",
          "name": "stdout",
          "text": [
            "5\n",
            "5 <class 'int'>\n",
            "5\n",
            "5 <class 'int'>\n"
          ]
        }
      ]
    },
    {
      "cell_type": "code",
      "source": [
        "# srt -> float 두가지 방법\n",
        "실수 = input()\n",
        "실수 = float(실수)\n",
        "print(실수, type(실수))\n",
        "\n",
        "실수 = float(input())\n",
        "print(실수, type(실수))"
      ],
      "metadata": {
        "colab": {
          "base_uri": "https://localhost:8080/"
        },
        "id": "9ih7qwlcOGoL",
        "outputId": "44058486-e91f-4a77-f79b-991cd70c95e6"
      },
      "execution_count": null,
      "outputs": [
        {
          "output_type": "stream",
          "name": "stdout",
          "text": [
            "5\n",
            "5.0 <class 'float'>\n",
            "5\n",
            "5.0 <class 'float'>\n"
          ]
        }
      ]
    },
    {
      "cell_type": "markdown",
      "source": [
        "그 외 입력값의 형변환이 가능한 종류\n",
        "* tuple()\n",
        "* list()\n",
        "* dict()\n",
        "* set()"
      ],
      "metadata": {
        "id": "YQOSUTSkO-AX"
      }
    },
    {
      "cell_type": "code",
      "source": [
        "# 변수가 2개이상이면 XX\n",
        "넌센스, 정답 = input()"
      ],
      "metadata": {
        "colab": {
          "base_uri": "https://localhost:8080/",
          "height": 162
        },
        "id": "YLpm4h8tPP61",
        "outputId": "34877add-f314-4381-f67c-f39a6886789d"
      },
      "execution_count": null,
      "outputs": [
        {
          "name": "stdout",
          "output_type": "stream",
          "text": [
            "될까?\n"
          ]
        },
        {
          "output_type": "error",
          "ename": "ValueError",
          "evalue": "too many values to unpack (expected 2)",
          "traceback": [
            "\u001b[0;31m---------------------------------------------------------------------------\u001b[0m",
            "\u001b[0;31mValueError\u001b[0m                                Traceback (most recent call last)",
            "\u001b[0;32m/tmp/ipython-input-1124558589.py\u001b[0m in \u001b[0;36m<cell line: 0>\u001b[0;34m()\u001b[0m\n\u001b[0;32m----> 1\u001b[0;31m \u001b[0m넌센스\u001b[0m\u001b[0;34m,\u001b[0m \u001b[0m정답\u001b[0m \u001b[0;34m=\u001b[0m \u001b[0minput\u001b[0m\u001b[0;34m(\u001b[0m\u001b[0;34m)\u001b[0m\u001b[0;34m\u001b[0m\u001b[0;34m\u001b[0m\u001b[0m\n\u001b[0m",
            "\u001b[0;31mValueError\u001b[0m: too many values to unpack (expected 2)"
          ]
        }
      ]
    },
    {
      "cell_type": "code",
      "source": [
        "넌센스, 정답 = input().split()\n",
        "print(f'넌센스 퀴즈 : {넌센스}')\n",
        "print(f'정답 : {정답}')"
      ],
      "metadata": {
        "colab": {
          "base_uri": "https://localhost:8080/"
        },
        "id": "f6Qbjk6JQd-U",
        "outputId": "f4cb140c-8884-4600-c9f8-e3e86869d6d6"
      },
      "execution_count": null,
      "outputs": [
        {
          "output_type": "stream",
          "name": "stdout",
          "text": [
            "스페인에서에스파를만나면? 에스파냐\n",
            "넌센스 퀴즈 : 스페인에서에스파를만나면?\n",
            "정답 : 에스파냐\n"
          ]
        }
      ]
    },
    {
      "cell_type": "code",
      "source": [
        "# 띄어쓰기\n",
        "넌센스, 정답 = input().split(',')\n",
        "print(f'넌센스 퀴즈 : {넌센스}')\n",
        "print(f'정답 : {정답}')"
      ],
      "metadata": {
        "colab": {
          "base_uri": "https://localhost:8080/"
        },
        "id": "pESFaOURQy-B",
        "outputId": "8949c7de-068f-42c5-f790-266f359d70a5"
      },
      "execution_count": null,
      "outputs": [
        {
          "output_type": "stream",
          "name": "stdout",
          "text": [
            "스페인에서 에스파를 만나면?, 에스파냐\n",
            "넌센스 퀴즈 : 스페인에서 에스파를 만나면?\n",
            "정답 :  에스파냐\n"
          ]
        }
      ]
    },
    {
      "cell_type": "code",
      "source": [
        "# 시퀀스 자료형에 다 지원되는 메소드\n",
        "번호1, 번호2, 번호3, 번호4 = input().split(\",\")\n",
        "\n",
        "번호1 = int(번호1)\n",
        "번호2 = int(번호2)\n",
        "번호3 = int(번호3)\n",
        "번호4 = int(번호4)\n",
        "print(번호1, 번호2, 번호3, 번호4)"
      ],
      "metadata": {
        "colab": {
          "base_uri": "https://localhost:8080/"
        },
        "id": "3hiNqAlzRKrD",
        "outputId": "8e5290b8-19e6-4d55-9e58-33365883534e"
      },
      "execution_count": null,
      "outputs": [
        {
          "output_type": "stream",
          "name": "stdout",
          "text": [
            "3382, 93939, 48482, 49293\n",
            "<class 'int'> 93939 48482 49293\n"
          ]
        }
      ]
    },
    {
      "cell_type": "code",
      "source": [
        "# map()\n",
        "번호1, 번호2, 번호3, 번호4 = map(int, input().split(','))\n",
        "print(type(번호1), 번호2, 번호3, 번호4)"
      ],
      "metadata": {
        "colab": {
          "base_uri": "https://localhost:8080/"
        },
        "id": "fhZWfiRvXTzq",
        "outputId": "4e19588c-46de-42be-929f-45979aa3c62b"
      },
      "execution_count": null,
      "outputs": [
        {
          "output_type": "stream",
          "name": "stdout",
          "text": [
            "39123, 31, 492, 4928\n",
            "<class 'int'> 31 492 4928\n"
          ]
        }
      ]
    },
    {
      "cell_type": "code",
      "source": [
        "# 레거시: 누군가 남겨두고간 코드\n",
        "# 리팩토링: 결과의 변경 없이 코드의 구조를 재조장하는 것"
      ],
      "metadata": {
        "id": "1kLyq8ObXYAN"
      },
      "execution_count": null,
      "outputs": []
    },
    {
      "cell_type": "code",
      "source": [
        "# print() 함수에 기능을 이용해보겠습니다.\n",
        "\n",
        "print(\"초코칩\", \"민트\", \"샷추가\", \"휘핑크림\")\n",
        "print(\"초코칩\", \"민트\", \"샷추가\", \"휘핑크림\", sep='/')\n",
        "print(\"초코칩\", \"민트\", \"샷추가\", \"휘핑크림\", sep=':')\n",
        "print(\"초코칩\", \"민트\", \"샷추가\", \"휘핑크림\", sep='    ')\n",
        "print(\"초코칩\", \"민트\", \"샷추가\", \"휘핑크림\", sep='\\n')\n",
        "\n",
        "# sep= 은 \" \"를 기준으로 출력시 그 사이에 넣어서 출력됨"
      ],
      "metadata": {
        "colab": {
          "base_uri": "https://localhost:8080/"
        },
        "id": "sPlXumIfZ4bA",
        "outputId": "e2f71ef8-ad62-4e40-8468-7338302115da"
      },
      "execution_count": null,
      "outputs": [
        {
          "output_type": "stream",
          "name": "stdout",
          "text": [
            "초코칩 민트 샷추가 휘핑크림\n",
            "초코칩/민트/샷추가/휘핑크림\n",
            "초코칩:민트:샷추가:휘핑크림\n",
            "초코칩    민트    샷추가    휘핑크림\n",
            "초코칩\n",
            "민트\n",
            "샷추가\n",
            "휘핑크림\n"
          ]
        }
      ]
    },
    {
      "cell_type": "code",
      "source": [
        "# end\n",
        "\n",
        "print(\"초코칩\", \"민트\", \"샷추가\", \"휘핑크림\", end = ' ')\n",
        "print(\"초코칩\", \"민트\", \"샷추가\", \"휘핑크림\", end = ' ')"
      ],
      "metadata": {
        "colab": {
          "base_uri": "https://localhost:8080/"
        },
        "id": "1M52BlFHbL3j",
        "outputId": "9710babc-6ba2-458a-a418-f0fe42d778e6"
      },
      "execution_count": null,
      "outputs": [
        {
          "output_type": "stream",
          "name": "stdout",
          "text": [
            "초코칩 민트 샷추가 휘핑크림 초코칩 민트 샷추가 휘핑크림 "
          ]
        }
      ]
    }
  ]
}