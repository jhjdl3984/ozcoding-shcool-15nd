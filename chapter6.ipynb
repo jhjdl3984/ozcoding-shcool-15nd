{
  "nbformat": 4,
  "nbformat_minor": 0,
  "metadata": {
    "colab": {
      "provenance": [],
      "authorship_tag": "ABX9TyNN4xvfWhCQYyZvzJn3zLTr",
      "include_colab_link": true
    },
    "kernelspec": {
      "name": "python3",
      "display_name": "Python 3"
    },
    "language_info": {
      "name": "python"
    }
  },
  "cells": [
    {
      "cell_type": "markdown",
      "metadata": {
        "id": "view-in-github",
        "colab_type": "text"
      },
      "source": [
        "<a href=\"https://colab.research.google.com/github/jhjdl3984/ozcoding-shcool-15nd/blob/main/chapter6.ipynb\" target=\"_parent\"><img src=\"https://colab.research.google.com/assets/colab-badge.svg\" alt=\"Open In Colab\"/></a>"
      ]
    },
    {
      "cell_type": "markdown",
      "source": [
        "# 자료형(int, float)"
      ],
      "metadata": {
        "id": "UpLdrt_NpdGk"
      }
    },
    {
      "cell_type": "code",
      "source": [
        "# float : 실수"
      ],
      "metadata": {
        "id": "O11zPHMUjPHt"
      },
      "execution_count": null,
      "outputs": []
    },
    {
      "cell_type": "markdown",
      "source": [
        "### 형변환(형태를 변환)"
      ],
      "metadata": {
        "id": "SlRVuowglYUZ"
      }
    },
    {
      "cell_type": "code",
      "source": [
        "# int -> float\n",
        "\n",
        "a = 5\n",
        "b = float(a)\n",
        "print(b)"
      ],
      "metadata": {
        "colab": {
          "base_uri": "https://localhost:8080/"
        },
        "id": "G24HhdaZkV2A",
        "outputId": "d1cf6154-d9fd-4ebb-94e4-99bd19b1ecb6"
      },
      "execution_count": null,
      "outputs": [
        {
          "output_type": "stream",
          "name": "stdout",
          "text": [
            "5.0\n"
          ]
        }
      ]
    },
    {
      "cell_type": "code",
      "execution_count": null,
      "metadata": {
        "colab": {
          "base_uri": "https://localhost:8080/"
        },
        "id": "EWV9T0Izi6Lq",
        "outputId": "2f2c58b0-71b3-44d8-93c7-7cd90d5ce6e9"
      },
      "outputs": [
        {
          "output_type": "stream",
          "name": "stdout",
          "text": [
            "5\n",
            "4\n"
          ]
        }
      ],
      "source": [
        "# float -> int\n",
        "\n",
        "a = 5.0\n",
        "b = int(a)\n",
        "print(b)\n",
        "\n",
        "# 소수점은 버린다\n",
        "a = 4.9\n",
        "b = int(a)\n",
        "print(b)"
      ]
    },
    {
      "cell_type": "code",
      "source": [
        "나이 = 10\n",
        "type(나이)\n",
        "print(dir(나이))"
      ],
      "metadata": {
        "colab": {
          "base_uri": "https://localhost:8080/"
        },
        "id": "TSxYZc-roD4q",
        "outputId": "1b1f15e4-c0bf-4763-d676-f9dd9e565025"
      },
      "execution_count": null,
      "outputs": [
        {
          "output_type": "stream",
          "name": "stdout",
          "text": [
            "['__abs__', '__add__', '__and__', '__bool__', '__ceil__', '__class__', '__delattr__', '__dir__', '__divmod__', '__doc__', '__eq__', '__float__', '__floor__', '__floordiv__', '__format__', '__ge__', '__getattribute__', '__getnewargs__', '__getstate__', '__gt__', '__hash__', '__index__', '__init__', '__init_subclass__', '__int__', '__invert__', '__le__', '__lshift__', '__lt__', '__mod__', '__mul__', '__ne__', '__neg__', '__new__', '__or__', '__pos__', '__pow__', '__radd__', '__rand__', '__rdivmod__', '__reduce__', '__reduce_ex__', '__repr__', '__rfloordiv__', '__rlshift__', '__rmod__', '__rmul__', '__ror__', '__round__', '__rpow__', '__rrshift__', '__rshift__', '__rsub__', '__rtruediv__', '__rxor__', '__setattr__', '__sizeof__', '__str__', '__sub__', '__subclasshook__', '__truediv__', '__trunc__', '__xor__', 'as_integer_ratio', 'bit_count', 'bit_length', 'conjugate', 'denominator', 'from_bytes', 'imag', 'is_integer', 'numerator', 'real', 'to_bytes']\n"
          ]
        }
      ]
    },
    {
      "cell_type": "code",
      "source": [
        "print(나이.bit_length())\n",
        "print(bin(나이))"
      ],
      "metadata": {
        "colab": {
          "base_uri": "https://localhost:8080/"
        },
        "id": "Urj-I8y4oIke",
        "outputId": "885f61a2-2058-4390-beb0-93ecf06fcba7"
      },
      "execution_count": null,
      "outputs": [
        {
          "output_type": "stream",
          "name": "stdout",
          "text": [
            "4\n",
            "0b1010\n"
          ]
        }
      ]
    },
    {
      "cell_type": "markdown",
      "source": [],
      "metadata": {
        "id": "6cN_MTDypPO1"
      }
    }
  ]
}