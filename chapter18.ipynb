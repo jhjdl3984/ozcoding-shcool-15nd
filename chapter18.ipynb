{
  "nbformat": 4,
  "nbformat_minor": 0,
  "metadata": {
    "colab": {
      "provenance": [],
      "authorship_tag": "ABX9TyMrYAceg9668N7pkTtyZUYQ",
      "include_colab_link": true
    },
    "kernelspec": {
      "name": "python3",
      "display_name": "Python 3"
    },
    "language_info": {
      "name": "python"
    }
  },
  "cells": [
    {
      "cell_type": "markdown",
      "metadata": {
        "id": "view-in-github",
        "colab_type": "text"
      },
      "source": [
        "<a href=\"https://colab.research.google.com/github/jhjdl3984/ozcoding-shcool-15nd/blob/main/chapter18.ipynb\" target=\"_parent\"><img src=\"https://colab.research.google.com/assets/colab-badge.svg\" alt=\"Open In Colab\"/></a>"
      ]
    },
    {
      "cell_type": "markdown",
      "source": [
        "##클래스"
      ],
      "metadata": {
        "id": "JFv7nxTzo347"
      }
    },
    {
      "cell_type": "code",
      "execution_count": null,
      "metadata": {
        "id": "lyLpg-ctoxZd"
      },
      "outputs": [],
      "source": [
        "# 클래스 구조\n",
        "\n",
        "class 클래스이름:\n",
        "    def 메서드(self):\n",
        "        코드"
      ]
    },
    {
      "cell_type": "code",
      "source": [
        "class Person:\n",
        "    def hello(self):    # self => 인스턴스 자기 자신을 의미 => Person()이 self에 들어감\n",
        "        print(\"수강생 여러분\")\n",
        "\n",
        "호출 = Person()    # Person() => 인스턴스\n",
        "호출.hello()"
      ],
      "metadata": {
        "colab": {
          "base_uri": "https://localhost:8080/"
        },
        "id": "mqe6YWiLqTER",
        "outputId": "741f4bf5-b33d-435f-c436-e6cb2952e085"
      },
      "execution_count": 2,
      "outputs": [
        {
          "output_type": "stream",
          "name": "stdout",
          "text": [
            "수강생 여러분\n"
          ]
        }
      ]
    },
    {
      "cell_type": "markdown",
      "source": [
        "####인스턴스 = 객체\n",
        "but,\n",
        "\n",
        "인스턴스 => 클래스와 동반됨\n",
        "\n",
        "객체 => 객체 자체를 언글할 때 사용됨"
      ],
      "metadata": {
        "id": "Q5auMewpvE3s"
      }
    },
    {
      "cell_type": "code",
      "source": [
        "class Person:\n",
        "    def __init__(self):\n",
        "        self.hello = \"안녕하세요\"\n",
        "\n",
        "    def greeting(self):\n",
        "        print(self.hello)\n",
        "\n",
        "호출 = Person()\n",
        "호출.greeting()     # greeting은 함수니까 호출.greeting가 아니고 호출.greeting()"
      ],
      "metadata": {
        "colab": {
          "base_uri": "https://localhost:8080/"
        },
        "id": "VTBpHi94vsOK",
        "outputId": "2027c7ce-308c-4438-e1e7-ac81dacc757a"
      },
      "execution_count": 8,
      "outputs": [
        {
          "output_type": "stream",
          "name": "stdout",
          "text": [
            "안녕하세요\n"
          ]
        }
      ]
    },
    {
      "cell_type": "code",
      "source": [
        "class Person:\n",
        "    def __init__(self, name, age, address):    # self => ('마리아', 20, '서울시 서초구 반포동')\n",
        "                                               # name => \"마리아\"\n",
        "                                               # age => 20\n",
        "                                               # address => '서울시 서초구 반포동'\n",
        "        self.hello = \"안녕하세요\"\n",
        "        self.name = name\n",
        "        self.age = age\n",
        "        self.address = address\n",
        "\n",
        "    def greeting(self):\n",
        "        print('{0} 저는 {1} 입니다.'.format(self.hello, self.name))\n",
        "\n",
        "maria = Person('마리아', 20, '서울시 서초구 반포동')\n",
        "maria.greeting()\n",
        "\n",
        "print(\"이름:\", maria.name)     # 클래스 외부에서는 self라고 쓰지않고, 인스턴스 이름을 사용(maria)\n",
        "print(\"나이:\", maria.age)\n",
        "print(\"주소:\", maria.address)"
      ],
      "metadata": {
        "colab": {
          "base_uri": "https://localhost:8080/"
        },
        "id": "DEYeLlRuzlMY",
        "outputId": "6e29883d-e77a-47d7-eacc-cccfa2912f60"
      },
      "execution_count": 13,
      "outputs": [
        {
          "output_type": "stream",
          "name": "stdout",
          "text": [
            "안녕하세요 저는 마리아 입니다.\n",
            "이름: 마리아\n",
            "나이: 20\n",
            "주소: 서울시 서초구 반포동\n"
          ]
        }
      ]
    },
    {
      "cell_type": "markdown",
      "source": [
        "####클래스의 상속\n",
        "기반 클래스 -> 파생 클래스\n",
        "\n",
        "* 기반 클래스 => 기능을 물려주는 클래스\n",
        "\n",
        "* 파생 클래스 => 기능을 물려받는 클래스"
      ],
      "metadata": {
        "id": "70Kv4ZcE-cJx"
      }
    },
    {
      "cell_type": "code",
      "source": [
        "class Car(object):                  # 기반 클래스\n",
        "    maxspeed = 300\n",
        "    maxpeople = 5\n",
        "    def move(self, x):\n",
        "        print(\"스피드로 달리고 있습니다\")\n",
        "    def stop(self):\n",
        "        print(\"멈췄습니다\")\n",
        "\n",
        "class HydridCar(Car):                # 파생 클래스\n",
        "    battery = 1000\n",
        "    batteryKM = 300\n",
        "    # maxspeed = 300\n",
        "    # maxpeople = 5\n",
        "    # def move(self, x):\n",
        "    #     print(\"스피드로 달리고 있습니다\")\n",
        "    # def stop(self):\n",
        "    #     print(\"멈췄습니다\")\n",
        "\n",
        "\n",
        "k5 = HydridCar()\n",
        "k5.maxspeed            # maxspeed는 변수니까 k5.maxspeed()가 아니고 k5.maxspeed"
      ],
      "metadata": {
        "colab": {
          "base_uri": "https://localhost:8080/"
        },
        "id": "gUq_mNLj4j9L",
        "outputId": "4dc0369e-8513-4b63-b23e-0a6d1af0533e"
      },
      "execution_count": 18,
      "outputs": [
        {
          "output_type": "execute_result",
          "data": {
            "text/plain": [
              "300"
            ]
          },
          "metadata": {},
          "execution_count": 18
        }
      ]
    },
    {
      "cell_type": "code",
      "source": [
        "class Car(object):\n",
        "    maxspeed = 300\n",
        "    maxpeople = 5\n",
        "    def move(self, x):\n",
        "        print(\"스피드로 달리고 있습니다\")\n",
        "    def stop(self):\n",
        "        print(\"멈췄습니다\")\n",
        "\n",
        "class HydridCar(Car):\n",
        "    battery = 1000\n",
        "    batteryKM = 300\n",
        "\n",
        "class ElectricCar(HydridCar):\n",
        "    battery = 1000\n",
        "    batteryKM = 300\n",
        "\n",
        "k5 = HydridCar()\n",
        "k5.maxspeed\n",
        "\n",
        "electricCark5 = ElectricCar()\n",
        "electricCark5.maxspeed"
      ],
      "metadata": {
        "colab": {
          "base_uri": "https://localhost:8080/"
        },
        "id": "kgpf5-UlHnjC",
        "outputId": "c7dee85c-fdfd-47a0-8041-775797047621"
      },
      "execution_count": 25,
      "outputs": [
        {
          "output_type": "execute_result",
          "data": {
            "text/plain": [
              "300"
            ]
          },
          "metadata": {},
          "execution_count": 25
        }
      ]
    },
    {
      "cell_type": "code",
      "source": [
        "class Car(object):\n",
        "    maxspeed = 300\n",
        "    maxpeople = 5\n",
        "    def move(self, x):\n",
        "        print(\"스피드로 달리고 있습니다\")\n",
        "    def stop(self):\n",
        "        print(\"멈췄습니다\")\n",
        "\n",
        "class HydridCar(Car):\n",
        "    battery = 1000\n",
        "    batteryKM = 300\n",
        "\n",
        "class ElectricCar(HydridCar):\n",
        "    battery = 1000\n",
        "    batteryKM = 300\n",
        "    def move(self, x):\n",
        "        print(self.batteryKM, \"만큼 달릴 수 있습니다.\")\n",
        "        print(x, \"스피드로 달리고 있습니다.\")\n",
        "\n",
        "k5 = HydridCar()\n",
        "k5.maxspeed\n",
        "\n",
        "electricCark5 = ElectricCar()\n",
        "electricCark5.maxspeed       # 이게 마지막 줄이면 출력되는데 마지막 줄이 아니라 출력 X\n",
        "electricCark5.battery        # 얘도 같은 이유로 출력 X\n",
        "electricCark5.move(10)       # 클래스 Car에 있는 move함수와\n",
        "                             # 클래스 ElectricCar에 있는 move함수가 중복이지만\n",
        "                             # 현재 클래스에서 먼저 찾는다 => 메서드 오버라이딩\n",
        "                             # self.batteryKM도 같은 맥락"
      ],
      "metadata": {
        "colab": {
          "base_uri": "https://localhost:8080/"
        },
        "id": "dTjxJqGVMqxn",
        "outputId": "b0d86956-d77f-4efa-9c55-4ca76ec92898"
      },
      "execution_count": 37,
      "outputs": [
        {
          "output_type": "stream",
          "name": "stdout",
          "text": [
            "300 만큼 달릴 수 있습니다.\n",
            "10 스피드로 달리고 있습니다.\n"
          ]
        }
      ]
    }
  ]
}