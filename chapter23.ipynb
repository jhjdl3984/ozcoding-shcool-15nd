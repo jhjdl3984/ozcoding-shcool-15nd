{
  "nbformat": 4,
  "nbformat_minor": 0,
  "metadata": {
    "colab": {
      "provenance": [],
      "authorship_tag": "ABX9TyPqMkIOWqPBI2Qw3ccdaDI1",
      "include_colab_link": true
    },
    "kernelspec": {
      "name": "python3",
      "display_name": "Python 3"
    },
    "language_info": {
      "name": "python"
    }
  },
  "cells": [
    {
      "cell_type": "markdown",
      "metadata": {
        "id": "view-in-github",
        "colab_type": "text"
      },
      "source": [
        "<a href=\"https://colab.research.google.com/github/jhjdl3984/ozcoding-shcool-15nd/blob/main/chapter23.ipynb\" target=\"_parent\"><img src=\"https://colab.research.google.com/assets/colab-badge.svg\" alt=\"Open In Colab\"/></a>"
      ]
    },
    {
      "cell_type": "markdown",
      "source": [
        "##기본 매개변수\n",
        "* 일반 매개변수 => 우리가 여태 배웠던 매개변수\n",
        "* 기본 매개변수 => 매개변수에 기본값을 지정하는 것\n",
        "\n",
        "(매개변수에 기본값을 지정해주지 않으면 => 일반 매개변수)"
      ],
      "metadata": {
        "id": "z7c-dofjwwap"
      }
    },
    {
      "cell_type": "markdown",
      "source": [
        "###기본 매개변수 주의점\n",
        "* 기본 매개변수 뒤에는 일반 매개변수가 올 수 X => def 함수명(일반매개변수, 기본매개변수=기본값)"
      ],
      "metadata": {
        "id": "C6534Q4cxvBi"
      }
    },
    {
      "cell_type": "code",
      "execution_count": 2,
      "metadata": {
        "colab": {
          "base_uri": "https://localhost:8080/"
        },
        "id": "ayJDTyLHwdSk",
        "outputId": "3490b291-2981-47d7-bcc5-349f33e71562"
      },
      "outputs": [
        {
          "output_type": "stream",
          "name": "stdout",
          "text": [
            "일반 매개변수 다음에 기본 매개변수를 배치해야함\n",
            "일반 매개변수 다음에 기본 매개변수를 배치해야함\n"
          ]
        }
      ],
      "source": [
        "# 함수 호출 시, argument에 기본 매개변수를 넣지 않으면 함수 정의에서 설정해 놓은 기본값으로 대체\n",
        "def oz(value, n=2):\n",
        "    for i in range(n):\n",
        "        print(value)\n",
        "\n",
        "oz(\"일반 매개변수 다음에 기본 매개변수를 배치해야함\")"
      ]
    },
    {
      "cell_type": "code",
      "source": [
        "def oz(value, n=2):\n",
        "    for i in range(n):\n",
        "        print(value)\n",
        "\n",
        "oz(\"일반 매개변수 다음에 기본 매개변수를 배치해야함\", 10)\n",
        "# oz(\"일반 매개변수 다음에 기본 매개변수를 배치해야함\", n=10) 도 가능"
      ],
      "metadata": {
        "colab": {
          "base_uri": "https://localhost:8080/"
        },
        "id": "pjlIIiDI4bgU",
        "outputId": "f37cf863-402d-4c0d-a93f-995e536f7d1b"
      },
      "execution_count": 6,
      "outputs": [
        {
          "output_type": "stream",
          "name": "stdout",
          "text": [
            "일반 매개변수 다음에 기본 매개변수를 배치해야함\n",
            "일반 매개변수 다음에 기본 매개변수를 배치해야함\n",
            "일반 매개변수 다음에 기본 매개변수를 배치해야함\n",
            "일반 매개변수 다음에 기본 매개변수를 배치해야함\n",
            "일반 매개변수 다음에 기본 매개변수를 배치해야함\n",
            "일반 매개변수 다음에 기본 매개변수를 배치해야함\n",
            "일반 매개변수 다음에 기본 매개변수를 배치해야함\n",
            "일반 매개변수 다음에 기본 매개변수를 배치해야함\n",
            "일반 매개변수 다음에 기본 매개변수를 배치해야함\n",
            "일반 매개변수 다음에 기본 매개변수를 배치해야함\n"
          ]
        }
      ]
    },
    {
      "cell_type": "code",
      "source": [
        "# 기본 매개변수의 역할은? => 매개변수에 기본 값을 지정해 줌\n",
        "\n",
        "# 기본 매개변수를 사용하기 위한 문법은? => def 함수명(일반 매개변수, 기본 매개변수=기본값)\n",
        "\n",
        "# 기본 매개변수의 사용 시 제약 조건은? => 일반 매개변수 뒤에 써줘야함"
      ],
      "metadata": {
        "id": "cVfmb54a5m_D"
      },
      "execution_count": null,
      "outputs": []
    }
  ]
}