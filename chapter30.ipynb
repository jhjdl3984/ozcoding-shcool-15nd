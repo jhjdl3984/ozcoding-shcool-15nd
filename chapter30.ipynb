{
  "nbformat": 4,
  "nbformat_minor": 0,
  "metadata": {
    "colab": {
      "provenance": [],
      "authorship_tag": "ABX9TyO24+9A+ZvskzLSBC8oiRQX",
      "include_colab_link": true
    },
    "kernelspec": {
      "name": "python3",
      "display_name": "Python 3"
    },
    "language_info": {
      "name": "python"
    }
  },
  "cells": [
    {
      "cell_type": "markdown",
      "metadata": {
        "id": "view-in-github",
        "colab_type": "text"
      },
      "source": [
        "<a href=\"https://colab.research.google.com/github/jhjdl3984/ozcoding-shcool-15nd/blob/main/chapter30.ipynb\" target=\"_parent\"><img src=\"https://colab.research.google.com/assets/colab-badge.svg\" alt=\"Open In Colab\"/></a>"
      ]
    },
    {
      "cell_type": "markdown",
      "source": [
        "##람다\n",
        "*함수 자체를 매개변수로 사용하기 쉽도록 돕는 기능\n",
        "\n",
        "*간단한 함수를 쉽게 선언하는 방법 -> 이름이 없는 익명함수를 만들 수 O"
      ],
      "metadata": {
        "id": "7iiH2l29S8Qz"
      }
    },
    {
      "cell_type": "code",
      "execution_count": null,
      "metadata": {
        "colab": {
          "base_uri": "https://localhost:8080/"
        },
        "id": "bUf3xhcWS4H4",
        "outputId": "fd25f064-0391-4d62-cad4-56326a522b9b"
      },
      "outputs": [
        {
          "output_type": "stream",
          "name": "stdout",
          "text": [
            "파이썬 이건 또 무슨 개념이야?\n",
            "파이썬 이건 또 무슨 개념이야?\n",
            "파이썬 이건 또 무슨 개념이야?\n",
            "파이썬 이건 또 무슨 개념이야?\n",
            "파이썬 이건 또 무슨 개념이야?\n"
          ]
        }
      ],
      "source": [
        "# 콜백 함수 => 함수의 매개변수로 사용되는 함수\n",
        "\n",
        "def oz_call(function):\n",
        "    for i in range(5):\n",
        "        function()\n",
        "\n",
        "def talk():\n",
        "    print(\"파이썬 이건 또 무슨 개념이야?\")\n",
        "\n",
        "oz_call(talk)          # oz_call 함수의 argument로 talk 함수가 사용됨\n",
        "                       # 콜백함수는 () 쓰지 않기 => oz_call(talk()) X\n",
        "# 콜백함수 => talk 함수"
      ]
    },
    {
      "cell_type": "markdown",
      "source": [
        "함수를 매개변수로 사용하는 대표적인 내장 함수 => map() 함수, filter() 함수\n",
        "\n",
        "* map(): 리스트의 요소를 함수에 넣고 리턴된 값으로 새로운 리스트를 구성\n",
        "\n",
        "* filter(): 리스트의 요소를 함수에 넣고 리턴된 값이 True인 값만을 새로운 리스트로 구성\n"
      ],
      "metadata": {
        "id": "VwGbHyfeXjiJ"
      }
    },
    {
      "cell_type": "code",
      "source": [
        "# map() 함수\n",
        "# 자기 자신을 곱한 결과를 새로운 list로 만들기\n",
        "\n",
        "def square(i):\n",
        "    return i * i\n",
        "\n",
        "numbers_list = [1, 2, 3, 4, 5, 6, 7, 8, 9, 10]\n",
        "\n",
        "result = map(square, numbers_list)      # map(함수, 리스트)\n",
        "\n",
        "print(\"map 결과:\", result)        # map object 형태로 나옴\n",
        "print(\"map 결과의 list 형변환:\", list(result))"
      ],
      "metadata": {
        "colab": {
          "base_uri": "https://localhost:8080/"
        },
        "id": "uy5VTcbSXjEz",
        "outputId": "41d0512d-57e6-4942-ec54-6176431989fa"
      },
      "execution_count": null,
      "outputs": [
        {
          "output_type": "stream",
          "name": "stdout",
          "text": [
            "map 결과: <map object at 0x7b26acce7b80>\n",
            "map 결과의 list 형변환: [1, 4, 9, 16, 25, 36, 49, 64, 81, 100]\n"
          ]
        }
      ]
    },
    {
      "cell_type": "code",
      "source": [
        "# filter() 함수\n",
        "# 조건에 맞는 값만을 이용해 새로운 list를 만들기\n",
        "\n",
        "def under(i):\n",
        "    return i < 5\n",
        "\n",
        "numbers_list = [1, 2, 3, 4, 5, 6, 7, 8, 9, 10]\n",
        "\n",
        "result = filter(under, numbers_list)      # filter(함수, 리스트)\n",
        "\n",
        "print(\"filter 결과:\", result)        # filter object 형태로 나옴\n",
        "print(\"filter 결과의 list 형변환:\", list(result))"
      ],
      "metadata": {
        "colab": {
          "base_uri": "https://localhost:8080/"
        },
        "id": "z_v8bJFMT58J",
        "outputId": "d44c63ae-cb3f-43fe-b48f-7ff79b4d7b89"
      },
      "execution_count": null,
      "outputs": [
        {
          "output_type": "stream",
          "name": "stdout",
          "text": [
            "map 결과: <filter object at 0x7b269d6a7bb0>\n",
            "map 결과의 list 형변환: [1, 2, 3, 4]\n"
          ]
        }
      ]
    },
    {
      "cell_type": "code",
      "source": [
        "<map object at 0x7b26acce7b80>, <filter object at 0x7b269d6a7bb0> => 제너레이터"
      ],
      "metadata": {
        "id": "emvUJYQ0bFfz"
      },
      "execution_count": null,
      "outputs": []
    },
    {
      "cell_type": "markdown",
      "source": [
        "lambda 버전"
      ],
      "metadata": {
        "id": "Wd9wx1itkdAo"
      }
    },
    {
      "cell_type": "code",
      "source": [
        "# 위 map() 함수의 lambda버전\n",
        "\n",
        "square = lambda i : i * i            # 새로 만들 함수명 = lambda 매개변수 : 리턴값\n",
        "                                     # square => 함수\n",
        "                                     # i => 매개변수\n",
        "                                     # i * i => 리턴값\n",
        "                                     # i를 받아서 i * i의 결과를 리턴\n",
        "numbers_list = [1, 2, 3, 4, 5, 6, 7, 8, 9, 10]\n",
        "\n",
        "result = map(square, numbers_list)   # numbers_list의 요소를 square 함수에 전달\n",
        "\n",
        "print(\"map 결과:\", result)\n",
        "print(\"map 결과의 list 형변환:\", list(result))\n",
        "# 람다 함수가 결과값을 바로 return 하는것을 알 수 O"
      ],
      "metadata": {
        "colab": {
          "base_uri": "https://localhost:8080/"
        },
        "id": "aU2IK4SvcHGY",
        "outputId": "964383af-06e6-4c05-8c15-52d9b9a3923a"
      },
      "execution_count": null,
      "outputs": [
        {
          "output_type": "stream",
          "name": "stdout",
          "text": [
            "map 결과: <map object at 0x7b26acce6050>\n",
            "map 결과의 list 형변환: [1, 4, 9, 16, 25, 36, 49, 64, 81, 100]\n"
          ]
        }
      ]
    },
    {
      "cell_type": "code",
      "source": [
        "# 위 filter()함수의 lambda버전\n",
        "\n",
        "under = lambda i : i < 5       # 새로 만들 함수명 = lambda 매개변수 : 반환되는 조건식\n",
        "\n",
        "numbers_list = [1, 2, 3, 4, 5, 6, 7, 8, 9, 10]\n",
        "\n",
        "result = filter(under, numbers_list)\n",
        "\n",
        "print(\"filter 결과:\", result)\n",
        "print(\"filter 결과의 list 형변환:\", list(result))"
      ],
      "metadata": {
        "colab": {
          "base_uri": "https://localhost:8080/"
        },
        "id": "bDdU7Oymh7hz",
        "outputId": "4513734d-2629-40a2-a956-205c8f2c51b7"
      },
      "execution_count": null,
      "outputs": [
        {
          "output_type": "stream",
          "name": "stdout",
          "text": [
            "map 결과: <filter object at 0x7b269d6a4dc0>\n",
            "map 결과의 list 형변환: [1, 2, 3, 4]\n"
          ]
        }
      ]
    },
    {
      "cell_type": "code",
      "source": [
        "# lambda 더 간결하게\n",
        "# map() 함수\n",
        "\n",
        "numbers_list = [1, 2, 3, 4, 5, 6, 7, 8, 9, 10]\n",
        "\n",
        "result = map(lambda i : i * i, numbers_list)\n",
        "\n",
        "print(\"map 결과:\", result)\n",
        "print(\"map 결과의 list 형변환:\", list(result))"
      ],
      "metadata": {
        "colab": {
          "base_uri": "https://localhost:8080/"
        },
        "id": "7jRwk8b1sfRA",
        "outputId": "3bd46ef7-a6da-4f85-c200-ea5a79d78960"
      },
      "execution_count": 1,
      "outputs": [
        {
          "output_type": "stream",
          "name": "stdout",
          "text": [
            "map 결과: <map object at 0x7ee0ffa0d0c0>\n",
            "map 결과의 list 형변환: [1, 4, 9, 16, 25, 36, 49, 64, 81, 100]\n"
          ]
        }
      ]
    },
    {
      "cell_type": "code",
      "source": [
        "# filter() 함수\n",
        "\n",
        "numbers_list = [1, 2, 3, 4, 5, 6, 7, 8, 9, 10]\n",
        "\n",
        "result = filter(lambda i : i < 5, numbers_list)\n",
        "\n",
        "print(\"filter 결과:\", result)\n",
        "print(\"filter 결과의 list 형변환:\", list(result))"
      ],
      "metadata": {
        "colab": {
          "base_uri": "https://localhost:8080/"
        },
        "id": "HLolA0K0uKGp",
        "outputId": "83ce5a5d-95d0-4c3e-deb0-637a4ee7e2fc"
      },
      "execution_count": 3,
      "outputs": [
        {
          "output_type": "stream",
          "name": "stdout",
          "text": [
            "filter 결과: <filter object at 0x7ee118798460>\n",
            "filter 결과의 list 형변환: [1, 2, 3, 4]\n"
          ]
        }
      ]
    },
    {
      "cell_type": "code",
      "source": [
        "# map(), filter() 함수의 기능은? => map()은 리스트의 요소를 함수에 넣어서 리턴된 값으로 새로운 리스트를 구성\n",
        "#                                filter()는 리스트의 요소를 함수에 넣어서 조건에 충족된 값만으로\n",
        "#                                새로운 리스트를 구성\n",
        "\n",
        "# lambda를 사용하는 이유? => 간단한 함수를 한 줄로 간결하게 만둘려고\n",
        "\n",
        "# lambda를 이용해 함수를 만드는 방법?\n",
        "# 첫번째 방법 => 새로 만들 함수명 = lambda 매개변수 : 리턴값 or 반환되는 조건식\n",
        "# 두번째 방법 => 변수 = map or filter(lambda 매개변수 : 리턴값 or 반환되는 조건식"
      ],
      "metadata": {
        "id": "k05QT5myuycY"
      },
      "execution_count": null,
      "outputs": []
    }
  ]
}