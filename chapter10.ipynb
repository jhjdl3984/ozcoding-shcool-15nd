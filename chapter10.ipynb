{
  "nbformat": 4,
  "nbformat_minor": 0,
  "metadata": {
    "colab": {
      "provenance": [],
      "authorship_tag": "ABX9TyNhunCjjai62pdLEJPSqIlF",
      "include_colab_link": true
    },
    "kernelspec": {
      "name": "python3",
      "display_name": "Python 3"
    },
    "language_info": {
      "name": "python"
    }
  },
  "cells": [
    {
      "cell_type": "markdown",
      "metadata": {
        "id": "view-in-github",
        "colab_type": "text"
      },
      "source": [
        "<a href=\"https://colab.research.google.com/github/jhjdl3984/ozcoding-shcool-15nd/blob/main/chapter10.ipynb\" target=\"_parent\"><img src=\"https://colab.research.google.com/assets/colab-badge.svg\" alt=\"Open In Colab\"/></a>"
      ]
    },
    {
      "cell_type": "markdown",
      "source": [
        "##list\n",
        "\n",
        "* list란? 원소들이 연속적으로 저장되는 형태의 자료형\n",
        "* 시퀀스 자료형(str, list, tuple, dict, set)의 설명과 동일"
      ],
      "metadata": {
        "id": "1aYw_bLVcFiu"
      }
    },
    {
      "cell_type": "code",
      "execution_count": null,
      "metadata": {
        "colab": {
          "base_uri": "https://localhost:8080/"
        },
        "id": "d9Fg_20Ob4Hg",
        "outputId": "532ecb9c-0dca-4d1b-ba2c-fab78c284f03"
      },
      "outputs": [
        {
          "output_type": "stream",
          "name": "stdout",
          "text": [
            "[23, '이게 리스트다', 3.23, True, False]\n"
          ]
        }
      ],
      "source": [
        "리스트 = [23, \"이게 리스트다\", 3.23, True, False]\n",
        "print(리스트)"
      ]
    },
    {
      "cell_type": "code",
      "source": [
        "리스트 = list()\n",
        "print(리스트)"
      ],
      "metadata": {
        "colab": {
          "base_uri": "https://localhost:8080/"
        },
        "id": "jZHA2HWLdLVb",
        "outputId": "3b5e47b0-6505-4a57-dfcb-a7a5b4415253"
      },
      "execution_count": null,
      "outputs": [
        {
          "output_type": "stream",
          "name": "stdout",
          "text": [
            "[]\n"
          ]
        }
      ]
    },
    {
      "cell_type": "code",
      "source": [
        "# list(range(시작, 끝. 증가))\n",
        "\n",
        "리스트 = list(range(0, 20, 2))\n",
        "print(리스트)\n",
        "\n",
        "리스트2 = list(range(20, 0, -1))\n",
        "print(리스트2)\n",
        "\n",
        "리스트3 = list(range(20,0))\n",
        "print(리스트3)"
      ],
      "metadata": {
        "colab": {
          "base_uri": "https://localhost:8080/"
        },
        "id": "pjDptl5meIVL",
        "outputId": "80761c26-d93f-4827-e67f-f9cba4d5177a"
      },
      "execution_count": null,
      "outputs": [
        {
          "output_type": "stream",
          "name": "stdout",
          "text": [
            "[0, 2, 4, 6, 8, 10, 12, 14, 16, 18]\n",
            "[20, 19, 18, 17, 16, 15, 14, 13, 12, 11, 10, 9, 8, 7, 6, 5, 4, 3, 2, 1]\n",
            "[]\n"
          ]
        }
      ]
    },
    {
      "cell_type": "code",
      "source": [
        "a, b, c = ['들', '어', '가']\n",
        "print(a, b, c)\n",
        "\n",
        "d, e, f = [7, 7, 8]\n",
        "print(d, e, f)\n",
        "\n",
        "지갑 = [10000, 5000, 1000]\n",
        "만원, 오천원, 천원 = 지갑\n",
        "print(f'{만원} 2장, {오천원} 3장, {천원} 1장')"
      ],
      "metadata": {
        "colab": {
          "base_uri": "https://localhost:8080/"
        },
        "id": "nDeJc2ASPKTf",
        "outputId": "acf9f70c-494f-448a-94f8-19c0a4eefcc7"
      },
      "execution_count": null,
      "outputs": [
        {
          "output_type": "stream",
          "name": "stdout",
          "text": [
            "들 어 가\n",
            "7 7 8\n",
            "10000 2장, 5000 3장, 1000 1장\n"
          ]
        }
      ]
    },
    {
      "cell_type": "code",
      "source": [
        "# 리스트 패킹, 리스트 언패킹\n",
        "\n",
        "input().split()"
      ],
      "metadata": {
        "colab": {
          "base_uri": "https://localhost:8080/"
        },
        "id": "IIZ-iiaSQO1a",
        "outputId": "9c72ffa4-a06c-4855-8fa0-ddbcb08e7920"
      },
      "execution_count": null,
      "outputs": [
        {
          "name": "stdout",
          "output_type": "stream",
          "text": [
            "기억? 나요?\n"
          ]
        },
        {
          "output_type": "execute_result",
          "data": {
            "text/plain": [
              "['기억?', '나요?']"
            ]
          },
          "metadata": {},
          "execution_count": 13
        }
      ]
    },
    {
      "cell_type": "code",
      "source": [
        "# 슬라이싱\n",
        "\n",
        "로또 = [3, 4, 15, 33, 41, 44]\n",
        "\n",
        "# 로또 리스트안에 33이 있는지 확인해보기\n",
        "\n",
        "print(33 in 로또)\n",
        "\n",
        "# range를 사용해 1부터 10사이에 짝수만 들어있는 짝수(변수명) 리스트를 만들기\n",
        "짝수 = list(range(2, 12, 2))\n",
        "print(짝수)\n",
        "\n",
        "# len()함수를 이용해 인덱스 마지막 값을 출력\n",
        "a = (len(짝수))\n",
        "print(짝수[a-1])"
      ],
      "metadata": {
        "colab": {
          "base_uri": "https://localhost:8080/"
        },
        "id": "tkicx236Q_mq",
        "outputId": "d0a93b8f-991f-4c27-af87-dbbe0c03ffac"
      },
      "execution_count": null,
      "outputs": [
        {
          "output_type": "stream",
          "name": "stdout",
          "text": [
            "True\n",
            "[2, 4, 6, 8, 10]\n",
            "10\n"
          ]
        }
      ]
    },
    {
      "cell_type": "markdown",
      "source": [
        "####list 값 추가\n",
        "*append(): 마지막 요소에 값 추가\n",
        "\n",
        "*insert(): 원하는 위치에 값 추가\n",
        "\n",
        "\n",
        "####list 값 삭제\n",
        "*del  예)del mzfood[-1]\n",
        "\n",
        "\n",
        "####list 값 변경\n",
        "예)mzfood[-2] = \"양고기\" => -2자리에 있던 값이 양고기로 변경"
      ],
      "metadata": {
        "id": "DJYruRO2WkLN"
      }
    },
    {
      "cell_type": "code",
      "source": [
        "# reverse(): 리스트 안에 있는 요소가 반대 순서로 츌력\n",
        "a = [1, 2, 3, 4]\n",
        "a.reverse()\n",
        "print(a)\n",
        "# print(a.reverse()) X\n",
        "\n",
        "# sort(): 오름차순\n",
        "a.sort()\n",
        "print(a)\n",
        "# print(a.sort()) X"
      ],
      "metadata": {
        "colab": {
          "base_uri": "https://localhost:8080/"
        },
        "id": "8KVvDW5IVrEr",
        "outputId": "388fbb94-ac07-4777-c7e8-7a89c49c6424"
      },
      "execution_count": null,
      "outputs": [
        {
          "output_type": "stream",
          "name": "stdout",
          "text": [
            "[4, 3, 2, 1]\n",
            "[1, 2, 3, 4]\n"
          ]
        }
      ]
    }
  ]
}