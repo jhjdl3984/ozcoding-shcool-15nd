{
  "nbformat": 4,
  "nbformat_minor": 0,
  "metadata": {
    "colab": {
      "provenance": [],
      "authorship_tag": "ABX9TyP1bOjRtH3zxUwsAVgTenE8",
      "include_colab_link": true
    },
    "kernelspec": {
      "name": "python3",
      "display_name": "Python 3"
    },
    "language_info": {
      "name": "python"
    }
  },
  "cells": [
    {
      "cell_type": "markdown",
      "metadata": {
        "id": "view-in-github",
        "colab_type": "text"
      },
      "source": [
        "<a href=\"https://colab.research.google.com/github/jhjdl3984/ozcoding-shcool-15nd/blob/main/chapter12.ipynb\" target=\"_parent\"><img src=\"https://colab.research.google.com/assets/colab-badge.svg\" alt=\"Open In Colab\"/></a>"
      ]
    },
    {
      "cell_type": "markdown",
      "source": [
        "## 딕셔너리(dict)\n",
        "\n",
        "\n"
      ],
      "metadata": {
        "id": "8mBH3xIR7oco"
      }
    },
    {
      "cell_type": "code",
      "execution_count": null,
      "metadata": {
        "colab": {
          "base_uri": "https://localhost:8080/"
        },
        "id": "bhUqxEEq7fwJ",
        "outputId": "37aa2f03-cb53-47f7-9184-e002715260bf"
      },
      "outputs": [
        {
          "output_type": "stream",
          "name": "stdout",
          "text": [
            "{}\n",
            "{}\n",
            "{'힘': 30, '지능': 20, '체력': 40, '민첩': 90}\n"
          ]
        }
      ],
      "source": [
        "# 빈 딕셔너리 만들기\n",
        "\n",
        "딕셔너리 = {}\n",
        "print(딕셔너리)\n",
        "\n",
        "딕셔너리2 = dict()\n",
        "print(딕셔너리2)\n",
        "\n",
        "# zip(): 병렬처리\n",
        "딕셔너리3 = dict(zip((\"힘\", \"지능\", \"체력\", \"민첩\"), (30, 20, 40, 90)))  #힘~민첩 , 30~90 소괄호, 중괄호 가능\n",
        "print(딕셔너리3)"
      ]
    },
    {
      "cell_type": "code",
      "source": [
        "짱짱맨 = {'힘': 30, '지능': 20, '체력': 40, '민첩': 90}\n",
        "print(\"체력\" in 짱짱맨)"
      ],
      "metadata": {
        "colab": {
          "base_uri": "https://localhost:8080/"
        },
        "id": "cyCdzFvP8LnW",
        "outputId": "47dfe0fb-1a7f-48ca-dac9-d30d1128e29c"
      },
      "execution_count": null,
      "outputs": [
        {
          "output_type": "stream",
          "name": "stdout",
          "text": [
            "True\n"
          ]
        }
      ]
    },
    {
      "cell_type": "code",
      "source": [
        "# 딕셔너리 키 구하기\n",
        "print(짱짱맨.keys())\n",
        "\n",
        "# 값 구하기\n",
        "print(짱짱맨.values())\n",
        "\n",
        "# 키, 값 구하기\n",
        "print(짱짱맨.items())\n",
        "print(type(짱짱맨.items()))   #타입이 dict_items라서 인덱싱으로 값을 꺼내올 수 XX"
      ],
      "metadata": {
        "colab": {
          "base_uri": "https://localhost:8080/"
        },
        "id": "H2733Zgs8-t4",
        "outputId": "30c62cb9-026f-4354-d905-4d97f61fd186"
      },
      "execution_count": null,
      "outputs": [
        {
          "output_type": "stream",
          "name": "stdout",
          "text": [
            "dict_keys(['힘', '지능', '체력', '민첩'])\n",
            "dict_values([30, 20, 40, 90])\n",
            "dict_items([('힘', 30), ('지능', 20), ('체력', 40), ('민첩', 90)])\n",
            "<class 'dict_items'>\n"
          ]
        }
      ]
    },
    {
      "cell_type": "code",
      "source": [
        "# 딕셔너리 값 추가, 삭제, 변경\n",
        "\n",
        "# 추가\n",
        "짱짱맨[\"지구력\"] = 80\n",
        "print(짱짱맨)\n",
        "\n",
        "짱짱맨.update({\"손재주\":44, \"매력\":100})\n",
        "print(짱짱맨)\n",
        "\n",
        "# 삭제 (del)\n",
        "del 짱짱맨[\"ㄷㄷㄷ\"]\n",
        "print(짱짱맨)\n",
        "\n",
        "# 변경\n",
        "짱짱맨[\"지능\"] = 100\n",
        "print(짱짱맨)"
      ],
      "metadata": {
        "colab": {
          "base_uri": "https://localhost:8080/"
        },
        "id": "EMZJRr6BHu8H",
        "outputId": "c3fd4526-f620-4156-b999-0343067bef16"
      },
      "execution_count": null,
      "outputs": [
        {
          "output_type": "stream",
          "name": "stdout",
          "text": [
            "{'힘': 30, '지능': 100, '체력': 40, '민첩': 90, '지구력': 80, '손재주': 44, '매력': 100}\n",
            "{'힘': 30, '지능': 100, '체력': 40, '민첩': 90, '지구력': 80, '손재주': 44, '매력': 100, 'ㄷㄷㄷ': 100}\n",
            "{'힘': 30, '지능': 100, '체력': 40, '민첩': 90, '지구력': 80, '손재주': 44, '매력': 100}\n",
            "{'힘': 30, '지능': 100, '체력': 40, '민첩': 90, '지구력': 80, '손재주': 44, '매력': 100}\n"
          ]
        }
      ]
    },
    {
      "cell_type": "code",
      "source": [
        "코디 = {\n",
        "    \"모자\" : {\n",
        "        \"캡\" : \"발렌시아가\",\n",
        "        \"비니\" : \"셀린느\"\n",
        "    },\n",
        "    \"상의\" : {\n",
        "        \"후드티\" : \"칼하트\",\n",
        "        \"맨투맨\" : \"슈프림\"\n",
        "    }\n",
        "}\n",
        "\n",
        "print(코디)\n",
        "print(코디[\"모자\"])\n",
        "print(코디[\"모자\"][\"캡\"])"
      ],
      "metadata": {
        "colab": {
          "base_uri": "https://localhost:8080/"
        },
        "id": "0H3HEPGTJm85",
        "outputId": "d39504d4-da95-4ca7-ae83-eec736fc1dfa"
      },
      "execution_count": null,
      "outputs": [
        {
          "output_type": "stream",
          "name": "stdout",
          "text": [
            "{'모자': {'캡': '발렌시아가', '비니': '셀린느'}, '상의': {'후드티': '칼하트', '맨투맨': '슈프림'}}\n",
            "{'캡': '발렌시아가', '비니': '셀린느'}\n",
            "발렌시아가\n"
          ]
        }
      ]
    },
    {
      "cell_type": "markdown",
      "source": [
        "* 해시, 해시맵, 해시테이블"
      ],
      "metadata": {
        "id": "7HRWT9nGKWIA"
      }
    }
  ]
}