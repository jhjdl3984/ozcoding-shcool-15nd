{
  "nbformat": 4,
  "nbformat_minor": 0,
  "metadata": {
    "colab": {
      "provenance": [],
      "authorship_tag": "ABX9TyNM3alftSSblB2Fq538GGl1",
      "include_colab_link": true
    },
    "kernelspec": {
      "name": "python3",
      "display_name": "Python 3"
    },
    "language_info": {
      "name": "python"
    }
  },
  "cells": [
    {
      "cell_type": "markdown",
      "metadata": {
        "id": "view-in-github",
        "colab_type": "text"
      },
      "source": [
        "<a href=\"https://colab.research.google.com/github/jhjdl3984/ozcoding-shcool-15nd/blob/main/chapter45.ipynb\" target=\"_parent\"><img src=\"https://colab.research.google.com/assets/colab-badge.svg\" alt=\"Open In Colab\"/></a>"
      ]
    },
    {
      "cell_type": "markdown",
      "source": [
        "##클래스 변수와 메소드\n"
      ],
      "metadata": {
        "id": "Nm5S_nY89r0N"
      }
    },
    {
      "cell_type": "code",
      "source": [
        "# 클래스 변수 만들기\n",
        "# => class 클래스이름:\n",
        "#        클래스변수 = 값\n",
        "\n",
        "# 클래스 변수에 접근하기\n",
        "# => 클래스이름.변수이름"
      ],
      "metadata": {
        "id": "7sOQH7x7-CgA"
      },
      "execution_count": null,
      "outputs": []
    },
    {
      "cell_type": "code",
      "execution_count": 12,
      "metadata": {
        "colab": {
          "base_uri": "https://localhost:8080/"
        },
        "id": "tqeQpw149of0",
        "outputId": "1358c3d5-2a54-4215-ca25-a39f4f00b543"
      },
      "outputs": [
        {
          "output_type": "stream",
          "name": "stdout",
          "text": [
            "1번째 수강생의 정보가 추가되었습니다.\n",
            "2번째 수강생의 정보가 추가되었습니다.\n",
            "3번째 수강생의 정보가 추가되었습니다.\n",
            "4번째 수강생의 정보가 추가되었습니다.\n",
            "4\n"
          ]
        }
      ],
      "source": [
        "# 기존 코드를 개선해서 학생 수를 세어보는 기능 추가\n",
        "\n",
        "class CreateOzStudents:\n",
        "\n",
        "    count = 0       # 클래스 변수 => count\n",
        "\n",
        "    def __init__(self, name, python, database, django, aws):\n",
        "        self.name = name\n",
        "        self.python = python\n",
        "        self.database = database\n",
        "        self.django = django\n",
        "        self.aws = aws\n",
        "\n",
        "\n",
        "        CreateOzStudents.count += 1     # 클래스이름.변수이름 => 클래스 변수에 접근\n",
        "        print(f'{CreateOzStudents.count}번째 수강생의 정보가 추가되었습니다.')\n",
        "\n",
        "\n",
        "oz_students = [\n",
        "    CreateOzStudents(\"백현우\", 4, 3, 3, 2),\n",
        "    CreateOzStudents(\"홍혜인\", 4, 5, 2, 4),\n",
        "    CreateOzStudents(\"윤은성\", 3, 4, 4, 1),\n",
        "    CreateOzStudents(\"홍수철\", 2, 3, 1, 5),\n",
        "]\n",
        "\n",
        "print(CreateOzStudents.count)"
      ]
    },
    {
      "cell_type": "markdown",
      "source": [
        "####클래스 안에 함수 만드는 방법\n",
        "=> @classmethod 라는 데코레이터사용"
      ],
      "metadata": {
        "id": "px6eL9mANcWm"
      }
    },
    {
      "cell_type": "code",
      "source": [
        "class 클래스이름:\n",
        "    @classmethod\n",
        "    def 클래스함수명(cls, 매개변수):        # cls => 클래스명\n",
        "        pass\n",
        "# 클래스 함수를 호출하는 방법\n",
        "클래스이름.클래스함수명(매개변수)"
      ],
      "metadata": {
        "id": "wemHJ1RLNn1H"
      },
      "execution_count": null,
      "outputs": []
    },
    {
      "cell_type": "code",
      "source": [
        "class CreateOzStudents:\n",
        "    student = []\n",
        "\n",
        "    @classmethod\n",
        "    def print(cls):\n",
        "        print(\"수강생 데이터베이스 정보\")\n",
        "        print(\"이름\\t총점\\t평균\")\n",
        "        for student in cls.student:\n",
        "            print(str(student))\n",
        "\n",
        "    def __init__(self, name, python, database, django, aws):\n",
        "        self.name = name\n",
        "        self.python = python\n",
        "        self.database = database\n",
        "        self.django = django\n",
        "        self.aws = aws\n",
        "        CreateOzStudents.student.append(self)\n",
        "\n",
        "    def get_sum(self):\n",
        "        return self.python + self.database + self.django + self.aws\n",
        "\n",
        "    def get_avg(self):\n",
        "        return self.get_sum() / 4\n",
        "\n",
        "    def __str__(self):\n",
        "        return f'{self.name}\\t{self.get_sum()}\\t{self.get_avg()}'\n",
        "\n",
        "\n",
        "CreateOzStudents(\"백현우\", 4, 3, 3, 2),\n",
        "CreateOzStudents(\"홍혜인\", 4, 5, 2, 4),\n",
        "CreateOzStudents(\"윤은성\", 3, 4, 4, 1),\n",
        "CreateOzStudents(\"홍수철\", 2, 3, 1, 5)\n",
        "\n",
        "CreateOzStudents.print()"
      ],
      "metadata": {
        "colab": {
          "base_uri": "https://localhost:8080/"
        },
        "id": "8Z9TqBmsN43a",
        "outputId": "f30ef57d-9dc0-4133-de5e-ceb77664cd37"
      },
      "execution_count": 16,
      "outputs": [
        {
          "output_type": "stream",
          "name": "stdout",
          "text": [
            "수강생 데이터베이스 정보\n",
            "이름\t총점\t평균\n",
            "백현우\t12\t3.0\n",
            "홍혜인\t15\t3.75\n",
            "윤은성\t12\t3.0\n",
            "홍수철\t11\t2.75\n"
          ]
        }
      ]
    }
  ]
}