{
  "nbformat": 4,
  "nbformat_minor": 0,
  "metadata": {
    "colab": {
      "provenance": [],
      "authorship_tag": "ABX9TyN1FShveN7KJZXRFt6/Lsqe",
      "include_colab_link": true
    },
    "kernelspec": {
      "name": "python3",
      "display_name": "Python 3"
    },
    "language_info": {
      "name": "python"
    }
  },
  "cells": [
    {
      "cell_type": "markdown",
      "metadata": {
        "id": "view-in-github",
        "colab_type": "text"
      },
      "source": [
        "<a href=\"https://colab.research.google.com/github/jhjdl3984/ozcoding-shcool-15nd/blob/main/chapter8.ipynb\" target=\"_parent\"><img src=\"https://colab.research.google.com/assets/colab-badge.svg\" alt=\"Open In Colab\"/></a>"
      ]
    },
    {
      "cell_type": "markdown",
      "source": [
        "# 비교 연산자와 논리 연산자"
      ],
      "metadata": {
        "id": "7i5B5cZXm9jf"
      }
    },
    {
      "cell_type": "code",
      "execution_count": null,
      "metadata": {
        "colab": {
          "base_uri": "https://localhost:8080/"
        },
        "id": "xqeqCbwVmUe2",
        "outputId": "3d7d180f-593f-4b25-bef0-7046482d9fdb"
      },
      "outputs": [
        {
          "output_type": "execute_result",
          "data": {
            "text/plain": [
              "True"
            ]
          },
          "metadata": {},
          "execution_count": 1
        }
      ],
      "source": [
        "# bool\n",
        "\n",
        "# False\n",
        "3 < 1\n",
        "3 == 1\n",
        "20 != 20\n",
        "\n",
        "# True\n",
        "3 > 1\n",
        "3 == 3\n",
        "20 != 5"
      ]
    },
    {
      "cell_type": "code",
      "source": [
        "# 중요\n",
        "# ==, is\n",
        "# ==는 단순히 값을 비교함\n",
        "# is는 객체의 타입을 비교\n",
        "\n",
        "3 is 3\n",
        "3 == 3\n",
        "\n",
        "3.0 is 3     # False\n",
        "3.0 == 3     # True"
      ],
      "metadata": {
        "colab": {
          "base_uri": "https://localhost:8080/"
        },
        "id": "ZdjDzx4ppLmo",
        "outputId": "8f529f81-3fce-4eff-86a2-f715143dd6a8"
      },
      "execution_count": null,
      "outputs": [
        {
          "output_type": "stream",
          "name": "stderr",
          "text": [
            "<>:6: SyntaxWarning: \"is\" with 'int' literal. Did you mean \"==\"?\n",
            "<>:9: SyntaxWarning: \"is\" with 'float' literal. Did you mean \"==\"?\n",
            "<>:6: SyntaxWarning: \"is\" with 'int' literal. Did you mean \"==\"?\n",
            "<>:9: SyntaxWarning: \"is\" with 'float' literal. Did you mean \"==\"?\n",
            "/tmp/ipython-input-3339264563.py:6: SyntaxWarning: \"is\" with 'int' literal. Did you mean \"==\"?\n",
            "  3 is 3\n",
            "/tmp/ipython-input-3339264563.py:9: SyntaxWarning: \"is\" with 'float' literal. Did you mean \"==\"?\n",
            "  3.0 is 3\n"
          ]
        },
        {
          "output_type": "execute_result",
          "data": {
            "text/plain": [
              "True"
            ]
          },
          "metadata": {},
          "execution_count": 6
        }
      ]
    },
    {
      "cell_type": "markdown",
      "source": [
        "###본격적인 논리연산자\n",
        "True : 1 / False : 0\n",
        "\n",
        "답이 1 이면 True, 0이면 False"
      ],
      "metadata": {
        "id": "KIO5kbwqs2kU"
      }
    },
    {
      "cell_type": "code",
      "source": [
        "# and\n",
        "\n",
        "True and True   # 1 * 1 = 1\n",
        "True and False  # 1 * 0 = 0\n",
        "False and True  # 0 * 1 = 0\n",
        "False and False # 0 * 0 = 0"
      ],
      "metadata": {
        "colab": {
          "base_uri": "https://localhost:8080/"
        },
        "id": "PLyuaoiTq7CO",
        "outputId": "074a5cba-f99a-4aa2-cc5a-5da0b27abd38"
      },
      "execution_count": null,
      "outputs": [
        {
          "output_type": "execute_result",
          "data": {
            "text/plain": [
              "False"
            ]
          },
          "metadata": {},
          "execution_count": 12
        }
      ]
    },
    {
      "cell_type": "code",
      "source": [
        "# or\n",
        "\n",
        "True or True    # 1 + 1 = 1\n",
        "True or False   # 1 + 0 = 1\n",
        "False or True   # 0 + 1 = 1\n",
        "False or False  # 0 * 0 = 0"
      ],
      "metadata": {
        "colab": {
          "base_uri": "https://localhost:8080/"
        },
        "id": "pANwibDKtXo6",
        "outputId": "5df6b050-c745-48b6-c206-be98c7945633"
      },
      "execution_count": null,
      "outputs": [
        {
          "output_type": "execute_result",
          "data": {
            "text/plain": [
              "False"
            ]
          },
          "metadata": {},
          "execution_count": 13
        }
      ]
    },
    {
      "cell_type": "code",
      "source": [
        "# False가 있다면 무조건 결과는 False가 되니까 앞이 False면 결과는 False\n",
        "print(False and \"힘들어요\")\n",
        "\n",
        "# 앞이 True면 뒤에 뭐가 오느냐에 따라 결과가 달라지기 때문에 뒤에까지 확인하고 뒤에 값을 출력\n",
        "print(True and \"힘들어요\")"
      ],
      "metadata": {
        "colab": {
          "base_uri": "https://localhost:8080/"
        },
        "id": "18Ucclh1z3ge",
        "outputId": "102fefcb-0592-40b7-d028-6a7f57a5c3ac"
      },
      "execution_count": null,
      "outputs": [
        {
          "output_type": "stream",
          "name": "stdout",
          "text": [
            "False\n",
            "힘들어요\n"
          ]
        }
      ]
    }
  ]
}