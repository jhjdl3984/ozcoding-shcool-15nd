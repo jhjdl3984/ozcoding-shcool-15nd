{
  "nbformat": 4,
  "nbformat_minor": 0,
  "metadata": {
    "colab": {
      "provenance": [],
      "mount_file_id": "1brS7MqDznSf3wRNGExfKqnh2x3Iejt98",
      "authorship_tag": "ABX9TyM1v25EdXehZ9RC6qC2rffw",
      "include_colab_link": true
    },
    "kernelspec": {
      "name": "python3",
      "display_name": "Python 3"
    },
    "language_info": {
      "name": "python"
    }
  },
  "cells": [
    {
      "cell_type": "markdown",
      "metadata": {
        "id": "view-in-github",
        "colab_type": "text"
      },
      "source": [
        "<a href=\"https://colab.research.google.com/github/jhjdl3984/ozcoding-shcool-15nd/blob/main/chapter20.ipynb\" target=\"_parent\"><img src=\"https://colab.research.google.com/assets/colab-badge.svg\" alt=\"Open In Colab\"/></a>"
      ]
    },
    {
      "cell_type": "markdown",
      "source": [
        "## 파일 읽고 쓰기\n",
        "* 파일 입출력\n",
        "    \n",
        "        웹 -> 크롤링 -> 데이터베이스 -> 1차 클렌징 -> 출력 후 담당자에게 전달 -> 2차 클렌징->\n",
        "        유용한 데이터셋 -> csv 데이터베이스 입력 -> 인공지능 학습"
      ],
      "metadata": {
        "id": "h0voS3o7gL8y"
      }
    },
    {
      "cell_type": "code",
      "execution_count": 1,
      "metadata": {
        "colab": {
          "base_uri": "https://localhost:8080/",
          "height": 36
        },
        "id": "JzBzgYFbgJdu",
        "outputId": "0abecdb2-1256-4db5-f0a3-7c773c2c9f7a"
      },
      "outputs": [
        {
          "output_type": "execute_result",
          "data": {
            "text/plain": [
              "'/content'"
            ],
            "application/vnd.google.colaboratory.intrinsic+json": {
              "type": "string"
            }
          },
          "metadata": {},
          "execution_count": 1
        }
      ],
      "source": [
        "pwd"
      ]
    },
    {
      "cell_type": "code",
      "source": [
        "cd /content/drive/MyDrive"
      ],
      "metadata": {
        "colab": {
          "base_uri": "https://localhost:8080/"
        },
        "id": "ghbm8bmRiq8F",
        "outputId": "9d342a26-d755-4125-965d-93517a4537d8"
      },
      "execution_count": 21,
      "outputs": [
        {
          "output_type": "stream",
          "name": "stdout",
          "text": [
            "/content/drive/MyDrive\n"
          ]
        }
      ]
    },
    {
      "cell_type": "markdown",
      "source": [
        "r - 읽기\n",
        "\n",
        "w - 쓰기 (*덮어쓰기)\n",
        "\n",
        "a - 추가"
      ],
      "metadata": {
        "id": "MbkQLlJ_jVAX"
      }
    },
    {
      "cell_type": "code",
      "source": [
        "# w - 쓰기\n",
        "\n",
        "f = open('test.txt', 'w')\n",
        "f.write(\"수강생 여러분\")\n",
        "f.close()\n",
        "# 내가 있는 위치(MyDrive)에 test.txt가 생성됨\n",
        "# test.txt를 열면 수강생 여러분 이 작성되어있음"
      ],
      "metadata": {
        "id": "GfjYVXgtjhDd"
      },
      "execution_count": 4,
      "outputs": []
    },
    {
      "cell_type": "code",
      "source": [
        "f = open('test.txt', 'w')\n",
        "f.write('''개발자 여러분\n",
        "개발자 여러분\n",
        "개발자 여러분\n",
        "개발자 여러분\n",
        "개발자 여러분\n",
        "개발자 여러분\n",
        "''')\n",
        "f.close()\n",
        "# 1 개발자 여러분\n",
        "# 2 개발자 여러분\n",
        "# 3 개발자 여러분\n",
        "# 4 개발자 여러분\n",
        "# 5 개발자 여러분\n",
        "# 6 개발자 여러분\n",
        "# 7\n",
        "# 이 작성됨"
      ],
      "metadata": {
        "id": "F6laYhvNkGNm"
      },
      "execution_count": 13,
      "outputs": []
    },
    {
      "cell_type": "code",
      "source": [
        "f = open('test.txt', 'w')\n",
        "메시지 = ''\n",
        "\n",
        "for i in range(10):\n",
        "    메시지 += \"개발자 여러분\\n\"\n",
        "f.write(메시지)\n",
        "f.close()\n",
        "# 1 개발자 여러분\n",
        "# 2 개발자 여러분\n",
        "# 3 개발자 여러분\n",
        "# 4 개발자 여러분\n",
        "# 5 개발자 여러분\n",
        "# 6 개발자 여러분\n",
        "# 7 개발자 여러분\n",
        "# 8 개발자 여러분\n",
        "# 9 개발자 여러분\n",
        "# 10 개발자 여러분\n",
        "# 11\n",
        "# 이 작성됨"
      ],
      "metadata": {
        "id": "-g0rIZuLlwRd"
      },
      "execution_count": 22,
      "outputs": []
    },
    {
      "cell_type": "code",
      "source": [
        "# r - 읽기\n",
        "# f.read() => 전체 읽기\n",
        "\n",
        "f = open('test.txt', 'r')\n",
        "s = f.read()\n",
        "print(s)\n",
        "f.close()"
      ],
      "metadata": {
        "colab": {
          "base_uri": "https://localhost:8080/"
        },
        "id": "lIL2gvkNnSa-",
        "outputId": "5be3a043-efb6-48db-8bf9-2705d9e63b22"
      },
      "execution_count": 17,
      "outputs": [
        {
          "output_type": "stream",
          "name": "stdout",
          "text": [
            "개발자 여러분\n",
            "개발자 여러분\n",
            "개발자 여러분\n",
            "개발자 여러분\n",
            "개발자 여러분\n",
            "개발자 여러분\n",
            "개발자 여러분\n",
            "개발자 여러분\n",
            "개발자 여러분\n",
            "개발자 여러분\n",
            "\n"
          ]
        }
      ]
    },
    {
      "cell_type": "code",
      "source": [
        "# f.readline() => 한줄 읽기\n",
        "\n",
        "f = open('test.txt', 'r')\n",
        "line = f.readline()\n",
        "print(line)\n",
        "print(type(line))\n",
        "f.close()"
      ],
      "metadata": {
        "colab": {
          "base_uri": "https://localhost:8080/"
        },
        "id": "36gdSpRFnrXk",
        "outputId": "691d0cfb-d068-4505-d466-b35f36d94605"
      },
      "execution_count": 26,
      "outputs": [
        {
          "output_type": "stream",
          "name": "stdout",
          "text": [
            "개발자 여러분\n",
            "\n",
            "<class 'str'>\n"
          ]
        }
      ]
    },
    {
      "cell_type": "code",
      "source": [
        "# while문 사용\n",
        "\n",
        "f = open('test.txt', 'r')\n",
        "\n",
        "while line:\n",
        "    line = f.readline()\n",
        "    print(line)\n",
        "f.close()"
      ],
      "metadata": {
        "colab": {
          "base_uri": "https://localhost:8080/"
        },
        "id": "EU1MeOtPplVC",
        "outputId": "6c41a9c1-423b-47f9-cad1-200a63b4f930"
      },
      "execution_count": 27,
      "outputs": [
        {
          "output_type": "stream",
          "name": "stdout",
          "text": [
            "개발자 여러분\n",
            "\n",
            "개발자 여러분\n",
            "\n",
            "개발자 여러분\n",
            "\n",
            "개발자 여러분\n",
            "\n",
            "개발자 여러분\n",
            "\n",
            "개발자 여러분\n",
            "\n",
            "개발자 여러분\n",
            "\n",
            "개발자 여러분\n",
            "\n",
            "개발자 여러분\n",
            "\n",
            "개발자 여러분\n",
            "\n",
            "\n"
          ]
        }
      ]
    },
    {
      "cell_type": "code",
      "source": [
        "# a - 추가\n",
        "f = open('test.txt', 'a')\n",
        "f.write('힘내자')\n",
        "f.close()"
      ],
      "metadata": {
        "id": "NckFmsmpquqT"
      },
      "execution_count": 28,
      "outputs": []
    },
    {
      "cell_type": "code",
      "source": [
        "# with => 파일을 안전하게 열고 자동으로 닫아줌\n",
        "\n",
        "with open('test.txt', 'a') as f:\n",
        "    f.write('힘내자 !!!!')\n",
        "# 새로운 줄에 추가 안되는 이유: 힘내자 !!!! 앞에 \\n 을 안써서"
      ],
      "metadata": {
        "id": "ZaPmxDT-r4cU"
      },
      "execution_count": 29,
      "outputs": []
    },
    {
      "cell_type": "code",
      "source": [
        "# 오류(1) - list\n",
        "\n",
        "list = [10, 20, 30]\n",
        "\n",
        "with open('test.txt', 'a') as f:\n",
        "    f.write(list)\n",
        "# 문자형만 되고, 리스트 형태는 안된다는 오류가 남"
      ],
      "metadata": {
        "id": "8qjBwNwytwwi"
      },
      "execution_count": null,
      "outputs": []
    },
    {
      "cell_type": "code",
      "source": [
        "# 해결방법 => str으로 변환\n",
        "\n",
        "list = [10, 20, 30]\n",
        "\n",
        "with open('test.txt', 'w') as f:\n",
        "    f.write(str(list))\n",
        "# [10, 20, 30]\n",
        "# 로 출력됨"
      ],
      "metadata": {
        "id": "o9h-H20WuIfJ"
      },
      "execution_count": 32,
      "outputs": []
    },
    {
      "cell_type": "code",
      "source": [
        "# 오류(2) - int\n",
        "\n",
        "list = [10, 20, 30]\n",
        "\n",
        "with open('test.txt', 'w') as f:\n",
        "    f.writelines(list)           #사용법 => f.writelines(문자열_리스트)\n",
        "# 문자형만 되고, int는 안된다는 오류가 남\n",
        "# int 오류 => 리스트 안의 요소 하나하나를 인식"
      ],
      "metadata": {
        "id": "Y5dIhDEWuqjK"
      },
      "execution_count": 36,
      "outputs": []
    },
    {
      "cell_type": "code",
      "source": [
        "# 해결방법 => list안에 요소를 str로 수정\n",
        "\n",
        "list = ['10', '20', '30']\n",
        "\n",
        "with open('test.txt', 'w') as f:\n",
        "    f.writelines(list)\n",
        "# 102030\n",
        "# 로 출력됨"
      ],
      "metadata": {
        "id": "MQ76l-wPxUvu"
      },
      "execution_count": 42,
      "outputs": []
    },
    {
      "cell_type": "code",
      "source": [
        "# csv\n",
        "\n",
        "list = ['10', '20', '30']\n",
        "\n",
        "with open('test3.csv', 'w') as f:\n",
        "    f.write(','.join(list))    # ','.join(list) => 10, 20, 30 이 됨\n",
        "# 엑셀이나 colab 같은 곳에선 1행 3열짜리 테이블로 보임"
      ],
      "metadata": {
        "id": "LGCZ4hnz0Kds"
      },
      "execution_count": 43,
      "outputs": []
    }
  ]
}