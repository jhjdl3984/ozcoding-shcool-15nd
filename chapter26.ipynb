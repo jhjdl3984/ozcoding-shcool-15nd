{
  "nbformat": 4,
  "nbformat_minor": 0,
  "metadata": {
    "colab": {
      "provenance": [],
      "authorship_tag": "ABX9TyMpX85vvtaiSN4Wu8zIcORM",
      "include_colab_link": true
    },
    "kernelspec": {
      "name": "python3",
      "display_name": "Python 3"
    },
    "language_info": {
      "name": "python"
    }
  },
  "cells": [
    {
      "cell_type": "markdown",
      "metadata": {
        "id": "view-in-github",
        "colab_type": "text"
      },
      "source": [
        "<a href=\"https://colab.research.google.com/github/jhjdl3984/ozcoding-shcool-15nd/blob/main/chapter26.ipynb\" target=\"_parent\"><img src=\"https://colab.research.google.com/assets/colab-badge.svg\" alt=\"Open In Colab\"/></a>"
      ]
    },
    {
      "cell_type": "markdown",
      "source": [
        "##함수의 기본활용"
      ],
      "metadata": {
        "id": "CZe8r_Pza5LL"
      }
    },
    {
      "cell_type": "code",
      "source": [
        "# return까지 배운 지금 기본 함수의 구조\n",
        "\n",
        "def 함수(매개변수):\n",
        "    변수 = 초기값\n",
        "    for, if, while 등의 문법으로 변수 처리\n",
        "        ...\n",
        "    return 변수"
      ],
      "metadata": {
        "id": "l5eLWqbFg-DK"
      },
      "execution_count": 1,
      "outputs": []
    },
    {
      "cell_type": "code",
      "source": [
        "# start, end, multiple 3개 매개변수를 이용해 start부터 시작해 multiple씩 증가해\n",
        "# end에 도달하면 종료하는 함수 예) start = 1, end = 10, multiple = 3 (출력) => 1, 4, 7\n",
        "\n",
        "def oz(start, end, multiple):\n",
        "\n",
        "    while start < end:\n",
        "        print(start, end=' ')\n",
        "        start += multiple\n",
        "\n",
        "oz(1, 10, 3)"
      ],
      "metadata": {
        "colab": {
          "base_uri": "https://localhost:8080/"
        },
        "id": "auYmDrHuboKe",
        "outputId": "00fbd9e2-a24a-4332-b571-4b46e44e585c"
      },
      "execution_count": 10,
      "outputs": [
        {
          "output_type": "stream",
          "name": "stdout",
          "text": [
            "1 4 7 "
          ]
        }
      ]
    },
    {
      "cell_type": "code",
      "execution_count": 20,
      "metadata": {
        "colab": {
          "base_uri": "https://localhost:8080/"
        },
        "id": "IWwuD0cNa20b",
        "outputId": "6b98df04-0941-4c86-9056-0bd036a39847"
      },
      "outputs": [
        {
          "output_type": "stream",
          "name": "stdout",
          "text": [
            "1 4 7 "
          ]
        }
      ],
      "source": [
        "# 위의 for문 버전\n",
        "\n",
        "def oz(start, end, multiple):\n",
        "\n",
        "    for i in range(start, end, multiple):\n",
        "        print(i, end=' ')\n",
        "\n",
        "oz(1, 10, 3)"
      ]
    }
  ]
}