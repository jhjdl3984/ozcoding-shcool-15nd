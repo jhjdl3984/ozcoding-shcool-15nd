{
  "nbformat": 4,
  "nbformat_minor": 0,
  "metadata": {
    "colab": {
      "provenance": [],
      "authorship_tag": "ABX9TyPSSM69RcQGnAFMtebV/iX0",
      "include_colab_link": true
    },
    "kernelspec": {
      "name": "python3",
      "display_name": "Python 3"
    },
    "language_info": {
      "name": "python"
    }
  },
  "cells": [
    {
      "cell_type": "markdown",
      "metadata": {
        "id": "view-in-github",
        "colab_type": "text"
      },
      "source": [
        "<a href=\"https://colab.research.google.com/github/jhjdl3984/ozcoding-shcool-15nd/blob/main/chapter29.ipynb\" target=\"_parent\"><img src=\"https://colab.research.google.com/assets/colab-badge.svg\" alt=\"Open In Colab\"/></a>"
      ]
    },
    {
      "cell_type": "markdown",
      "source": [
        "##튜플"
      ],
      "metadata": {
        "id": "AJtX5wdHKlpl"
      }
    },
    {
      "cell_type": "code",
      "execution_count": 4,
      "metadata": {
        "colab": {
          "base_uri": "https://localhost:8080/"
        },
        "id": "i2bHypC4Ki2M",
        "outputId": "bc5ff4e8-7d33-4038-a216-b068788d373f"
      },
      "outputs": [
        {
          "output_type": "stream",
          "name": "stdout",
          "text": [
            "0 1\n",
            "1 2\n",
            "2 3\n",
            "3 4\n"
          ]
        }
      ],
      "source": [
        "# 튜플을 이용한 내부함수들\n",
        "\n",
        "for i, fruit in enumerate([1, 2, 3, 4]):\n",
        "    print(i, fruit)\n",
        "# print는 , 를 기준으로 띄어서 출력해서 값이 저렇게 출력됨"
      ]
    },
    {
      "cell_type": "code",
      "source": [
        "# divmod() 사용 시 나눈 후, 튜플 형태로 몫과 나머지를 반환\n",
        "\n",
        "a, b = 7, 3\n",
        "x, y = divmod(a, b)\n",
        "print(x)\n",
        "print(y)"
      ],
      "metadata": {
        "colab": {
          "base_uri": "https://localhost:8080/"
        },
        "id": "TpxyyzC1Pm-8",
        "outputId": "79567d3e-2a01-4c99-8e5a-f3a348deb97f"
      },
      "execution_count": 7,
      "outputs": [
        {
          "output_type": "stream",
          "name": "stdout",
          "text": [
            "2\n",
            "1\n"
          ]
        }
      ]
    },
    {
      "cell_type": "code",
      "source": [
        "# 튜플의 특징은? => 괄호없이 사용가능, 변수에 순서대로 값 할당 가능, 변수 간의 값 교환 가능\n",
        "\n",
        "# 괄호없이 여러개의 값을 할당하는 코드 작성법은? => 변수1, 변수2 = 변수1의 값, 변수2의값"
      ],
      "metadata": {
        "id": "BFssyX89QYzq"
      },
      "execution_count": null,
      "outputs": []
    }
  ]
}