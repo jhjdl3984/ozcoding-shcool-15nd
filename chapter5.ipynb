{
  "nbformat": 4,
  "nbformat_minor": 0,
  "metadata": {
    "colab": {
      "provenance": [],
      "authorship_tag": "ABX9TyMQE1VMVQj2p+iqfYvE7H6S",
      "include_colab_link": true
    },
    "kernelspec": {
      "name": "python3",
      "display_name": "Python 3"
    },
    "language_info": {
      "name": "python"
    }
  },
  "cells": [
    {
      "cell_type": "markdown",
      "metadata": {
        "id": "view-in-github",
        "colab_type": "text"
      },
      "source": [
        "<a href=\"https://colab.research.google.com/github/jhjdl3984/ozcoding-shcool-15nd/blob/main/chapter5.ipynb\" target=\"_parent\"><img src=\"https://colab.research.google.com/assets/colab-badge.svg\" alt=\"Open In Colab\"/></a>"
      ]
    },
    {
      "cell_type": "markdown",
      "source": [
        "### 변수란? (기본중의 기본)\n"
      ],
      "metadata": {
        "id": "bQLbG8yDePSA"
      }
    },
    {
      "cell_type": "code",
      "execution_count": null,
      "metadata": {
        "colab": {
          "base_uri": "https://localhost:8080/"
        },
        "id": "TfOJ3TIRdLs5",
        "outputId": "b7721baf-307e-4696-8b3d-15198065f178"
      },
      "outputs": [
        {
          "output_type": "stream",
          "name": "stdout",
          "text": [
            "오즈 15\n"
          ]
        }
      ],
      "source": [
        "# 두 개의 값을 하나의 변수에 넣을 때\n",
        "name, age = \"오즈\", 15\n",
        "print(name, age)"
      ]
    },
    {
      "cell_type": "markdown",
      "source": [
        "1부터 5까지의 숫자를 더하는 문제를 풀어보겠습니다. 단, 다음 숫자를 더하기 위 해서 매번 새로운 줄에서 시작해야하는 조건이 있습니다."
      ],
      "metadata": {
        "id": "ZLulMrU6fg00"
      }
    },
    {
      "cell_type": "code",
      "source": [
        "# 변수 사용 X\n",
        "# 이전에 계산된 결과를 저장할 수 있는 방법이 X\n",
        "\n",
        "1 + 2\n",
        "1 + 2 + 3\n",
        "1 + 2 + 3 + 4\n",
        "1 + 2 + 3 + 4 + 5"
      ],
      "metadata": {
        "colab": {
          "base_uri": "https://localhost:8080/"
        },
        "id": "6ItoMZaHfw1B",
        "outputId": "687fd42b-8a41-435f-e2a2-a9465ecec6bc"
      },
      "execution_count": null,
      "outputs": [
        {
          "output_type": "execute_result",
          "data": {
            "text/plain": [
              "15"
            ]
          },
          "metadata": {},
          "execution_count": 5
        }
      ]
    },
    {
      "cell_type": "code",
      "source": [
        "# 변수 사용 O\n",
        "# 이전에 계산된 결과를 저장해서 사용할 수 O\n",
        "\n",
        "sum = 1 + 2\n",
        "sum = sum + 3\n",
        "sum = sum + 4\n",
        "sum = sum + 5\n",
        "\n",
        "print(sum)"
      ],
      "metadata": {
        "colab": {
          "base_uri": "https://localhost:8080/"
        },
        "id": "iwYr_jjJgFQ1",
        "outputId": "bf62b6f9-30bf-4ea7-d437-6203b952e288"
      },
      "execution_count": null,
      "outputs": [
        {
          "output_type": "stream",
          "name": "stdout",
          "text": [
            "15\n"
          ]
        }
      ]
    },
    {
      "cell_type": "markdown",
      "source": [
        "### 변수에 값을 넣는 것 => 할당\n",
        "\n",
        "sum = 1 + 2 => 1+2의 계산된 결과를 sum이라는 변수ㅜ에 할당한다.\n",
        "\n",
        "\"=\" : 할당 연산자\n",
        "\"+\" : 산술 연산자\n",
        "\n",
        "+= 산술 후 바로 할당하는 문법\n",
        "\n",
        "/=, -=, *= 모두 가능"
      ],
      "metadata": {
        "id": "So6Nj0ZxguNn"
      }
    },
    {
      "cell_type": "code",
      "source": [
        "# +=\n",
        "sum = 1 + 2\n",
        "sum = sum + 3\n",
        "sum = sum + 4\n",
        "sum = sum + 5\n",
        "\n",
        "print(sum)\n",
        "\n",
        "sum2 = 1 + 2\n",
        "sum2 += 3\n",
        "sum2 += 4\n",
        "sum2 += 5\n",
        "\n",
        "print(sum2)"
      ],
      "metadata": {
        "colab": {
          "base_uri": "https://localhost:8080/"
        },
        "id": "yc9kwTB3go5Q",
        "outputId": "7d1de83f-e1c8-4e1f-a53e-6a269186e0c9"
      },
      "execution_count": null,
      "outputs": [
        {
          "output_type": "stream",
          "name": "stdout",
          "text": [
            "15\n",
            "15\n"
          ]
        }
      ]
    },
    {
      "cell_type": "code",
      "source": [
        "# 변수에 어떤값도 넣고 싶지 않고 선언하는 방법\n",
        "\n",
        "nothing = None\n",
        "print(nothing)"
      ],
      "metadata": {
        "colab": {
          "base_uri": "https://localhost:8080/"
        },
        "id": "k3sMEuoiimcH",
        "outputId": "a325231a-1015-47e2-c7d3-532d2a1ae53a"
      },
      "execution_count": null,
      "outputs": [
        {
          "output_type": "stream",
          "name": "stdout",
          "text": [
            "None\n"
          ]
        }
      ]
    },
    {
      "cell_type": "code",
      "source": [
        "# 포메팅 3가지\n",
        "# f-string: f'{변수명}'\n",
        "\n",
        "me = \"파머\"\n",
        "print(f'{me}만 빼고 고양이 다 있어')"
      ],
      "metadata": {
        "colab": {
          "base_uri": "https://localhost:8080/"
        },
        "id": "YcQWWZjHi16X",
        "outputId": "71a304b5-9e20-456b-f3b3-99222744bf3b"
      },
      "execution_count": null,
      "outputs": [
        {
          "output_type": "stream",
          "name": "stdout",
          "text": [
            "파머만 빼고 고양이 다 있어\n"
          ]
        }
      ]
    },
    {
      "cell_type": "code",
      "source": [
        "a = float(11/2)\n",
        "print(a)"
      ],
      "metadata": {
        "colab": {
          "base_uri": "https://localhost:8080/"
        },
        "id": "rkHWDMlFwpT4",
        "outputId": "4426b6f1-4cd2-49c6-ce16-f1ce78ee98f9"
      },
      "execution_count": null,
      "outputs": [
        {
          "output_type": "stream",
          "name": "stdout",
          "text": [
            "5.5\n"
          ]
        }
      ]
    },
    {
      "cell_type": "code",
      "source": [
        "# 붕어빵이름과 가격, 주문 개수\n",
        "fish__p, fish__s, fish__j = \"붕어빵(팥)\", \"붕어빵(슈)\", \"붕어빵(잡채)\"\n",
        "fish__p__sell = 2000\n",
        "fish__s__sell = 2500\n",
        "fish__j__sell = 3000\n",
        "order__s, order__j = 2, 3\n",
        "\n",
        "# 붕어빵 계산값\n",
        "order__s__pay, order__j__pay = fish__s__sell * 2, fish__j__sell * 3\n",
        "\n",
        "# 구매 총 개수\n",
        "total = order__s + order__j\n",
        "\n",
        "# 구매 총 금액\n",
        "total__pay = order__s__pay + order__j__pay\n",
        "\n",
        "print(f'주문이 완료되었습니다. {fish__s} {order__s}개, {fish__j} {order__j}개 총 {total}개 결제 금액은 {total__pay}원 입니다.')"
      ],
      "metadata": {
        "colab": {
          "base_uri": "https://localhost:8080/"
        },
        "id": "5sTQLR0Ucf4D",
        "outputId": "057e7c44-18d6-414f-acea-e3dee726581a"
      },
      "execution_count": null,
      "outputs": [
        {
          "output_type": "stream",
          "name": "stdout",
          "text": [
            "주문이 완료되었습니다. 붕어빵(슈) 2개, 붕어빵(잡채) 3개 총 5개 결제 금액은 14000원 입니다.\n"
          ]
        }
      ]
    }
  ]
}