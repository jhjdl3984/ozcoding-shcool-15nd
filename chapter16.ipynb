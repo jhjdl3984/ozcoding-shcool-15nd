{
  "nbformat": 4,
  "nbformat_minor": 0,
  "metadata": {
    "colab": {
      "provenance": [],
      "authorship_tag": "ABX9TyNDFAgcPE5YDz0St1Qrl5mF",
      "include_colab_link": true
    },
    "kernelspec": {
      "name": "python3",
      "display_name": "Python 3"
    },
    "language_info": {
      "name": "python"
    }
  },
  "cells": [
    {
      "cell_type": "markdown",
      "metadata": {
        "id": "view-in-github",
        "colab_type": "text"
      },
      "source": [
        "<a href=\"https://colab.research.google.com/github/jhjdl3984/ozcoding-shcool-15nd/blob/main/chapter16.ipynb\" target=\"_parent\"><img src=\"https://colab.research.google.com/assets/colab-badge.svg\" alt=\"Open In Colab\"/></a>"
      ]
    },
    {
      "cell_type": "markdown",
      "source": [
        "##반복문: while"
      ],
      "metadata": {
        "id": "zP36_-xace-W"
      }
    },
    {
      "cell_type": "code",
      "execution_count": null,
      "metadata": {
        "colab": {
          "base_uri": "https://localhost:8080/"
        },
        "id": "DbtgsXcycSFr",
        "outputId": "0bb99248-cac0-4c0b-f42e-f8cf26d363a2"
      },
      "outputs": [
        {
          "output_type": "stream",
          "name": "stdout",
          "text": [
            "성공\n",
            "성공\n",
            "성공\n",
            "성공\n",
            "성공\n",
            "성공\n",
            "성공\n",
            "성공\n",
            "성공\n",
            "성공\n"
          ]
        }
      ],
      "source": [
        "# while문 만들어보기\n",
        "\n",
        "i = 0\n",
        "\n",
        "while i < 10:\n",
        "    print(\"성공\")\n",
        "    i += 1"
      ]
    },
    {
      "cell_type": "code",
      "source": [
        "# while문 조건식 증가, 감소\n",
        "\n",
        "# 증가\n",
        "\n",
        "i = 1\n",
        "\n",
        "while i < 10:\n",
        "    print(\"이정도로 성장할줄이야\", i)\n",
        "    i += 1\n",
        "\n",
        "# 감소\n",
        "\n",
        "i = 10\n",
        "\n",
        "while i > 0:\n",
        "    print(\"감소\", i)\n",
        "    i -= 1"
      ],
      "metadata": {
        "colab": {
          "base_uri": "https://localhost:8080/"
        },
        "id": "egJYXvtweKD-",
        "outputId": "8af3655b-7dad-4de5-ed4f-adc73dc80704"
      },
      "execution_count": null,
      "outputs": [
        {
          "output_type": "stream",
          "name": "stdout",
          "text": [
            "이정도로 성장할줄이야 1\n",
            "이정도로 성장할줄이야 2\n",
            "이정도로 성장할줄이야 3\n",
            "이정도로 성장할줄이야 4\n",
            "이정도로 성장할줄이야 5\n",
            "이정도로 성장할줄이야 6\n",
            "이정도로 성장할줄이야 7\n",
            "이정도로 성장할줄이야 8\n",
            "이정도로 성장할줄이야 9\n",
            "감소 10\n",
            "감소 9\n",
            "감소 8\n",
            "감소 7\n",
            "감소 6\n",
            "감소 5\n",
            "감소 4\n",
            "감소 3\n",
            "감소 2\n",
            "감소 1\n"
          ]
        }
      ]
    },
    {
      "cell_type": "code",
      "source": [
        "# while문을 조심스럽게 사용해야하는 이유\n",
        "# 조건이 잘못 설정되면 무한 루프에 빠져 과도한 리소스 소모\n",
        "# but, 잘 사용하면 for문보다 효율적\n",
        "\n",
        "# while True:\n",
        "#     print(1)\n",
        "# 멈출 수 있는 조건이 없어서 계속 출력됨"
      ],
      "metadata": {
        "id": "2eamKXfIet00"
      },
      "execution_count": null,
      "outputs": []
    },
    {
      "cell_type": "code",
      "source": [
        "# while문이 for문보다 강점인 부분?\n",
        "# => 무수히 많이 실행되어야 할때\n",
        "import random\n",
        "\n",
        "random.random()\n",
        "# 0.0이상 1.0 미만의 실수를 계속 랜덤으로 출력해줌\n",
        "\n",
        "import random\n",
        "\n",
        "random.randint(1, 6)   # 1이상 6이하의 숫자중 랜덤으로 출력해줌\n",
        "      #randint => 정수만"
      ],
      "metadata": {
        "colab": {
          "base_uri": "https://localhost:8080/"
        },
        "id": "p_NaYvmsg5uS",
        "outputId": "46a082f8-f01c-4b2f-cf2f-e9eb9e635cee"
      },
      "execution_count": null,
      "outputs": [
        {
          "output_type": "execute_result",
          "data": {
            "text/plain": [
              "0.6848903772347169"
            ]
          },
          "metadata": {},
          "execution_count": 81
        }
      ]
    },
    {
      "cell_type": "code",
      "source": [
        "i = 0\n",
        "\n",
        "while i != 4:\n",
        "    i = random.randint(1, 6)\n",
        "    print(i)\n",
        "# 랜덤으로 4가 출력되기 전까지 계속 출력"
      ],
      "metadata": {
        "colab": {
          "base_uri": "https://localhost:8080/"
        },
        "id": "z6W4Lmbco7u4",
        "outputId": "602bd8f1-46fc-4df9-f4cb-bed233e2ae23"
      },
      "execution_count": null,
      "outputs": [
        {
          "output_type": "stream",
          "name": "stdout",
          "text": [
            "1\n",
            "6\n",
            "4\n"
          ]
        }
      ]
    },
    {
      "cell_type": "code",
      "source": [
        "# while문에 else\n",
        "\n",
        "양파 = 10\n",
        "\n",
        "while 양파 > 10:\n",
        "    print(\"양파\", 양파, \"개 남았습니다.\")\n",
        "    if 양파 == 0:\n",
        "        break\n",
        "    양파 -= 1\n",
        "else:\n",
        "    print(\"양파 다 팔렸습니다.\")"
      ],
      "metadata": {
        "colab": {
          "base_uri": "https://localhost:8080/"
        },
        "id": "jGeKQCiEpcU_",
        "outputId": "843038af-768a-4d52-a0b6-edd1cca78605"
      },
      "execution_count": null,
      "outputs": [
        {
          "output_type": "stream",
          "name": "stdout",
          "text": [
            "양파 다 팔렸습니다.\n"
          ]
        }
      ]
    },
    {
      "cell_type": "code",
      "source": [
        "# 반복문에 흐름을 제어하는 continue와 break\n",
        "\n",
        "# break => 반복문을 종료시켜 빠져나옴\n",
        "i = 0\n",
        "\n",
        "while True:\n",
        "    print(i)\n",
        "    i += 1\n",
        "    if i == 10:\n",
        "        break\n",
        "\n",
        "# for문이라면?\n",
        "for i in range(100):\n",
        "    print(i)\n",
        "    if i == 10:\n",
        "        break"
      ],
      "metadata": {
        "colab": {
          "base_uri": "https://localhost:8080/"
        },
        "id": "kNXjYi-xqln7",
        "outputId": "6a6f57a2-86e3-4f41-81a0-5d371b0c4202"
      },
      "execution_count": null,
      "outputs": [
        {
          "output_type": "stream",
          "name": "stdout",
          "text": [
            "0\n",
            "1\n",
            "2\n",
            "3\n",
            "4\n",
            "5\n",
            "6\n",
            "7\n",
            "8\n",
            "9\n"
          ]
        }
      ]
    },
    {
      "cell_type": "code",
      "source": [
        "# continue\n",
        "# i = 0\n",
        "\n",
        "# while i < 10:\n",
        "#     i += 1\n",
        "#     if i % 2 == 0:\n",
        "#         continue\n",
        "#     print(i)\n",
        "\n",
        "# for문이라면?\n",
        "for i in range(100):\n",
        "    if i % 2 == 0:\n",
        "        continue\n",
        "    elif i > 10:\n",
        "        break\n",
        "    else:\n",
        "        print(i)\n"
      ],
      "metadata": {
        "colab": {
          "base_uri": "https://localhost:8080/"
        },
        "id": "PlowswGnsQ4r",
        "outputId": "86a74781-b0fb-4756-d246-8dd2afb90cfb"
      },
      "execution_count": null,
      "outputs": [
        {
          "output_type": "stream",
          "name": "stdout",
          "text": [
            "1\n",
            "3\n",
            "5\n",
            "7\n",
            "9\n"
          ]
        }
      ]
    },
    {
      "cell_type": "code",
      "source": [
        "fish__p, fish__s, fish__j = \"붕어빵(팥)\", \"붕어빵(슈크림)\", \"붕어빵(잡채)\"  #붕어빵 이름\n",
        "\n",
        "fish__p__sell, fish__s__sell, fish__j__sell = 2000, 2500, 3000      #붕어빵 가격\n",
        "\n",
        "order_s, order_j = 2, 3     #주문한 붕어빵 개수\n",
        "\n",
        "order_s__pay, order_j__pay = fish__s__sell * 2, fish__j__sell * 3                   #주문한 붕어빵 각각의 가격\n",
        "\n",
        "total = order_s + order_j    #총 붕어빵 개수\n",
        "\n",
        "total_pay = order_s__pay + order_j__pay     #총 붕어빵 가격\n",
        "\n",
        "print(f'주문이 완료되었습니다. {fish__s} {order_s}개, {fish__j}개 {order_j} 총 {total}개 결제 금액은 {total_pay}원 입니다')"
      ],
      "metadata": {
        "colab": {
          "base_uri": "https://localhost:8080/"
        },
        "id": "SwB4tIvWuXFb",
        "outputId": "4b44e1dd-152b-41c9-c2e7-2464ebbfc499"
      },
      "execution_count": null,
      "outputs": [
        {
          "output_type": "stream",
          "name": "stdout",
          "text": [
            "주문이 완료되었습니다. 붕어빵(슈크림) 2개, 붕어빵(잡채)개 3 총 5개 결제 금액은 14000원 입니다\n"
          ]
        }
      ]
    },
    {
      "cell_type": "code",
      "source": [
        "fish__p, fish__s, fish__j = \"붕어빵(팥)\", \"붕어빵(슈크림)\", \"붕어빵(잡채)\"\n",
        "\n",
        "fish__p__sell, fish__s__sell, fish__j__sell = 2000, 2500, 3000\n",
        "\n",
        "order_p, order_s, order_j = 0, 2, 3\n",
        "\n",
        "order_p__pay, order_s__pay, order_j__pay = fish__p__sell * 0, fish__s__sell * 2, fish__j__sell * 3\n",
        "\n",
        "total = order_s + order_j\n",
        "\n",
        "# 고민의 흔적...\n",
        "# for fish_name in [fish__p, fish__s, fish__j]:\n",
        "#     print(fish_name)\n",
        "\n",
        "# for fish_price in [fish__p__sell, fish__s__sell, fish__j__sell]:\n",
        "\n",
        "# for order_p, order_s, order_j\n",
        "\n",
        "\n",
        "\n",
        "for fish_sell, fish_price in zip((fish__p__sell, fish__s__sell, fish__j__sell), (order_p, order_s, order_j)):\n",
        "    if fish_price == 0:\n",
        "        continue\n",
        "    elif fish_price == order_s:\n",
        "        result1 = fish_sell * fish_price\n",
        "    else:\n",
        "        result2 = fish_sell * fish_price\n",
        "\n",
        "print(f'주문이 완료되었습니다. {fish__s} {order_s}개, {fish__j}개 {order_j} 총 {total}개 결제 금액은 {result1+result2}원 입니다.')\n",
        "\n",
        "\n",
        "# 고민의 흔적2...\n",
        "\n",
        "# for i in (order_p, order_s, order_j):\n",
        "#     if i == 0:\n",
        "#         continue\n",
        "#     elif i == 2:\n",
        "#         print()\n"
      ],
      "metadata": {
        "colab": {
          "base_uri": "https://localhost:8080/"
        },
        "id": "Yt8ujlZWztYd",
        "outputId": "2befe5b8-6066-46a0-9487-64f94e6490d7"
      },
      "execution_count": null,
      "outputs": [
        {
          "output_type": "stream",
          "name": "stdout",
          "text": [
            "주문이 완료되었습니다. 붕어빵(슈크림) 2개, 붕어빵(잡채)개 3 총 5개 결제 금액은 14000\n"
          ]
        }
      ]
    },
    {
      "cell_type": "code",
      "source": [
        "#예제\n",
        "#콜라츠하는 사람은 주어진 수가 1이 될때까지 다음 작업을 반복하면, 모든 수를 1로 만들 수 있다고 추측\n",
        "#1-1. 입력된 수가 짝수라면 2로 나눈다.\n",
        "#1-2. 입력된 수가 홀수라면 3을 곱하고 1을 더한다,\n",
        "#3.위 결과로 나온 수에 같은 작업을 1이 될 때까지 반복\n",
        "#예를 들어, 입력된 수가 6이라면, 6->3->10->5->16->8->4->2->1\n",
        "\n",
        "#num변수에 있는 수를 1로 만드는데 몇번이나 작업을 반복해야하는지 출력하시오\n",
        "\n",
        "num = 6\n",
        "\n",
        "result = 0\n",
        "\n",
        "while num != 1:\n",
        "    if num % 2 == 0:\n",
        "        num = num / 2\n",
        "    else:\n",
        "        num = num * 3 + 1\n",
        "    result += 1\n",
        "\n",
        "print(result)"
      ],
      "metadata": {
        "colab": {
          "base_uri": "https://localhost:8080/"
        },
        "id": "fRdauT1l0cg7",
        "outputId": "bf5579dc-b715-4a78-a133-e10032328103"
      },
      "execution_count": null,
      "outputs": [
        {
          "output_type": "stream",
          "name": "stdout",
          "text": [
            "8\n"
          ]
        }
      ]
    },
    {
      "cell_type": "code",
      "source": [
        "\n",
        "\n",
        "\n",
        "phone_number = \"01012347890\"\n",
        "\n",
        "new_number = phone_number[0:7] + '****'\n",
        "print(new_number)\n",
        "\n"
      ],
      "metadata": {
        "colab": {
          "base_uri": "https://localhost:8080/"
        },
        "id": "a6eXpL8G_9Ch",
        "outputId": "ec986893-b263-4934-db19-a8cd5886d88e"
      },
      "execution_count": null,
      "outputs": [
        {
          "output_type": "stream",
          "name": "stdout",
          "text": [
            "0101234****\n"
          ]
        }
      ]
    }
  ]
}