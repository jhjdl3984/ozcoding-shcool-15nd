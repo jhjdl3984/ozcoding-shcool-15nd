{
  "nbformat": 4,
  "nbformat_minor": 0,
  "metadata": {
    "colab": {
      "provenance": [],
      "authorship_tag": "ABX9TyP62dky/u9Rs8pS+w0M5ZGU",
      "include_colab_link": true
    },
    "kernelspec": {
      "name": "python3",
      "display_name": "Python 3"
    },
    "language_info": {
      "name": "python"
    }
  },
  "cells": [
    {
      "cell_type": "markdown",
      "metadata": {
        "id": "view-in-github",
        "colab_type": "text"
      },
      "source": [
        "<a href=\"https://colab.research.google.com/github/jhjdl3984/ozcoding-shcool-15nd/blob/main/chapter32.ipynb\" target=\"_parent\"><img src=\"https://colab.research.google.com/assets/colab-badge.svg\" alt=\"Open In Colab\"/></a>"
      ]
    },
    {
      "cell_type": "markdown",
      "source": [
        "##타입 어노테이션과 힌트\n",
        "\n",
        "*타입 힌팅 => 타입에 대한 메타 정보를 제공"
      ],
      "metadata": {
        "id": "TLUW5UZCVt2E"
      }
    },
    {
      "cell_type": "code",
      "execution_count": 1,
      "metadata": {
        "colab": {
          "base_uri": "https://localhost:8080/"
        },
        "id": "7dFaiYq0H4xE",
        "outputId": "7e7a5e2b-1307-4cdf-bcc1-bf6100132323"
      },
      "outputs": [
        {
          "output_type": "execute_result",
          "data": {
            "text/plain": [
              "1000"
            ]
          },
          "metadata": {},
          "execution_count": 1
        }
      ],
      "source": [
        "# 주석\n",
        "# 직육면체의 부피를 구하는 함수\n",
        "\n",
        "def oz(x, y, h):\n",
        "    #type:(int, int, int) -> int\n",
        "    return x * y * h\n",
        "\n",
        "oz(10, 10, 10)"
      ]
    },
    {
      "cell_type": "markdown",
      "source": [
        "*타입 힌팅에서는 타입 어노테이션이라는 새로운 방법으로 파이썬 코드의 타입 표시를 표준화 할 수 O\n",
        "\n",
        "*타입 표시가 표준화되면서 코드 편집기에서도 해석이 O, 코드 자동 완성이나 정적  타입 체킹에도 사용 O"
      ],
      "metadata": {
        "id": "GdZ8tit-jyqJ"
      }
    },
    {
      "cell_type": "code",
      "source": [
        "# 위의 타입 정보를 제공했던 주석 -> 타입 어노테이션으로 변경\n",
        "\n",
        "def oz(x: int, y: int, h: int) -> int:\n",
        "    return x * y * h\n",
        "\n",
        "oz(10, 10, 10)"
      ],
      "metadata": {
        "colab": {
          "base_uri": "https://localhost:8080/"
        },
        "id": "g-IEnB96jg10",
        "outputId": "7101364f-4a2a-4bb1-b2a6-9ebf7cd8b8a2"
      },
      "execution_count": 5,
      "outputs": [
        {
          "output_type": "execute_result",
          "data": {
            "text/plain": [
              "1000"
            ]
          },
          "metadata": {},
          "execution_count": 5
        }
      ]
    },
    {
      "cell_type": "code",
      "source": [
        "# 타입 어노테이션이 잘못된 내용이어도 오류나 경고 발생 X\n",
        "# 그저 다른 개발자와 협업 시 읽기 수월하도록 도움을 주는 도구\n",
        "\n",
        "def oz(x: int, y: str, h: int) -> int:    # str => 잘못된 내용이지만 오류 X\n",
        "    return x * y * h\n",
        "\n",
        "oz(10, 10, 10)"
      ],
      "metadata": {
        "id": "2SRNpBXC4ORX"
      },
      "execution_count": null,
      "outputs": []
    },
    {
      "cell_type": "markdown",
      "source": [
        "###변수 타입 어노테이션"
      ],
      "metadata": {
        "id": "p-m7PK-f61dB"
      }
    },
    {
      "cell_type": "code",
      "source": [
        "# 변수 이름 뒤에 콜론을 붙이고 타입을 명시\n",
        "\n",
        "my_dog : str = \"hunt\"\n",
        "my_dog_age : int = 7\n",
        "\n",
        "dogs : list[str] = [\"닥스훈트\", \"시바견\", \"웰시코기\", \"이탈리안그레이하운드\"]\n",
        "\n",
        "dogs : dict[str, int] = {\n",
        "    \"닥스훈트\" : 7,\n",
        "    \"시바견\" : 5,\n",
        "    \"웰시코기\" : 6,\n",
        "    \"이탈리안그레이하운드\" : 3\n",
        "}\n",
        "print(my_dog)"
      ],
      "metadata": {
        "colab": {
          "base_uri": "https://localhost:8080/"
        },
        "id": "PHFa5B4E5Gdv",
        "outputId": "dfc58998-13af-4b1c-ea93-152c3607b18a"
      },
      "execution_count": 8,
      "outputs": [
        {
          "output_type": "stream",
          "name": "stdout",
          "text": [
            "hunt\n"
          ]
        }
      ]
    },
    {
      "cell_type": "markdown",
      "source": [
        "###함수 타입 어노테이션"
      ],
      "metadata": {
        "id": "uoE8fVp-7C-n"
      }
    },
    {
      "cell_type": "code",
      "source": [
        "# 함수에 타입 힌팅을 적용할 때는 인자 타입과 반환 타입 두곳에 추가할 수 O\n",
        "# 인자에 추가할 때 => 변수와 동일한 문법\n",
        "# 반환값에 추가할 때 => 화살표 사용\n",
        "\n",
        "def hunt(name: str) -> str:\n",
        "    return name[0]\n",
        "\n",
        "def hunt_info(name: str, age: int = 7) -> str:\n",
        "    return name + str(age)\n",
        "\n",
        "def hunt_happy_time(name: str) -> None:\n",
        "    print(\"간식줄께\" + name)      # print 라서 name은 출력 안되고 None으로 출력\n",
        "\n",
        "def hunt_bow(message: str, times: int = 10) -> list[str]:\n",
        "    return [message] * times\n",
        "\n",
        "\n",
        "print(hunt(\"홍길동\"))\n",
        "print(hunt_info(\"홍길동\"))\n",
        "print(hunt_happy_time(\"홍길동\"))\n",
        "print(hunt_bow(\"안녕하세요\", 5))"
      ],
      "metadata": {
        "colab": {
          "base_uri": "https://localhost:8080/"
        },
        "id": "VxIbo85r6-rt",
        "outputId": "aa072db8-67e0-4cc8-c9e7-f06b02f87e3b"
      },
      "execution_count": 23,
      "outputs": [
        {
          "output_type": "stream",
          "name": "stdout",
          "text": [
            "홍\n",
            "홍길동7\n",
            "간식줄께홍길동\n",
            "None\n",
            "['안녕하세요', '안녕하세요', '안녕하세요', '안녕하세요', '안녕하세요']\n"
          ]
        }
      ]
    }
  ]
}