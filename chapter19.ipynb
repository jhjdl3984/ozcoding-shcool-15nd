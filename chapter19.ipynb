{
  "nbformat": 4,
  "nbformat_minor": 0,
  "metadata": {
    "colab": {
      "provenance": [],
      "authorship_tag": "ABX9TyO+wTizzf03HxjhRG/AUKl6",
      "include_colab_link": true
    },
    "kernelspec": {
      "name": "python3",
      "display_name": "Python 3"
    },
    "language_info": {
      "name": "python"
    }
  },
  "cells": [
    {
      "cell_type": "markdown",
      "metadata": {
        "id": "view-in-github",
        "colab_type": "text"
      },
      "source": [
        "<a href=\"https://colab.research.google.com/github/jhjdl3984/ozcoding-shcool-15nd/blob/main/chapter19.ipynb\" target=\"_parent\"><img src=\"https://colab.research.google.com/assets/colab-badge.svg\" alt=\"Open In Colab\"/></a>"
      ]
    },
    {
      "cell_type": "markdown",
      "source": [
        "##예외처리"
      ],
      "metadata": {
        "id": "-libmIVATxeh"
      }
    },
    {
      "cell_type": "code",
      "source": [
        "# 예외처리 기본문법\n",
        "try:                                   # try: => 오류가 발생할 가능성이 있는 코드\n",
        "    x = int(input('나눌 숫자를 입력하세요'))\n",
        "    y = 10 / x\n",
        "    print(y)\n",
        "except:                                # except: => 오류가 발생했을 때 실행\n",
        "    print('예외가 발생했습니다.')\n",
        "else:                                  # else: => 오류가 안났을 때 실행\n",
        "    print('성공했습니다')\n",
        "finally:                               # finally: => 오류와 상관없이 항상 실행\n",
        "    print('코드 실행이 종료되었습니다.')"
      ],
      "metadata": {
        "id": "8zxCearGe5dr"
      },
      "execution_count": null,
      "outputs": []
    },
    {
      "cell_type": "code",
      "execution_count": 7,
      "metadata": {
        "colab": {
          "base_uri": "https://localhost:8080/"
        },
        "id": "0fkgdJgPTddX",
        "outputId": "1baf97b8-8f6f-4c8f-d6cc-4b5ddd2228aa"
      },
      "outputs": [
        {
          "output_type": "stream",
          "name": "stdout",
          "text": [
            "나눌 숫자를 입력하세요: 4, 1\n",
            "잘못된 인덱스입니다.\n"
          ]
        }
      ],
      "source": [
        "y = [10, 20, 30]\n",
        "try:\n",
        "    index, x = map(int, input('나눌 숫자를 입력하세요: ').split(','))  # map(int, input('나눌 숫자를 입력하세요: ').split(','))\n",
        "                                                                 # => input에 입력한 것을 , 기준으로 나누고 int로 변환한 후,\n",
        "                                                                 #    순서대로 index, x에 할당 예)index=1, x=10\n",
        "\n",
        "    print(y[index]/x)\n",
        "except ZeroDivisionError:\n",
        "    print('숫자를 0으로 나눌 수 없습니다.')\n",
        "except IndexError:\n",
        "    print('잘못된 인덱스입니다.')\n"
      ]
    },
    {
      "cell_type": "markdown",
      "source": [
        "####오류 종류\n",
        "    * except ZeroDivisionError: => 0으로 나누는 연산을 할 때 발생\n",
        "    * except IndexError: => 없는 인덱스를 참조할 때 발생\n",
        "    * except ValueError: => 값의 형식이 잘못됐을 때 발생 / 예) x = int(\"abc\")\n",
        "    * except Exception: => 위 오류 외의 모든 예외를 처리"
      ],
      "metadata": {
        "id": "MO0BIJbbbaJx"
      }
    },
    {
      "cell_type": "code",
      "source": [
        "try:\n",
        "    x = int(input('나눌 숫자를 입력하세요'))\n",
        "    y = 10 / x\n",
        "    print(y)\n",
        "except:\n",
        "    print('예외가 발생했습니다.')\n",
        "else:\n",
        "    print('성공했습니다')\n",
        "finally:\n",
        "    print('코드 실행이 종료되었습니다.')"
      ],
      "metadata": {
        "colab": {
          "base_uri": "https://localhost:8080/"
        },
        "id": "F52vmxH3dOpq",
        "outputId": "f5e28eb6-8a78-4ad7-f54c-a311f3cf23b3"
      },
      "execution_count": 12,
      "outputs": [
        {
          "output_type": "stream",
          "name": "stdout",
          "text": [
            "나눌 숫자를 입력하세요3\n",
            "예외가 발생했습니다.\n",
            "코드 실행이 종료되었습니다.\n"
          ]
        }
      ]
    }
  ]
}