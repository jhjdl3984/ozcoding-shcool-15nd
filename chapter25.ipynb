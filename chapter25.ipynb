{
  "nbformat": 4,
  "nbformat_minor": 0,
  "metadata": {
    "colab": {
      "provenance": [],
      "authorship_tag": "ABX9TyOx29osd+cwZUxdtaYJ9XJh",
      "include_colab_link": true
    },
    "kernelspec": {
      "name": "python3",
      "display_name": "Python 3"
    },
    "language_info": {
      "name": "python"
    }
  },
  "cells": [
    {
      "cell_type": "markdown",
      "metadata": {
        "id": "view-in-github",
        "colab_type": "text"
      },
      "source": [
        "<a href=\"https://colab.research.google.com/github/jhjdl3984/ozcoding-shcool-15nd/blob/main/chapter25.ipynb\" target=\"_parent\"><img src=\"https://colab.research.google.com/assets/colab-badge.svg\" alt=\"Open In Colab\"/></a>"
      ]
    },
    {
      "cell_type": "markdown",
      "source": [
        "##함수 리턴\n",
        "\n",
        "return 키워드: 함수를 실행한 위치로 되돌아감, 일반적으로 함수가 끝나는 위치에 return을 사용"
      ],
      "metadata": {
        "id": "90yMJOySQyfO"
      }
    },
    {
      "cell_type": "code",
      "source": [
        "# 값 없이 리턴하는 경우\n",
        "\n",
        "def oz_return():\n",
        "    print(\"파이썬\")     # 1.print() 함수 실행\n",
        "    print(\"재미있엉\")    # 2. print() 함수 실행\n",
        "    return             # 3. return을 만나서 함수 호출했던 위치(oz_return())로 이동하며 함수 종료\n",
        "    print(\"거짓말하네\")   # 이건 print 안됨 => 위에서 return을 만나서 함수가 종료됐기 때문\n",
        "\n",
        "oz_return()"
      ],
      "metadata": {
        "colab": {
          "base_uri": "https://localhost:8080/"
        },
        "id": "hTsuh5NiROFS",
        "outputId": "1ecf545d-6053-46ea-9eb6-d3bc2d957d81"
      },
      "execution_count": 7,
      "outputs": [
        {
          "output_type": "stream",
          "name": "stdout",
          "text": [
            "파이썬\n",
            "재미있엉\n"
          ]
        }
      ]
    },
    {
      "cell_type": "code",
      "execution_count": 12,
      "metadata": {
        "colab": {
          "base_uri": "https://localhost:8080/"
        },
        "id": "VZKUNK4eQtCX",
        "outputId": "4445b66a-58bf-45cb-8b96-2e73b4629292"
      },
      "outputs": [
        {
          "output_type": "stream",
          "name": "stdout",
          "text": [
            "파이썬 재미있엉\n"
          ]
        }
      ],
      "source": [
        "# 값과 함께 리턴하는 경우\n",
        "\n",
        "def oz_return():\n",
        "    return \"파이썬 재미있엉\"     # 단순히 return으로 출력되지 X\n",
        "\n",
        "result = oz_return()         # 그래서 return 반환값을 변수(result)에 넣어서\n",
        "print(result)                # 출력"
      ]
    },
    {
      "cell_type": "code",
      "source": [
        "# 아무것도 리턴하지 않는 경우\n",
        "\n",
        "def oz_return():\n",
        "    return\n",
        "\n",
        "result = oz_return()\n",
        "print(result)\n",
        "# None은 False"
      ],
      "metadata": {
        "colab": {
          "base_uri": "https://localhost:8080/"
        },
        "id": "dMHZ8GpUU38y",
        "outputId": "89e7ff5d-57db-4aa5-bd6c-04552453d21d"
      },
      "execution_count": 32,
      "outputs": [
        {
          "output_type": "stream",
          "name": "stdout",
          "text": [
            "None\n"
          ]
        }
      ]
    }
  ]
}