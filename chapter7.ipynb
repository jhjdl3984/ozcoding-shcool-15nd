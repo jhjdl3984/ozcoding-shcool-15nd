{
  "nbformat": 4,
  "nbformat_minor": 0,
  "metadata": {
    "colab": {
      "provenance": [],
      "authorship_tag": "ABX9TyNtIPIpH4YmmNfQNhXZZHAF",
      "include_colab_link": true
    },
    "kernelspec": {
      "name": "python3",
      "display_name": "Python 3"
    },
    "language_info": {
      "name": "python"
    }
  },
  "cells": [
    {
      "cell_type": "markdown",
      "metadata": {
        "id": "view-in-github",
        "colab_type": "text"
      },
      "source": [
        "<a href=\"https://colab.research.google.com/github/jhjdl3984/ozcoding-shcool-15nd/blob/main/chapter7.ipynb\" target=\"_parent\"><img src=\"https://colab.research.google.com/assets/colab-badge.svg\" alt=\"Open In Colab\"/></a>"
      ]
    },
    {
      "cell_type": "markdown",
      "source": [
        "# 자료형(str, bool)"
      ],
      "metadata": {
        "id": "2bvAIO90sG6Z"
      }
    },
    {
      "cell_type": "code",
      "execution_count": null,
      "metadata": {
        "id": "Bi0J1rR0pvtq"
      },
      "outputs": [],
      "source": [
        "# bool(bool, boolean) : 참 or 거짓, Ture or False, 1 or 0"
      ]
    },
    {
      "cell_type": "code",
      "source": [
        "이름 = \"김오즈\"\n",
        "나이 = 30\n",
        "키 = 180.3\n",
        "소속 = \"s매직 서울북부\"\n",
        "print(type(이름))\n",
        "print(type(나이))\n",
        "print(type(키))\n",
        "print(type(소속))"
      ],
      "metadata": {
        "colab": {
          "base_uri": "https://localhost:8080/"
        },
        "id": "f6MiWSJxsXUs",
        "outputId": "b70107a6-2e25-4a2a-fb40-656e267416ae"
      },
      "execution_count": null,
      "outputs": [
        {
          "output_type": "stream",
          "name": "stdout",
          "text": [
            "<class 'str'>\n",
            "<class 'int'>\n",
            "<class 'float'>\n",
            "<class 'str'>\n"
          ]
        }
      ]
    },
    {
      "cell_type": "code",
      "source": [
        "print(float(5))\n",
        "print(int(5.0))"
      ],
      "metadata": {
        "colab": {
          "base_uri": "https://localhost:8080/"
        },
        "id": "MCNAHcUaskyu",
        "outputId": "4fe680dc-16db-49c9-b226-fa0a4b9382f2"
      },
      "execution_count": null,
      "outputs": [
        {
          "output_type": "stream",
          "name": "stdout",
          "text": [
            "5.0\n",
            "5\n"
          ]
        }
      ]
    },
    {
      "cell_type": "markdown",
      "source": [
        "### str\n",
        "특징 : 시퀀스 자료형\n",
        "\n",
        "시퀀스 = 요소들이 연속적으로 이어진 자료형\n",
        "\n",
        "요소 = 값 하나하나"
      ],
      "metadata": {
        "id": "hVpOLJ-xtkjw"
      }
    },
    {
      "cell_type": "code",
      "source": [
        "print(소속)\n",
        "print(소속[0])\n",
        "print(소속[1])\n",
        "print(소속[2])\n",
        "print(소속[3])\n",
        "print(소속[4])\n",
        "print(소속[5])\n",
        "print(소속[6])\n",
        "print(소속[7])\n",
        "\n",
        "# 문자열 길이를 넘어가면 오류\n",
        "#print(소속[8])"
      ],
      "metadata": {
        "colab": {
          "base_uri": "https://localhost:8080/"
        },
        "id": "y8Fboe6_tiOb",
        "outputId": "f873db16-532e-4e2d-ed3a-eab398b06042"
      },
      "execution_count": null,
      "outputs": [
        {
          "output_type": "stream",
          "name": "stdout",
          "text": [
            "s매직 서울북부\n",
            "s\n",
            "매\n",
            "직\n",
            " \n",
            "서\n",
            "울\n",
            "북\n",
            "부\n"
          ]
        }
      ]
    },
    {
      "cell_type": "code",
      "source": [
        "\"매\" in 소속\n",
        "\"3\" in 소속"
      ],
      "metadata": {
        "colab": {
          "base_uri": "https://localhost:8080/"
        },
        "id": "uzpU_CkCu4Ha",
        "outputId": "b07780db-93dd-49fe-aaca-c156ca44ce0f"
      },
      "execution_count": null,
      "outputs": [
        {
          "output_type": "execute_result",
          "data": {
            "text/plain": [
              "False"
            ]
          },
          "metadata": {},
          "execution_count": 16
        }
      ]
    },
    {
      "cell_type": "code",
      "source": [
        "# 문자열 즉 시원스 끼리 합치기\n",
        "\n",
        "\"13\" + \"금요일\""
      ],
      "metadata": {
        "colab": {
          "base_uri": "https://localhost:8080/",
          "height": 36
        },
        "id": "6JQ91RElvLmh",
        "outputId": "327b390e-728d-4967-8267-0e3debdc9dd0"
      },
      "execution_count": null,
      "outputs": [
        {
          "output_type": "execute_result",
          "data": {
            "text/plain": [
              "'13금요일'"
            ],
            "application/vnd.google.colaboratory.intrinsic+json": {
              "type": "string"
            }
          },
          "metadata": {},
          "execution_count": 18
        }
      ]
    },
    {
      "cell_type": "code",
      "source": [
        "# 복사가 가능\n",
        "\n",
        "옛날게임 = \"바니바니 당근당근 \" * 20\n",
        "print(옛날게임)\n",
        "\n",
        "len(옛날게임)"
      ],
      "metadata": {
        "colab": {
          "base_uri": "https://localhost:8080/"
        },
        "id": "EiWJMkrZvZF9",
        "outputId": "df1e8661-3578-4985-a01a-bb5adc176d0d"
      },
      "execution_count": null,
      "outputs": [
        {
          "output_type": "stream",
          "name": "stdout",
          "text": [
            "바니바니 당근당근 바니바니 당근당근 바니바니 당근당근 바니바니 당근당근 바니바니 당근당근 바니바니 당근당근 바니바니 당근당근 바니바니 당근당근 바니바니 당근당근 바니바니 당근당근 바니바니 당근당근 바니바니 당근당근 바니바니 당근당근 바니바니 당근당근 바니바니 당근당근 바니바니 당근당근 바니바니 당근당근 바니바니 당근당근 바니바니 당근당근 바니바니 당근당근 \n"
          ]
        },
        {
          "output_type": "execute_result",
          "data": {
            "text/plain": [
              "200"
            ]
          },
          "metadata": {},
          "execution_count": 22
        }
      ]
    },
    {
      "cell_type": "code",
      "source": [
        "생년월일 = \"2000. 12. 25\"\n",
        "년 = 생년월일[0:4]\n",
        "월 = 생년월일[6:8]\n",
        "일 = 생년월일[10:]\n",
        "print(f'{년} {월} {일}')"
      ],
      "metadata": {
        "colab": {
          "base_uri": "https://localhost:8080/"
        },
        "id": "Xydr4y6ewR8F",
        "outputId": "ae83affc-0400-47e7-f596-b749d9424a3e"
      },
      "execution_count": null,
      "outputs": [
        {
          "output_type": "stream",
          "name": "stdout",
          "text": [
            "2000 12 25\n"
          ]
        }
      ]
    },
    {
      "cell_type": "code",
      "source": [
        "숫자 = \"23849383120\"\n",
        "\n",
        "#첫번째 인덱스 기준으로 2칸씩 띄어쓰기 출력\n",
        "print(숫자[::2])\n",
        "\n",
        "#[::-1]일 때 가운데 인덱스가 첫번째 인덱스보다 작아야함\n",
        "print(숫자[4:1:-1])"
      ],
      "metadata": {
        "colab": {
          "base_uri": "https://localhost:8080/"
        },
        "id": "SJrxIfTqwwwt",
        "outputId": "03d662cb-9529-4c2d-8f04-639576d0e5ae"
      },
      "execution_count": null,
      "outputs": [
        {
          "output_type": "stream",
          "name": "stdout",
          "text": [
            "289810\n",
            "948\n"
          ]
        }
      ]
    },
    {
      "cell_type": "code",
      "source": [
        "퀴즈 = \"스님이 공중에 뜬다를 6글자로 말하면? 어중이떠중이\"\n",
        "print(퀴즈[22:28])"
      ],
      "metadata": {
        "colab": {
          "base_uri": "https://localhost:8080/"
        },
        "id": "QPbzh_HrzZdM",
        "outputId": "bc91e9ff-a212-432f-e580-97a090ad520a"
      },
      "execution_count": null,
      "outputs": [
        {
          "output_type": "stream",
          "name": "stdout",
          "text": [
            "어중이떠중이\n"
          ]
        }
      ]
    },
    {
      "cell_type": "code",
      "source": [
        "#count() : 괄호 안에 있는 문자가 몇개 있는지 구하기\n",
        "과일 = \"apple\"\n",
        "과일.count(\"p\")"
      ],
      "metadata": {
        "colab": {
          "base_uri": "https://localhost:8080/"
        },
        "id": "6Evac_yFz7Lv",
        "outputId": "2d1bc84f-f5d0-4b5c-91cb-c02f8f3f5c54"
      },
      "execution_count": null,
      "outputs": [
        {
          "output_type": "execute_result",
          "data": {
            "text/plain": [
              "2"
            ]
          },
          "metadata": {},
          "execution_count": 39
        }
      ]
    },
    {
      "cell_type": "code",
      "source": [
        "#index() : 위치 구하기 (첫번째 p 구하기)\n",
        "과일 = \"apple\"\n",
        "과일.index(\"p\")"
      ],
      "metadata": {
        "colab": {
          "base_uri": "https://localhost:8080/"
        },
        "id": "ONlYQta70GAn",
        "outputId": "283f3728-ec23-4b96-caba-806e170c10b3"
      },
      "execution_count": null,
      "outputs": [
        {
          "output_type": "execute_result",
          "data": {
            "text/plain": [
              "1"
            ]
          },
          "metadata": {},
          "execution_count": 41
        }
      ]
    }
  ]
}