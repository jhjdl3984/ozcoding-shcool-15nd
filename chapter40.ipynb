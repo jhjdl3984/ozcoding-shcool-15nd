{
  "nbformat": 4,
  "nbformat_minor": 0,
  "metadata": {
    "colab": {
      "provenance": [],
      "authorship_tag": "ABX9TyPEQ9CPl7OC+q1AN8XG14ZK",
      "include_colab_link": true
    },
    "kernelspec": {
      "name": "python3",
      "display_name": "Python 3"
    },
    "language_info": {
      "name": "python"
    }
  },
  "cells": [
    {
      "cell_type": "markdown",
      "metadata": {
        "id": "view-in-github",
        "colab_type": "text"
      },
      "source": [
        "<a href=\"https://colab.research.google.com/github/jhjdl3984/ozcoding-shcool-15nd/blob/main/chapter40.ipynb\" target=\"_parent\"><img src=\"https://colab.research.google.com/assets/colab-badge.svg\" alt=\"Open In Colab\"/></a>"
      ]
    },
    {
      "cell_type": "markdown",
      "source": [
        "##모듈 만들기\n",
        "\n",
        "-모듈 : 함수의 집합"
      ],
      "metadata": {
        "id": "cIKh6KXnYUOO"
      }
    },
    {
      "cell_type": "code",
      "source": [
        "# 모듈이 될 파일(함수) : oz_module.py\n",
        "# 모듈을 불러와 실행할 파일 : main.py"
      ],
      "metadata": {
        "id": "8DDtuciJYtb4"
      },
      "execution_count": null,
      "outputs": []
    },
    {
      "cell_type": "code",
      "source": [
        "# vs 코드로 module 폴더 생성\n",
        "# 그 폴더 안에 oz_module.py 파일 생성 후\n",
        "\n",
        "pi = 3.141592\n",
        "\n",
        "# 반지름 값을 받아오는 함수\n",
        "def number_input():\n",
        "    value = input(\"반지름을 입력해주세요\")\n",
        "    return float(value)\n",
        "\n",
        "# 원의 둘레\n",
        "def get_circum(radius):\n",
        "    return 2 * pi * radius\n",
        "\n",
        "# 원의 넓이\n",
        "def get_circle(radius):\n",
        "    return pi * radius * radius"
      ],
      "metadata": {
        "id": "t9UrtT6Wco5c"
      },
      "execution_count": 6,
      "outputs": []
    },
    {
      "cell_type": "code",
      "source": [
        "# 같은 폴더 안에 main.py 파일 생성\n",
        "\n",
        "import oz_module as oz\n",
        "\n",
        "radius = oz.number_input()\n",
        "print(oz.get_circum(radius))\n",
        "print(oz.get_circle(radius))"
      ],
      "metadata": {
        "id": "PkLL9qjgijgT"
      },
      "execution_count": null,
      "outputs": []
    }
  ]
}