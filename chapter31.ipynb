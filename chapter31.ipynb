{
  "nbformat": 4,
  "nbformat_minor": 0,
  "metadata": {
    "colab": {
      "provenance": [],
      "authorship_tag": "ABX9TyMVFqjdvIt+wirmKeDjjanq",
      "include_colab_link": true
    },
    "kernelspec": {
      "name": "python3",
      "display_name": "Python 3"
    },
    "language_info": {
      "name": "python"
    }
  },
  "cells": [
    {
      "cell_type": "markdown",
      "metadata": {
        "id": "view-in-github",
        "colab_type": "text"
      },
      "source": [
        "<a href=\"https://colab.research.google.com/github/jhjdl3984/ozcoding-shcool-15nd/blob/main/chapter31.ipynb\" target=\"_parent\"><img src=\"https://colab.research.google.com/assets/colab-badge.svg\" alt=\"Open In Colab\"/></a>"
      ]
    },
    {
      "cell_type": "markdown",
      "source": [
        "##제너레이터\n",
        ": 이터레이터를 생성하는 객체\n",
        "\n",
        "이터레이터 : 순서대로 다음 값을 리턴할 수 있는 객체로 자체적으로 내장하고 있는 next 메소드를 통해 다음 값을 가져올 수 O\n"
      ],
      "metadata": {
        "id": "LjK_FjcJz4Hf"
      }
    },
    {
      "cell_type": "code",
      "execution_count": 5,
      "metadata": {
        "colab": {
          "base_uri": "https://localhost:8080/"
        },
        "id": "_PSpcdMkzzdo",
        "outputId": "132b114d-d393-4a9e-c255-be707bddfa6e"
      },
      "outputs": [
        {
          "output_type": "stream",
          "name": "stdout",
          "text": [
            "첫번째 출력\n",
            "두번째 출력\n",
            "<generator object test at 0x7a2d6e6c1540>\n"
          ]
        }
      ],
      "source": [
        "# 제너레이터는 함수 안에 yield 키워드를 사용해 만들 수 O\n",
        "\n",
        "def test():\n",
        "    print(\"제너레이터 실습 코드입니다.\")\n",
        "    yield \"test\"                # yield => 값을 밖으로 내보내는 키워드\n",
        "                                # => \"test\" 라는 값을 함수 호출한 쪽에 반환한다는 뜻\n",
        "                                # 함수 안에 yield 키워드가 어떤 동작을 하든 하지 않든\n",
        "                                # 있기만 해도 제너레이터로 인식\n",
        "\n",
        "\n",
        "print(\"첫번째 출력\")               # 출력\n",
        "test()                          # 제너레이터 함수가 되면 호출해도 함수 내부의 코드가 작동하지 X\n",
        "\n",
        "print(\"두번째 출력\")               # 출력\n",
        "test()                          # 제너레이터 함수가 되면 호출해도 함수 내부의 코드가 작동하지 X\n",
        "\n",
        "print(test())                   # 제너레이터 객체 출력"
      ]
    },
    {
      "cell_type": "code",
      "source": [
        "# next() 함수로 yield 키워드까지 출력하기\n",
        "\n",
        "def test():\n",
        "    print(\"첫번째 출력\")\n",
        "    yield 1\n",
        "    print(\"두번째 출력\")\n",
        "    yield 2\n",
        "    print(\"세번째 출력\")\n",
        "\n",
        "output = test()      # 제너레이터 객체 생성\n",
        "print(\"네번째 출력\")\n",
        "\n",
        "x = next(output)     # 첫번째 출력 => 출력\n",
        "                     # yield 1에서 멈춤\n",
        "                     # x = 1 (여기선 저장만 되고 출력 X)\n",
        "print(\"다섯번째 출력\")\n",
        "y = next(output)     # yield 1에서 멈췄으니까 이 다음을 출력한다고 보면 됨\n",
        "                     # 두번째 출력 => 출력\n",
        "                     # yield 2에서 멈춤\n",
        "                     # y = 2 (여기선 저장만 되고 출력 X)\n",
        "print(y)             # 위에서 y = 2 였으니까 2 출력"
      ],
      "metadata": {
        "colab": {
          "base_uri": "https://localhost:8080/"
        },
        "id": "HYNnUX3h-PGz",
        "outputId": "c5653cb6-9440-4197-84e0-5044fe097e07"
      },
      "execution_count": 16,
      "outputs": [
        {
          "output_type": "stream",
          "name": "stdout",
          "text": [
            "네번째 출력\n",
            "첫번째 출력\n",
            "다섯번째 출력\n",
            "두번째 출력\n",
            "2\n"
          ]
        }
      ]
    },
    {
      "cell_type": "code",
      "source": [
        "def test():\n",
        "    print(\"첫번째 출력\")\n",
        "    yield 1\n",
        "    print(\"두번째 출력\")\n",
        "    yield 2\n",
        "    print(\"세번째 출력\")\n",
        "\n",
        "output = test()\n",
        "print(\"네번째 출력\")\n",
        "\n",
        "next(output)        # 여기선 yield 값 리턴 X\n",
        "next(output)"
      ],
      "metadata": {
        "colab": {
          "base_uri": "https://localhost:8080/"
        },
        "id": "v9RcucIpGuui",
        "outputId": "ab894571-91a7-4f1c-f850-4034bf46b684"
      },
      "execution_count": 18,
      "outputs": [
        {
          "output_type": "stream",
          "name": "stdout",
          "text": [
            "네번째 출력\n",
            "첫번째 출력\n",
            "두번째 출력\n"
          ]
        },
        {
          "output_type": "execute_result",
          "data": {
            "text/plain": [
              "2"
            ]
          },
          "metadata": {},
          "execution_count": 18
        }
      ]
    },
    {
      "cell_type": "code",
      "source": [
        "# 이터레이터와 제너레이터란? => 제너레이터는 이터레이터를 생성하는 객체이고,\n",
        "#                         이터레이터는 순서대로 다음 값을 리턴할 수 있는 객체로\n",
        "#                         자체적으로 가지고 있는 next 메소드로 다음 값을 리턴할 수 O\n",
        "# 제너레이터 함수를 만드는 방법은? => 함수 내에 yield 키워드를 사용\n",
        "# 제너레이터 함수를 실행하는 방법은? => 함수를 호출해주고, next(함수명)\n",
        "#                               next(함수명)을 변수에 넣어준 경우에는 print(변수)를 사용해\n",
        "#                               yeild 값을 따로 리턴해줘야함"
      ],
      "metadata": {
        "id": "ihbTI3WIECu0"
      },
      "execution_count": null,
      "outputs": []
    }
  ]
}