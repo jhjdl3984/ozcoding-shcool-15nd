{
  "nbformat": 4,
  "nbformat_minor": 0,
  "metadata": {
    "colab": {
      "provenance": [],
      "authorship_tag": "ABX9TyOKpk0zxkyBrEall2++9Rhu",
      "include_colab_link": true
    },
    "kernelspec": {
      "name": "python3",
      "display_name": "Python 3"
    },
    "language_info": {
      "name": "python"
    }
  },
  "cells": [
    {
      "cell_type": "markdown",
      "metadata": {
        "id": "view-in-github",
        "colab_type": "text"
      },
      "source": [
        "<a href=\"https://colab.research.google.com/github/jhjdl3984/ozcoding-shcool-15nd/blob/main/chapter44.ipynb\" target=\"_parent\"><img src=\"https://colab.research.google.com/assets/colab-badge.svg\" alt=\"Open In Colab\"/></a>"
      ]
    },
    {
      "cell_type": "markdown",
      "source": [
        "##인스턴스와 특수 메소드\n",
        "\n",
        "-isinstance() : 어떤 클래스에서 생성된 인스턴스인지 확인할 수 있음\n",
        "- isinstance(인스턴스, 클래스) => 입력된 클래스를 기반으로 입력된 인스턴스가 생성되었는지 True, False로 반환함.\n",
        "\n",
        "-특수 메소드 : 클래스를 생성하면 기본적으로 파이썬에서 제공해주는 기능"
      ],
      "metadata": {
        "id": "wpsFfFwupJOC"
      }
    },
    {
      "cell_type": "code",
      "execution_count": 4,
      "metadata": {
        "colab": {
          "base_uri": "https://localhost:8080/"
        },
        "id": "2p52GyJfpFO5",
        "outputId": "36e0eaec-59e1-4c7e-f30f-31e77fa9a51c"
      },
      "outputs": [
        {
          "output_type": "stream",
          "name": "stdout",
          "text": [
            "True\n"
          ]
        }
      ],
      "source": [
        "# isinstance()\n",
        "\n",
        "class Student:\n",
        "    def __init__(self):\n",
        "        pass\n",
        "\n",
        "student = Student()\n",
        "\n",
        "print(isinstance(student, Student))"
      ]
    },
    {
      "cell_type": "code",
      "source": [
        "from re import sub\n",
        "class Python:\n",
        "    def python(self):\n",
        "        print(\"파이썬을 수강중입니다.\")\n",
        "\n",
        "class Java:\n",
        "    def java(self):\n",
        "        print(\"자바를 수강중입니다.\")\n",
        "\n",
        "programming_subjects = [Python(), Python(), Python(),Java(), Python()]\n",
        "\n",
        "for subject in programming_subjects:\n",
        "    if isinstance(subject, Python):\n",
        "        subject.python()\n",
        "    elif isinstance(subject, Java):\n",
        "        subject.java()"
      ],
      "metadata": {
        "colab": {
          "base_uri": "https://localhost:8080/"
        },
        "id": "Wfe7NHu_vMO7",
        "outputId": "73981ee8-9381-42cd-c842-1d8186e62c02"
      },
      "execution_count": 9,
      "outputs": [
        {
          "output_type": "stream",
          "name": "stdout",
          "text": [
            "파이썬을 수강중입니다.\n",
            "파이썬을 수강중입니다.\n",
            "파이썬을 수강중입니다.\n",
            "자바를 수강중입니다.\n",
            "파이썬을 수강중입니다.\n"
          ]
        }
      ]
    },
    {
      "cell_type": "code",
      "source": [
        "# 특수 메소드 : __이름__ 형태의 네이밍을 가짐\n",
        "# def to_string(self): -> # def __str__(self): 로 변경\n",
        "# print(student.to_string()) -> print(str(student))로 변경\n",
        "\n",
        "class CreateOzStudents:\n",
        "    def __init__(self, name, python, database, django, aws):\n",
        "        self.name = name\n",
        "        self.python = python\n",
        "        self.database = database\n",
        "        self.django = django\n",
        "        self.aws = aws\n",
        "\n",
        "    def get_sum(self):\n",
        "        return self.python + self.database + self.django + self.aws\n",
        "\n",
        "    def get_avg(self):\n",
        "        return self.get_sum() / 4\n",
        "    # def to_string(self):\n",
        "    #         return f'{self.name}\\t{self.get_sum()}\\t{self.get_avg()}'\n",
        "\n",
        "    def __str__(self):\n",
        "        return f'{self.name}\\t{self.get_sum()}\\t{self.get_avg()}'\n",
        "\n",
        "oz_students = [\n",
        "    CreateOzStudents(\"백현우\", 4, 3, 3, 2),\n",
        "    CreateOzStudents(\"홍혜인\", 4, 5, 2, 4),\n",
        "    CreateOzStudents(\"윤은성\", 3, 4, 4, 1),\n",
        "    CreateOzStudents(\"홍수철\", 2, 3, 1, 5),\n",
        "]\n",
        "\n",
        "print(\"이름\", \"총점\", \"평균\", sep='\\t')\n",
        "for student in oz_students:\n",
        "    # print(student.to_string())\n",
        "    print(str(student))     # 특수 메소드는 실행 방식이 다름"
      ],
      "metadata": {
        "colab": {
          "base_uri": "https://localhost:8080/"
        },
        "id": "1uW4qt_Nqle0",
        "outputId": "be923c12-775a-450d-d6be-a8857feea2d0"
      },
      "execution_count": 21,
      "outputs": [
        {
          "output_type": "stream",
          "name": "stdout",
          "text": [
            "이름\t총점\t평균\n",
            "백현우\t12\t3.0\n",
            "홍혜인\t15\t3.75\n",
            "윤은성\t12\t3.0\n",
            "홍수철\t11\t2.75\n"
          ]
        }
      ]
    },
    {
      "cell_type": "code",
      "source": [
        "# __eq__ 의 실행 방법은 '=='를 이용해서 실행"
      ],
      "metadata": {
        "id": "Ix98-1U_7ZdY"
      },
      "execution_count": null,
      "outputs": []
    }
  ]
}