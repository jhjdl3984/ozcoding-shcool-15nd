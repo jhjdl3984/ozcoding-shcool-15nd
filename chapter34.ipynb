{
  "nbformat": 4,
  "nbformat_minor": 0,
  "metadata": {
    "colab": {
      "provenance": [],
      "authorship_tag": "ABX9TyOriRI1ZRWdM2FgdvEUfajV",
      "include_colab_link": true
    },
    "kernelspec": {
      "name": "python3",
      "display_name": "Python 3"
    },
    "language_info": {
      "name": "python"
    }
  },
  "cells": [
    {
      "cell_type": "markdown",
      "metadata": {
        "id": "view-in-github",
        "colab_type": "text"
      },
      "source": [
        "<a href=\"https://colab.research.google.com/github/jhjdl3984/ozcoding-shcool-15nd/blob/main/chapter34.ipynb\" target=\"_parent\"><img src=\"https://colab.research.google.com/assets/colab-badge.svg\" alt=\"Open In Colab\"/></a>"
      ]
    },
    {
      "cell_type": "markdown",
      "source": [
        "##try except 구문\n",
        "\n",
        "-try 구문 구조\n",
        "\n",
        "try: 예외 발생 가능 코드\n",
        "\n",
        "except: 예외 발생 시 실행할 코드\n",
        "\n",
        "else: 예외 발생 x -> 실행할 코드\n",
        "\n",
        "finally: 예외 발생여부 관계없이 실행"
      ],
      "metadata": {
        "id": "EruWXmXhXBcQ"
      }
    },
    {
      "cell_type": "code",
      "execution_count": 5,
      "metadata": {
        "colab": {
          "base_uri": "https://localhost:8080/"
        },
        "id": "DMt0g1OKW8zB",
        "outputId": "e36963b7-edeb-4f01-ff7d-a8090523589b"
      },
      "outputs": [
        {
          "output_type": "stream",
          "name": "stdout",
          "text": [
            "밑변과 높이를 입력해주세요:3cm 5cm\n",
            "정수로 입력하지 않아 계산이 불가합니다\n"
          ]
        }
      ],
      "source": [
        "# try except 구문으로\n",
        "\n",
        "try:\n",
        "    x, y = map(int, input(\"밑변과 높이를 입력해주세요:\").split(' '))\n",
        "    x, y = int(x), int(y)\n",
        "    print(f'삼각형의 넓이는 {x*y/2}입니다.')\n",
        "except:\n",
        "    print(\"정수로 입력하지 않아 계산이 불가합니다\")"
      ]
    },
    {
      "cell_type": "markdown",
      "source": [
        "try except 구문과 pass 키워드 조합 구조\n",
        "\n",
        "-예외가 발생하더라도 지금 당장 처리하지 않아도 되는 부분이라면 pss 키워드를 사용할 수 O"
      ],
      "metadata": {
        "id": "TnPNvGBlZUa8"
      }
    },
    {
      "cell_type": "code",
      "source": [
        "list_input = [\"1\", \"7\", \"3\", \"스파이\", \"4\"]\n",
        "list_number = []\n",
        "\n",
        "for item in list_input:\n",
        "    try:\n",
        "        int(item)       # \"스파이\"는 int로 변환이 안되니까 excpet로\n",
        "        list_number.append(item)\n",
        "    except:\n",
        "        pass\n",
        "\n",
        "print(list_number)"
      ],
      "metadata": {
        "colab": {
          "base_uri": "https://localhost:8080/"
        },
        "id": "ryg5q8tgZS6g",
        "outputId": "2a8919c4-d28c-4f41-a680-1b20534b64fa"
      },
      "execution_count": 21,
      "outputs": [
        {
          "output_type": "stream",
          "name": "stdout",
          "text": [
            "['1', '7', '3', '4']\n"
          ]
        }
      ]
    },
    {
      "cell_type": "code",
      "source": [
        "# try ~ except 구문 사용 이유와 방법 설명\n",
        "# => 이유 : 예외 발생해도 프로그램이 강제 종료되지 않도록 안전하게 처리하기 위해 사용\n",
        "#    방법 : try: 예외가 발생할 가능성이 있는 코드\n",
        "#          except: 예외 발생 시 실행할 코드\n",
        "\n",
        "# finally 구문의 기능과 특징은?\n",
        "# => 기능 : 예외 발생 여부와 상관없이 마지막에 무조건 실행\n",
        "#    특징 : return 구문으로 함수를 빠져나와도, 반복문 break로 빠져나와도 finally 구문 실행됨"
      ],
      "metadata": {
        "id": "_3EySKT3hm_A"
      },
      "execution_count": null,
      "outputs": []
    }
  ]
}