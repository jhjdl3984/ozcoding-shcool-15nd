{
  "nbformat": 4,
  "nbformat_minor": 0,
  "metadata": {
    "colab": {
      "provenance": [],
      "authorship_tag": "ABX9TyNODlpjftEgMTVTfbpC/BYq",
      "include_colab_link": true
    },
    "kernelspec": {
      "name": "python3",
      "display_name": "Python 3"
    },
    "language_info": {
      "name": "python"
    }
  },
  "cells": [
    {
      "cell_type": "markdown",
      "metadata": {
        "id": "view-in-github",
        "colab_type": "text"
      },
      "source": [
        "<a href=\"https://colab.research.google.com/github/jhjdl3984/ozcoding-shcool-15nd/blob/main/chapter4.ipynb\" target=\"_parent\"><img src=\"https://colab.research.google.com/assets/colab-badge.svg\" alt=\"Open In Colab\"/></a>"
      ]
    },
    {
      "cell_type": "markdown",
      "source": [
        "##사칙연산\n",
        "더하기: +\n",
        "\n",
        "빼기: -\n",
        "\n",
        "곱하기: *\n",
        "\n",
        "나누기:\n",
        "*   / : 예) 5/2 = 2.5\n",
        "*   // : 몫을 반환 예) 5//2 = 2\n",
        "*   % : 나머지 반환 예) 5%2 = 1\n",
        "\n",
        "\n",
        "거듭제곱: **"
      ],
      "metadata": {
        "id": "kHHa-eApjw9C"
      }
    },
    {
      "cell_type": "code",
      "source": [
        "# /\n",
        "print(7/2)\n",
        "\n",
        "# //\n",
        "print(7//2)\n",
        "\n",
        "# %\n",
        "print(7%2)"
      ],
      "metadata": {
        "colab": {
          "base_uri": "https://localhost:8080/"
        },
        "id": "_910ZqA1mAmH",
        "outputId": "bfe5088b-8ffc-49c5-e468-25e3030cf5bf"
      },
      "execution_count": null,
      "outputs": [
        {
          "output_type": "stream",
          "name": "stdout",
          "text": [
            "3.5\n",
            "3\n",
            "1\n"
          ]
        }
      ]
    },
    {
      "cell_type": "code",
      "metadata": {
        "colab": {
          "base_uri": "https://localhost:8080/"
        },
        "id": "NkOyOKoPAjy6",
        "outputId": "b8253806-cac7-4f04-ed2a-eb39fa71d192"
      },
      "source": [
        "a = 10 // 3\n",
        "print(a)"
      ],
      "execution_count": null,
      "outputs": [
        {
          "output_type": "stream",
          "name": "stdout",
          "text": [
            "3\n"
          ]
        }
      ]
    },
    {
      "cell_type": "markdown",
      "source": [
        "내장함수 : **divmod** => 몫과 나머지를 동시에 구해줌\n",
        "\n",
        ">내장함수 : 자주 사용하는 기능을 미리 만들어 놓은것을 내장함수라 함"
      ],
      "metadata": {
        "id": "IDVwuLbMmmIh"
      }
    },
    {
      "cell_type": "code",
      "source": [
        "print(divmod(3, 2))\n",
        "print(divmod(7, 4))\n",
        "print(divmod(13, 2))\n",
        "print(divmod(19, 4))\n",
        "print(divmod(15, 5))\n",
        "\n",
        "print(7//4, \", \", 7%4)"
      ],
      "metadata": {
        "colab": {
          "base_uri": "https://localhost:8080/"
        },
        "id": "4vIy-mrgmfix",
        "outputId": "7e76dec3-f64a-4a6a-e03a-7fbef5f2491f"
      },
      "execution_count": null,
      "outputs": [
        {
          "output_type": "stream",
          "name": "stdout",
          "text": [
            "(1, 1)\n",
            "(1, 3)\n",
            "(6, 1)\n",
            "(4, 3)\n",
            "(3, 0)\n",
            "1 ,  3\n"
          ]
        }
      ]
    },
    {
      "cell_type": "markdown",
      "source": [
        "### 괄호\n",
        "\n",
        "() : 괄호안에 있는 것을 먼저 계산"
      ],
      "metadata": {
        "id": "X1h1abN6bPuS"
      }
    }
  ]
}