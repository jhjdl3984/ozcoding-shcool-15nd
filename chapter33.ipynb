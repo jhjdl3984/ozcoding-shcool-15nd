{
  "nbformat": 4,
  "nbformat_minor": 0,
  "metadata": {
    "colab": {
      "provenance": [],
      "authorship_tag": "ABX9TyOqBFg7l2fJWXAbdc5doMhk",
      "include_colab_link": true
    },
    "kernelspec": {
      "name": "python3",
      "display_name": "Python 3"
    },
    "language_info": {
      "name": "python"
    }
  },
  "cells": [
    {
      "cell_type": "markdown",
      "metadata": {
        "id": "view-in-github",
        "colab_type": "text"
      },
      "source": [
        "<a href=\"https://colab.research.google.com/github/jhjdl3984/ozcoding-shcool-15nd/blob/main/chapter33.ipynb\" target=\"_parent\"><img src=\"https://colab.research.google.com/assets/colab-badge.svg\" alt=\"Open In Colab\"/></a>"
      ]
    },
    {
      "cell_type": "markdown",
      "source": [
        "##오류 종류와 기본 예외 처리"
      ],
      "metadata": {
        "id": "9fLdrsFUC8yz"
      }
    },
    {
      "cell_type": "markdown",
      "source": [
        "###오류 종류\n",
        "-구문오류 : 프로그램 실행 전에 발생하는 오류\n",
        "\n",
        "-예외 or 런타임오류 : 프로그램 실행 중에 발생하는 오류"
      ],
      "metadata": {
        "id": "ok44-IVEDLlT"
      }
    },
    {
      "cell_type": "code",
      "execution_count": 1,
      "metadata": {
        "colab": {
          "base_uri": "https://localhost:8080/",
          "height": 110
        },
        "id": "gyGMFoEcC5wg",
        "outputId": "61afad4a-1d9c-4ea9-e448-66743ba668c3"
      },
      "outputs": [
        {
          "output_type": "error",
          "ename": "SyntaxError",
          "evalue": "incomplete input (ipython-input-1533112762.py, line 3)",
          "traceback": [
            "\u001b[0;36m  File \u001b[0;32m\"/tmp/ipython-input-1533112762.py\"\u001b[0;36m, line \u001b[0;32m3\u001b[0m\n\u001b[0;31m    print(\"오류는 아주 사소한것부터 발생합니다.\"\u001b[0m\n\u001b[0m                                ^\u001b[0m\n\u001b[0;31mSyntaxError\u001b[0m\u001b[0;31m:\u001b[0m incomplete input\n"
          ]
        }
      ],
      "source": [
        "# 구문오류 => 괄호의 개수, 들여쓰기 문제 등\n",
        "\n",
        "print(\"오류는 아주 사소한것부터 발생합니다.\"\n",
        "# 구문오류는 구문에 문제가 생겨 프로그램이 실행조차 되지 않았다 라고 보면 됨"
      ]
    },
    {
      "cell_type": "code",
      "source": [
        "# 예외\n",
        "\n",
        "# 예외 발생\n",
        "dogs.append(\"말티즈\")\n",
        "\n",
        "# 예외 해결\n",
        "dogs = [\"시츄\", \"푸들\"]\n",
        "dogs.append(\"말티즈\")\n",
        "print(dogs)"
      ],
      "metadata": {
        "colab": {
          "base_uri": "https://localhost:8080/"
        },
        "id": "i667RMk5FZXw",
        "outputId": "04783bbe-a8ab-4043-ac0c-0f53b2bd49ec"
      },
      "execution_count": 6,
      "outputs": [
        {
          "output_type": "stream",
          "name": "stdout",
          "text": [
            "['시츄', '푸들', '말티즈']\n"
          ]
        }
      ]
    },
    {
      "cell_type": "markdown",
      "source": [
        "###기본 예외 처리\n",
        "\n",
        "예외처리하는 2가지 방법\n",
        "\n",
        "- 조건문을 사용 (isdigit()도 조건문에 포함)\n",
        "\n",
        "- try 구문을 사용\n",
        "\n",
        "**구문 오류는 예외 처리로 불가하기 때문에 코드 자체를 수정해야 함**"
      ],
      "metadata": {
        "id": "HQCganDMGOU7"
      }
    },
    {
      "cell_type": "code",
      "source": [
        "# 조건문 사용해서 예외처리\n",
        "# 삼각형의 넓이 구하기\n",
        "\n",
        "x, y = map(int, input(\"밑변과 높이를 입력해주세요:\").split(' '))\n",
        "\n",
        "print(f'삼각형의 넓이는 {x*y/2}입니다.')\n",
        "# split(' ') => 띄어쓰기로 값을 구분"
      ],
      "metadata": {
        "colab": {
          "base_uri": "https://localhost:8080/"
        },
        "id": "wyxxcaOuHT31",
        "outputId": "3a92b66b-16e3-45c3-8349-1e11c246c6b9"
      },
      "execution_count": 12,
      "outputs": [
        {
          "output_type": "stream",
          "name": "stdout",
          "text": [
            "밑변과 높이를 입력해주세요:4 2\n",
            "삼각형의 넓이는 4.0입니다.\n"
          ]
        }
      ]
    },
    {
      "cell_type": "markdown",
      "source": [
        "isdigit()\n",
        "\n",
        ": 숫자로만 구성된 글자인지를 판단하고 숫자로 변환 가능한 글자라면 true 반환"
      ],
      "metadata": {
        "id": "XwVigXVqKGln"
      }
    },
    {
      "cell_type": "code",
      "source": [
        "# input 입력값을 3cm 5cm 라고 넣었을때 => ValueError 발생\n",
        "\n",
        "x, y = map(int, input(\"밑변과 높이를 입력해주세요:\").split(' '))\n",
        "\n",
        "print(f'삼각형의 넓이는 {x*y/2}입니다.')"
      ],
      "metadata": {
        "id": "4DSh009JLaKl"
      },
      "execution_count": null,
      "outputs": []
    },
    {
      "cell_type": "code",
      "source": [
        "# input 입력값을 3cm 5cm 라고 넣었을 때, isdigit()을 넣어 숫자로 변환 가능한지 판단해보기\n",
        "\n",
        "# 내가 생각한 isdigit() 사용법\n",
        "x, y = map(int, input(\"밑변과 높이를 입력해주세요:\").isdigit().split(' '))\n",
        "\n",
        "print(f'삼각형의 넓이는 {x*y/2}입니다.')\n",
        "# isdigit()으로 사용자의 입력이 숫자인지 문자열인지 여부(True/False)가 반환됨\n",
        "# => 그 결과값은 True나 False라서 틀린 코드"
      ],
      "metadata": {
        "id": "kTefdzr6ODzB"
      },
      "execution_count": null,
      "outputs": []
    },
    {
      "cell_type": "code",
      "source": [
        "# input 입력값을 3cm 5cm 라고 넣었을 때, isdigit()을 넣어 숫자로 변환 가능한지 판단해보기\n",
        "\n",
        "x, y = input(\"밑변과 높이를 입력해주세요:\").split(' ')\n",
        "\n",
        "if x.isdigit() and y.isdigit():\n",
        "    x, y = int(x), int(y)\n",
        "    print(f'삼각형의 넓이는 {x*y/2}입니다.')\n",
        "# 오류 구문을 출력하지 않으려고 else 추가\n",
        "else:\n",
        "    print(\"정수로 입력하지 않아 계산이 불가합니다\")"
      ],
      "metadata": {
        "colab": {
          "base_uri": "https://localhost:8080/"
        },
        "id": "1yXOUqTxNHOe",
        "outputId": "d679f4ae-e00d-4f4b-d309-746343faa0cd"
      },
      "execution_count": 20,
      "outputs": [
        {
          "output_type": "stream",
          "name": "stdout",
          "text": [
            "밑변과 높이를 입력해주세요:3cm 5cm\n",
            "정수로 입력하지 않아 계산이 불가합니다\n"
          ]
        }
      ]
    },
    {
      "cell_type": "code",
      "source": [
        "x, y = input(\"밑변과 높이를 입력해주세요:\").split(' ')\n",
        "\n",
        "if x.isdigit() and y.isdigit():\n",
        "    x, y = int(x), int(y)\n",
        "    print(f'삼각형의 넓이는 {x*y/2}입니다.')\n",
        "# 오류 구문을 출력하지 않으려고 else 추가\n",
        "else:\n",
        "    print(\"정수로 입력하지 않아 계산이 불가합니다\")"
      ],
      "metadata": {
        "colab": {
          "base_uri": "https://localhost:8080/"
        },
        "id": "azrdGngdQS54",
        "outputId": "f1d06031-e6d4-485b-e10f-cff62bb3dc4f"
      },
      "execution_count": 22,
      "outputs": [
        {
          "output_type": "stream",
          "name": "stdout",
          "text": [
            "밑변과 높이를 입력해주세요:4.0 2.0\n",
            "정수로 입력하지 않아 계산이 불가합니다\n"
          ]
        }
      ]
    },
    {
      "cell_type": "code",
      "source": [
        "# 오류의 종류는? => 구문오류, 예외 or 런타임 오류\n",
        "# 오류 종류별로 해결할 수 있는 방법은?\n",
        "# 구문오류 => 코드를 직접 수정\n",
        "# 예외 or 런타임 오류 => 조건문 사용, try 구문 사용\n",
        "# isdigit() 함수란? => 숫자로만 구성됐는지 판단하고 숫자로 변환 가능하면 true를 반환"
      ],
      "metadata": {
        "id": "NnpeD-ukUPho"
      },
      "execution_count": null,
      "outputs": []
    }
  ]
}