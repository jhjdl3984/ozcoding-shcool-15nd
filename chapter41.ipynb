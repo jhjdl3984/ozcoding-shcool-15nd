{
  "nbformat": 4,
  "nbformat_minor": 0,
  "metadata": {
    "colab": {
      "provenance": [],
      "authorship_tag": "ABX9TyPjMJmIkBt5DcwE/Jphp5/O",
      "include_colab_link": true
    },
    "kernelspec": {
      "name": "python3",
      "display_name": "Python 3"
    },
    "language_info": {
      "name": "python"
    }
  },
  "cells": [
    {
      "cell_type": "markdown",
      "metadata": {
        "id": "view-in-github",
        "colab_type": "text"
      },
      "source": [
        "<a href=\"https://colab.research.google.com/github/jhjdl3984/ozcoding-shcool-15nd/blob/main/chapter41.ipynb\" target=\"_parent\"><img src=\"https://colab.research.google.com/assets/colab-badge.svg\" alt=\"Open In Colab\"/></a>"
      ]
    },
    {
      "cell_type": "markdown",
      "source": [
        "##패키지\n",
        "\n",
        "-모듈의 집합"
      ],
      "metadata": {
        "id": "FvjlCMBbi8me"
      }
    },
    {
      "cell_type": "code",
      "execution_count": null,
      "metadata": {
        "id": "NwK3WrtZi5Ed"
      },
      "outputs": [],
      "source": [
        "# module_package 폴더 생성\n",
        "# module_package 폴더 안에 oz_package 폴더 생성\n",
        "# oz_package 폴더 안에 oz_module_1.py, oz_module_2.py 파일 생성\n",
        "# oz_module_1.py 파일에 작성\n",
        "val_1 = \"module_1의 변수\"\n",
        "\n",
        "# oz_module_2.py 파일에 작성\n",
        "val_2 = \"module_2의 변수\"\n",
        "\n",
        "# module_package 폴더 안에 mian2.py 파일 생성 후 작성\n",
        "import oz_package.oz_module_1 as one\n",
        "import oz_package.oz_module_2 as two\n",
        "\n",
        "print(one.val_1)\n",
        "print(two.val_2)\n",
        "\n",
        "# main2.py 파일 실행"
      ]
    }
  ]
}