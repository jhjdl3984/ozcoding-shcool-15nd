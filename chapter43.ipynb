{
  "nbformat": 4,
  "nbformat_minor": 0,
  "metadata": {
    "colab": {
      "provenance": [],
      "authorship_tag": "ABX9TyP4QdbHD4BsgPj6iGn7V/ut",
      "include_colab_link": true
    },
    "kernelspec": {
      "name": "python3",
      "display_name": "Python 3"
    },
    "language_info": {
      "name": "python"
    }
  },
  "cells": [
    {
      "cell_type": "markdown",
      "metadata": {
        "id": "view-in-github",
        "colab_type": "text"
      },
      "source": [
        "<a href=\"https://colab.research.google.com/github/jhjdl3984/ozcoding-shcool-15nd/blob/main/chapter43.ipynb\" target=\"_parent\"><img src=\"https://colab.research.google.com/assets/colab-badge.svg\" alt=\"Open In Colab\"/></a>"
      ]
    },
    {
      "cell_type": "markdown",
      "source": [
        "##생성자와 메소드\n",
        "\n",
        "-생성자 : 클래스의 이름과 같은 함수"
      ],
      "metadata": {
        "id": "Z5RbTw4hZt4l"
      }
    },
    {
      "cell_type": "code",
      "execution_count": null,
      "metadata": {
        "id": "mWKzfo1IZpCE"
      },
      "outputs": [],
      "source": [
        "class CreatOzStudent:\n",
        "    pass\n",
        "\n",
        "student = CreatOzStudent()      # CreatOzStudent() => 생성자 함수"
      ]
    },
    {
      "cell_type": "code",
      "source": [
        "# __init__ 함수 사용법\n",
        "# class 클래스이름:\n",
        "#     def __init__(self, 추가적인 매개변수)"
      ],
      "metadata": {
        "id": "S89chG-beJgR"
      },
      "execution_count": null,
      "outputs": []
    },
    {
      "cell_type": "code",
      "source": [
        "class CreateOzStudents:\n",
        "    def __init__(self, name, python, database, django, aws):\n",
        "        self.name = name\n",
        "        self.python = python\n",
        "        self.database = database\n",
        "        self.django = django\n",
        "        self.aws = aws\n",
        "\n",
        "oz_students = [\n",
        "    CreateOzStudents(\"백현우\", 4, 3, 3, 2),\n",
        "    CreateOzStudents(\"홍혜인\", 4, 5, 2, 4),\n",
        "    CreateOzStudents(\"윤은성\", 3, 4, 4, 1),\n",
        "    CreateOzStudents(\"홍수철\", 2, 3, 1, 5),\n",
        "]\n",
        "\n",
        "# oz_students 인스턴스 속성에 접근하는 방법\n",
        "print(oz_students[0].name)\n",
        "print(oz_students[2].python)\n"
      ],
      "metadata": {
        "colab": {
          "base_uri": "https://localhost:8080/"
        },
        "id": "Q-0HkMv5fNLs",
        "outputId": "469fc459-cfc7-4426-a37c-738dd5b4463c"
      },
      "execution_count": 6,
      "outputs": [
        {
          "output_type": "stream",
          "name": "stdout",
          "text": [
            "백현우\n",
            "3\n"
          ]
        }
      ]
    },
    {
      "cell_type": "code",
      "source": [
        "# class 클래스이름:\n",
        "#     def 메소드이름(self, 추가적인 매개변수)    # 클래스가 가지고 있는 함수 => 메소드\n",
        "#         pass"
      ],
      "metadata": {
        "id": "8vpk6dnFig5Q"
      },
      "execution_count": null,
      "outputs": []
    },
    {
      "cell_type": "code",
      "source": [
        "# 위의 코드에 총합과 평균을 구하는 기능을 클래스의 내부 함수로 만들기\n",
        "\n",
        "class CreateOzStudents:\n",
        "    def __init__(self, name, python, database, django, aws):\n",
        "        self.name = name\n",
        "        self.python = python\n",
        "        self.database = database\n",
        "        self.django = django\n",
        "        self.aws = aws\n",
        "\n",
        "    def get_sum(self):\n",
        "        return self.python + self.database + self.django + self.aws\n",
        "\n",
        "    def get_avg(self):\n",
        "        return self.get_sum() / 4\n",
        "\n",
        "    def to_string(self):\n",
        "            return f'{self.name}\\t{self.get_sum()}\\t{self.get_avg()}'\n",
        "                                #get_sum() => get_sum 함수 호출\n",
        "                                #get_avg() => get_avg 함수 호출\n",
        "\n",
        "oz_students = [\n",
        "    CreateOzStudents(\"백현우\", 4, 3, 3, 2),\n",
        "    CreateOzStudents(\"홍혜인\", 4, 5, 2, 4),\n",
        "    CreateOzStudents(\"윤은성\", 3, 4, 4, 1),\n",
        "    CreateOzStudents(\"홍수철\", 2, 3, 1, 5),\n",
        "]\n",
        "\n",
        "print(\"이름\", \"총점\", \"평균\", sep='\\t')\n",
        "for student in oz_students:\n",
        "    print(student.to_string())"
      ],
      "metadata": {
        "colab": {
          "base_uri": "https://localhost:8080/"
        },
        "id": "Za4EWjxui94q",
        "outputId": "c668b9a3-14a6-4575-9c6a-816a745f3e5e"
      },
      "execution_count": 19,
      "outputs": [
        {
          "output_type": "stream",
          "name": "stdout",
          "text": [
            "이름\t총점\t평균\n",
            "백현우\t12\t3.0\n",
            "홍혜인\t15\t3.75\n",
            "윤은성\t12\t3.0\n",
            "홍수철\t11\t2.75\n"
          ]
        }
      ]
    }
  ]
}