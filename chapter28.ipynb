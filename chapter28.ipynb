{
  "nbformat": 4,
  "nbformat_minor": 0,
  "metadata": {
    "colab": {
      "provenance": [],
      "authorship_tag": "ABX9TyPxjDfNb79HCOujQJZjuOkT",
      "include_colab_link": true
    },
    "kernelspec": {
      "name": "python3",
      "display_name": "Python 3"
    },
    "language_info": {
      "name": "python"
    }
  },
  "cells": [
    {
      "cell_type": "markdown",
      "metadata": {
        "id": "view-in-github",
        "colab_type": "text"
      },
      "source": [
        "<a href=\"https://colab.research.google.com/github/jhjdl3984/ozcoding-shcool-15nd/blob/main/chapter28.ipynb\" target=\"_parent\"><img src=\"https://colab.research.google.com/assets/colab-badge.svg\" alt=\"Open In Colab\"/></a>"
      ]
    },
    {
      "cell_type": "markdown",
      "source": [
        "##조기 리턴"
      ],
      "metadata": {
        "id": "N0fxwrgwH7mR"
      }
    },
    {
      "cell_type": "code",
      "execution_count": null,
      "metadata": {
        "id": "MZp_IlE9H4Po"
      },
      "outputs": [],
      "source": [
        "memo = {\n",
        "    1: 1,\n",
        "    2: 1\n",
        "}\n",
        "\n",
        "count = 0\n",
        "\n",
        "def oz_fibo(n):\n",
        "    print(f'피보나치 수열 {n}을 구하는 중입니다.')\n",
        "    global count\n",
        "    count += 1\n",
        "\n",
        "    if n in memo:\n",
        "        return memo[n]\n",
        "    else:\n",
        "        output = oz_fibo(n-1) + oz_fibo(n-2)\n",
        "        memo[n] = output\n",
        "        return output\n",
        "\n",
        "n = int(input(\"구하고자하는 피보나치의 수열의 수를 입력해주세요\"))\n",
        "oz_fibo(n)\n",
        "print(f'피보나치 수열 {n}을 구하기 위해 계산된 횟수는 {count}입니다.')"
      ]
    },
    {
      "cell_type": "code",
      "source": [
        "# 위의 코드를 간단하게\n",
        "\n",
        "memo = {\n",
        "    1: 1,\n",
        "    2: 1\n",
        "}\n",
        "\n",
        "count = 0\n",
        "\n",
        "def oz_fibo(n):\n",
        "    print(f'피보나치 수열 {n}을 구하는 중입니다.')\n",
        "    global count\n",
        "    count += 1\n",
        "\n",
        "    if n in memo:\n",
        "        return memo[n]\n",
        "\n",
        "    output = oz_fibo(n-1) + oz_fibo(n-2)      # else를 지우고 블럭을 한 tab 땡겨오면\n",
        "    memo[n] = output                          # if문에 해당하지 않은 것들은 여기를 읽게되므로\n",
        "    return output                             # 굳이 else: 를 쓰지 않아도 O\n",
        "\n",
        "n = int(input(\"구하고자하는 피보나치의 수열의 수를 입력해주세요\"))\n",
        "oz_fibo(n)\n",
        "print(f'피보나치 수열 {n}을 구하기 위해 계산된 횟수는 {count}입니다.')"
      ],
      "metadata": {
        "id": "9J6W9ux1I9kG"
      },
      "execution_count": null,
      "outputs": []
    }
  ]
}