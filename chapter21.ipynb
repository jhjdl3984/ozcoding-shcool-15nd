{
  "nbformat": 4,
  "nbformat_minor": 0,
  "metadata": {
    "colab": {
      "provenance": [],
      "authorship_tag": "ABX9TyNmHmhtbGAW1HA9uz0agIgK",
      "include_colab_link": true
    },
    "kernelspec": {
      "name": "python3",
      "display_name": "Python 3"
    },
    "language_info": {
      "name": "python"
    }
  },
  "cells": [
    {
      "cell_type": "markdown",
      "metadata": {
        "id": "view-in-github",
        "colab_type": "text"
      },
      "source": [
        "<a href=\"https://colab.research.google.com/github/jhjdl3984/ozcoding-shcool-15nd/blob/main/chapter21.ipynb\" target=\"_parent\"><img src=\"https://colab.research.google.com/assets/colab-badge.svg\" alt=\"Open In Colab\"/></a>"
      ]
    },
    {
      "cell_type": "markdown",
      "source": [
        "##함수 기본"
      ],
      "metadata": {
        "id": "-p20MHNIkUyj"
      }
    },
    {
      "cell_type": "markdown",
      "source": [
        "함수명() => 함수를 실행 => 호출 이라고함"
      ],
      "metadata": {
        "id": "R61Vl48HkdUh"
      }
    },
    {
      "cell_type": "code",
      "execution_count": 1,
      "metadata": {
        "colab": {
          "base_uri": "https://localhost:8080/"
        },
        "id": "Dz1XgZ61kBmt",
        "outputId": "fa0375e1-53c2-423f-f8fb-46cc6bd7d5e6"
      },
      "outputs": [
        {
          "output_type": "stream",
          "name": "stdout",
          "text": [
            "OZ코딩스쿨\n",
            "OZ코딩스쿨\n",
            "OZ코딩스쿨\n",
            "OZ코딩스쿨\n",
            "OZ코딩스쿨\n"
          ]
        }
      ],
      "source": [
        "#예)\n",
        "def oz():\n",
        "    for i in range(5):\n",
        "        print(\"OZ코딩스쿨\")\n",
        "\n",
        "oz()     # 호출"
      ]
    },
    {
      "cell_type": "code",
      "source": [
        "def oz(massage, n):\n",
        "    for i in range(n):\n",
        "        print(massage)\n",
        "\n",
        "oz(\"안녕하세요\", 4)"
      ],
      "metadata": {
        "colab": {
          "base_uri": "https://localhost:8080/"
        },
        "id": "rddydVedmDXC",
        "outputId": "e9580e20-6f0e-434e-a076-e88f9b6d9b0b"
      },
      "execution_count": 3,
      "outputs": [
        {
          "output_type": "stream",
          "name": "stdout",
          "text": [
            "안녕하세요\n",
            "안녕하세요\n",
            "안녕하세요\n",
            "안녕하세요\n"
          ]
        }
      ]
    },
    {
      "cell_type": "code",
      "source": [
        "# 함수의 기본 구조? => def 함수명():\n",
        "#                       코드\n",
        "\n",
        "# 함수 호출은 무엇을 의미?, 호출은 어떻게? => 함수를 실행, 함수명()\n",
        "\n",
        "# 매개변수란 무엇? => 함수명()의 괄호 안에 들어가 있는것\n",
        "\n",
        "# 식별자는 무엇?, 사용하는 이유는? => 매개변수처럼 함수명() 있는것 (매개변수는 식별자의 한 종류),\n",
        "#                              함수를 호출 시, 전달받은 argument를 받기 위해서\n",
        "\n",
        "# 식별자는 함수 안에서 어떻게 사용되는가? => 매개변수의 이름, 지역변수의 이름"
      ],
      "metadata": {
        "id": "8qqX8mKxnV-f"
      },
      "execution_count": null,
      "outputs": []
    }
  ]
}