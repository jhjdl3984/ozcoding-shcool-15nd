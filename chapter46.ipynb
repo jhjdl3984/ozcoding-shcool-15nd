{
  "nbformat": 4,
  "nbformat_minor": 0,
  "metadata": {
    "colab": {
      "provenance": [],
      "authorship_tag": "ABX9TyMhfbwLrrkcvAgMc47OO2c+",
      "include_colab_link": true
    },
    "kernelspec": {
      "name": "python3",
      "display_name": "Python 3"
    },
    "language_info": {
      "name": "python"
    }
  },
  "cells": [
    {
      "cell_type": "markdown",
      "metadata": {
        "id": "view-in-github",
        "colab_type": "text"
      },
      "source": [
        "<a href=\"https://colab.research.google.com/github/jhjdl3984/ozcoding-shcool-15nd/blob/main/chapter46.ipynb\" target=\"_parent\"><img src=\"https://colab.research.google.com/assets/colab-badge.svg\" alt=\"Open In Colab\"/></a>"
      ]
    },
    {
      "cell_type": "markdown",
      "source": [
        "##프라이빗 변수\n",
        "\n",
        "-객체 지향 프로그래밍의 최종 목표 : 객체를 효율적으로 만들고 사용하는 것"
      ],
      "metadata": {
        "id": "vSmID-K9YaT7"
      }
    },
    {
      "cell_type": "code",
      "execution_count": 2,
      "metadata": {
        "colab": {
          "base_uri": "https://localhost:8080/"
        },
        "id": "7jESwIJ8YVfb",
        "outputId": "8571c4bd-b566-47e2-a240-5a877f7e1722"
      },
      "outputs": [
        {
          "output_type": "stream",
          "name": "stdout",
          "text": [
            "원의 둘레: -12.566370614359172\n",
            "원의 넓이: 12.566370614359172\n"
          ]
        }
      ],
      "source": [
        "import math\n",
        "\n",
        "class OzCircle:\n",
        "    def __init__(self, radius):\n",
        "        self.radius = radius\n",
        "    def get_circumference(self):\n",
        "        return 2 * math.pi * self.radius\n",
        "    def get_area(self):\n",
        "        return math.pi * (self.radius ** 2)\n",
        "\n",
        "circle = OzCircle(10)\n",
        "circle.radius = -2      # radius가 -2가 돼서 circle = OzCircle(10)이건 필요가 없어짐\n",
        "                        # 변경되지 않아야 하는 값들이 있는데 외부에서 이렇게 값을 변경할 수가 O\n",
        "                        # 외부에서 내부의 함수를 만질 수 없도록 하는 방법 => 프라이빗 변수\n",
        "\n",
        "print(\"원의 둘레:\", circle.get_circumference())\n",
        "print(\"원의 넓이:\", circle.get_area())"
      ]
    },
    {
      "cell_type": "code",
      "source": [
        "# 프라이빗 변수 => 변수 앞에 __ 사용\n",
        "# 프라이빗 변수 사용 => 외부에서 내부의 함수를 만질 수 없도록\n",
        "\n",
        "import math\n",
        "\n",
        "# 내부 함수에 접근이 불가하도록 만드는 것이기 때문에 클래스 안에 프라이빗 변수를 작성\n",
        "class OzCircle:\n",
        "    def __init__(self, radius):     # 매개변수에 작성 X\n",
        "        self.__radius = radius        # 변수에 작성 O\n",
        "    def get_circumference(self):\n",
        "        return 2 * math.pi * self.__radius\n",
        "    def get_area(self):\n",
        "        return math.pi * (self.__radius ** 2)\n",
        "\n",
        "circle = OzCircle(10)\n",
        "circle.radius = -2      # => 프라이빗 변수를 써서 작동 X\n",
        "\n",
        "print(\"원의 둘레:\", circle.get_circumference())\n",
        "print(\"원의 넓이:\", circle.get_area())"
      ],
      "metadata": {
        "colab": {
          "base_uri": "https://localhost:8080/"
        },
        "id": "43CCrbEkbhwZ",
        "outputId": "a6954c4e-540b-40d6-9293-e1fcc622e3fd"
      },
      "execution_count": 3,
      "outputs": [
        {
          "output_type": "stream",
          "name": "stdout",
          "text": [
            "원의 둘레: 62.83185307179586\n",
            "원의 넓이: 314.1592653589793\n"
          ]
        }
      ]
    }
  ]
}