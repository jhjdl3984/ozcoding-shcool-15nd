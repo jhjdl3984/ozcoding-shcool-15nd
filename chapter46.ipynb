{
  "nbformat": 4,
  "nbformat_minor": 0,
  "metadata": {
    "colab": {
      "provenance": [],
      "authorship_tag": "ABX9TyNF6bRhPJESJTPCxyb4rYYD",
      "include_colab_link": true
    },
    "kernelspec": {
      "name": "python3",
      "display_name": "Python 3"
    },
    "language_info": {
      "name": "python"
    }
  },
  "cells": [
    {
      "cell_type": "markdown",
      "metadata": {
        "id": "view-in-github",
        "colab_type": "text"
      },
      "source": [
        "<a href=\"https://colab.research.google.com/github/jhjdl3984/ozcoding-shcool-15nd/blob/main/chapter46.ipynb\" target=\"_parent\"><img src=\"https://colab.research.google.com/assets/colab-badge.svg\" alt=\"Open In Colab\"/></a>"
      ]
    },
    {
      "cell_type": "markdown",
      "source": [
        "##객체와 클래스 선언하기\n",
        "\n",
        "-객체 지향 프로그래밍 : 클래스 기반의 객체를 우선으로 생각하는 프로그래밍\n",
        "\n",
        "-객체 : 구현하고자 하는 대상의 속성과 기능을 함께 가지는 프로그램 단위\n",
        "\n",
        "-예: 사람을 객체로 만들면\n",
        "- 속성(눈, 코, 입, 키 등) => 데이터\n",
        "- 기능(다리를 이용해 걷기, 물건울 잡을때는 손가락을 이용하기 등) => 메서드\n",
        "\n",
        "=> 객체를 만들기 위해서는 속성과 기능이 필요\n",
        "\n",
        "but, 많은 것들을 프로그램으로 표현하기에는 대상들의 구성요소, 특징, 기능들이 많음\n",
        "\n",
        "=> 객체의 속성이 많은 경우 필요한 속성만을 이용해 객체를 표현(추상화라고함)"
      ],
      "metadata": {
        "id": "d7DA-1WjJX65"
      }
    },
    {
      "cell_type": "code",
      "source": [
        "# 수강생을 객체로 만들기 위해서 필요한 속성과 기능은?\n",
        "# 이름\n",
        "# python 활용 능력(1~5 점수가 높을수록 실력이 좋음)\n",
        "# Database 활용 능력(1~5 점수가 높을수록 실력이 좋음)\n",
        "# Django 활용 능력(1~5 점수가 높을수록 실력이 좋음)\n",
        "# AWS 활용 능력(1~5 점수가 높을수록 실력이 좋음)\n",
        "\n",
        "# 각 학생의 활용 능력 평균 구하기\n",
        "oz_students = [\n",
        "    {\"name\": \"백현우\", \"python\": 4, \"Database\": 3, \"Django\": 3, \"AWS\": 2},      # 객체1\n",
        "    {\"name\": \"홍혜인\", \"python\": 4, \"Database\": 5, \"Django\": 2, \"AWS\": 4},      # 객체2\n",
        "    {\"name\": \"윤은성\", \"python\": 3, \"Database\": 4, \"Django\": 4, \"AWS\": 1},      # 객체3\n",
        "    {\"name\": \"홍수철\", \"python\": 2, \"Database\": 3, \"Django\": 1, \"AWS\": 5},      # 객체4\n",
        "]\n",
        "\n",
        "print(\"이름\", \"총점\", \"평균\", sep='\\t')             # sep='\\t' => 각 값 사이에 tab 넣는것.\n",
        "\n",
        "for student in oz_students:\n",
        "    ablity_sum = student[\"python\"] + student[\"Database\"] + student[\"Django\"] + student[\"AWS\"]\n",
        "    ablity_avg = ablity_sum / 4\n",
        "\n",
        "    print(student[\"name\"], ablity_sum, ablity_avg, sep='\\t')\n",
        "# 프로그래밍 언어에서 좀 더 넓은 의미로 속성을 가질 수 있는 모든 것 => 객체"
      ],
      "metadata": {
        "colab": {
          "base_uri": "https://localhost:8080/"
        },
        "id": "LLmeKGc3NikZ",
        "outputId": "5f4be182-e7eb-4cb3-d978-f41113ca3628"
      },
      "execution_count": 15,
      "outputs": [
        {
          "output_type": "stream",
          "name": "stdout",
          "text": [
            "이름\t총점\t평균\n",
            "백현우\t12\t3.0\n",
            "홍혜인\t15\t3.75\n",
            "윤은성\t12\t3.0\n",
            "홍수철\t11\t2.75\n"
          ]
        }
      ]
    },
    {
      "cell_type": "code",
      "source": [
        "def create_oz_student(name, python, database, django, AWS):\n",
        "    return {\"name\":name, \"python\":python, \"database\":database, \"django\":django, \"AWS\":AWS}\n",
        "\n",
        "oz_students=[\n",
        "create_oz_student(\"백현우\", 4, 3, 3, 2),\n",
        "create_oz_student(\"홍혜인\", 4, 5, 2, 4),\n",
        "create_oz_student(\"윤은성\", 3, 4, 4, 1),\n",
        "create_oz_student(\"홍수철\", 2, 3, 1, 5)\n",
        "]\n",
        "\n",
        "print(\"이름\", \"총점\", \"평균\", sep='\\t')\n",
        "\n",
        "for student in oz_students:\n",
        "    ablity_sum = student[\"python\"] + student[\"database\"] + student[\"django\"] + student[\"AWS\"]\n",
        "    ablity_avg = ablity_sum / 4\n",
        "    print(student[\"name\"], ablity_sum, ablity_avg, sep='\\t')"
      ],
      "metadata": {
        "colab": {
          "base_uri": "https://localhost:8080/"
        },
        "id": "rm_EowFtZWtn",
        "outputId": "c4ec3b6b-3644-4deb-808b-f4c6fad3b28a"
      },
      "execution_count": 26,
      "outputs": [
        {
          "output_type": "stream",
          "name": "stdout",
          "text": [
            "이름\t총점\t평균\n",
            "백현우\t12\t3.0\n",
            "홍혜인\t15\t3.75\n",
            "윤은성\t12\t3.0\n",
            "홍수철\t11\t2.75\n"
          ]
        }
      ]
    },
    {
      "cell_type": "code",
      "source": [
        "def create_oz_student(name, python, database, django, AWS):         # 객체화 하는 부분\n",
        "    return {\"name\":name, \"python\":python, \"database\":database, \"django\":django, \"AWS\":AWS}\n",
        "\n",
        "def get_sum(student):              # 위의 for문 3줄을 다 쪼개서 각각 모듈(함수)로 만든것 => 모듈화\n",
        "    return student[\"python\"] + student[\"database\"] + student[\"django\"] + student[\"AWS\"]\n",
        "\n",
        "def get_avg(student):\n",
        "    return get_sum(student) / 4\n",
        "\n",
        "def to_string(student):\n",
        "    return f'{student[\"name\"]}\\t{get_sum(student)}\\t{get_avg(student)}'\n",
        "\n",
        "\n",
        "oz_students=[\n",
        "create_oz_student(\"백현우\", 4, 3, 3, 2),\n",
        "create_oz_student(\"홍혜인\", 4, 5, 2, 4),\n",
        "create_oz_student(\"윤은성\", 3, 4, 4, 1),\n",
        "create_oz_student(\"홍수철\", 2, 3, 1, 5)\n",
        "]\n",
        "\n",
        "print(\"이름\", \"총점\", \"평균\", sep='\\t')\n",
        "\n",
        "for student in oz_students:\n",
        "    print(to_string(student))"
      ],
      "metadata": {
        "colab": {
          "base_uri": "https://localhost:8080/"
        },
        "id": "ZHTkbVIVNUcM",
        "outputId": "12462314-20e9-44e3-ab1f-da6e911f0282"
      },
      "execution_count": 2,
      "outputs": [
        {
          "output_type": "stream",
          "name": "stdout",
          "text": [
            "이름\t총점\t평균\n",
            "백현우\t12\t3.0\n",
            "홍혜인\t15\t3.75\n",
            "윤은성\t12\t3.0\n",
            "홍수철\t11\t2.75\n"
          ]
        }
      ]
    },
    {
      "cell_type": "code",
      "execution_count": null,
      "metadata": {
        "id": "Yd1SYAnHJR-V"
      },
      "outputs": [],
      "source": [
        "class CreateOzStudent:\n",
        "    pass\n",
        "# 클래스 이름과 같은 함수를 사용해서 객체를 만든다.\n",
        "student = CreateOzStudent()        # CreateOzStudent() => 생성자 함수\n",
        "                                   # student => 클래스 이용해 만들어진 객체를 인스턴스라고 함"
      ]
    },
    {
      "cell_type": "code",
      "source": [
        "# 객체란? => 속성과 기능을 함께 가지는 프로그램 단위\n",
        "\n",
        "# 객체를 구성하는 속성과 기능에 대해 설명\n",
        "# => 속성: 객체가 가진 데이터 예) 사람.name = \"홍길동\" => name이 속성\n",
        "# => 기능: 객체가 수행할 수 있는 동작/함수\n",
        "\n",
        "# 추상화란? => 객체의 속성이 많을 때, 필요한 속성만으로 객체를 표현\n",
        "\n",
        "# 객체 지향 프로그램에 대해 설명 => 클래스 기반의 객체를 우선시 하는 프로그래밍\n",
        "\n",
        "# 클래스를 선언하는 구조? => class 클래스이름:\n",
        "#                           pass\n",
        "\n",
        "# 인스턴스란? => 클래스를 이용해 만들어진 객체"
      ],
      "metadata": {
        "id": "FsIylnx1LSvH"
      },
      "execution_count": null,
      "outputs": []
    }
  ]
}