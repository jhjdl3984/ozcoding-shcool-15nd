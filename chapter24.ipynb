{
  "nbformat": 4,
  "nbformat_minor": 0,
  "metadata": {
    "colab": {
      "provenance": [],
      "authorship_tag": "ABX9TyNkUuj7OVkupcilHkP1HWXB",
      "include_colab_link": true
    },
    "kernelspec": {
      "name": "python3",
      "display_name": "Python 3"
    },
    "language_info": {
      "name": "python"
    }
  },
  "cells": [
    {
      "cell_type": "markdown",
      "metadata": {
        "id": "view-in-github",
        "colab_type": "text"
      },
      "source": [
        "<a href=\"https://colab.research.google.com/github/jhjdl3984/ozcoding-shcool-15nd/blob/main/chapter24.ipynb\" target=\"_parent\"><img src=\"https://colab.research.google.com/assets/colab-badge.svg\" alt=\"Open In Colab\"/></a>"
      ]
    },
    {
      "cell_type": "markdown",
      "source": [
        "##키워드 매개변수\n",
        "=> 함수 정의할 때가 아니라, 함수 호출할 때 매개변수 이름을 지정해서 전달"
      ],
      "metadata": {
        "id": "thGcbSLB81ka"
      }
    },
    {
      "cell_type": "code",
      "source": [
        "# 오류\n",
        "# (기본 매개변수, 가변 매개변수)\n",
        "\n",
        "def oz(n=3, *values):\n",
        "    for i in range(n):\n",
        "        for value in values:\n",
        "            print(value)\n",
        "        print()\n",
        "\n",
        "oz(\"기본 매개변수 다음에\", \"가변 매개변수를\", \"넣을 수 있을까?\")\n",
        "# 숫자가 들어와야하는데 str이 들어왔다고 오류남\n",
        "# => 기본 매개변수에 \"기본 매개변수 다음에\"가 들어가고, 가변 매개변수에 \"가변 매개변수를\" \"넣을 수 있을까?\" 가 들어간것"
      ],
      "metadata": {
        "id": "Vu-NUwpFBoJL"
      },
      "execution_count": null,
      "outputs": []
    },
    {
      "cell_type": "code",
      "source": [
        "# 오류는 아니지만 원하는대로 작동 X\n",
        "# (가변 매개변수, 기본 매개변수)\n",
        "\n",
        "def oz(*values, n=3):\n",
        "    for i in range(n):\n",
        "        for value in values:\n",
        "            print(value)\n",
        "        print()\n",
        "\n",
        "oz(\"기본 매개변수 다음에\", \"가변 매개변수를\", \"넣을 수 있을까?\", 10)\n",
        "# 가변 매개변수에 \"기본 매개변수 다음에\", \"가변 매개변수를\" \"넣을 수 있을까?\"를 넣고 기본 매개변수에 10을 넣으려 했는데\n",
        "# 함수 호출 시 argument들을 모두 가변 매개변수로 인식함"
      ],
      "metadata": {
        "colab": {
          "base_uri": "https://localhost:8080/"
        },
        "id": "1YJ-jsnrCWPs",
        "outputId": "c380f984-2a84-4089-a391-882b63cdc1d6"
      },
      "execution_count": 9,
      "outputs": [
        {
          "output_type": "stream",
          "name": "stdout",
          "text": [
            "기본 매개변수 다음에\n",
            "가변 매개변수를\n",
            "넣을 수 있을까?\n",
            "10\n",
            "\n",
            "기본 매개변수 다음에\n",
            "가변 매개변수를\n",
            "넣을 수 있을까?\n",
            "10\n",
            "\n",
            "기본 매개변수 다음에\n",
            "가변 매개변수를\n",
            "넣을 수 있을까?\n",
            "10\n",
            "\n"
          ]
        }
      ]
    },
    {
      "cell_type": "code",
      "source": [
        "list = [\"안\", \"녕\", \"하\", \"세\", \"요\"]\n",
        "for i in list:\n",
        "    print(i, end=\"\")\n",
        "# print(i, end=\"\") => i는 가변 매개변수로 입력되고, end=\"\"는 키워드 매개변수가 됨\n",
        "# end => print() 함수의 기본 매개변수로 들어가있음"
      ],
      "metadata": {
        "colab": {
          "base_uri": "https://localhost:8080/"
        },
        "id": "vSE8NaYqFLX5",
        "outputId": "45675081-f254-441a-f468-d0e9800ba07e"
      },
      "execution_count": 10,
      "outputs": [
        {
          "output_type": "stream",
          "name": "stdout",
          "text": [
            "안녕하세요"
          ]
        }
      ]
    },
    {
      "cell_type": "code",
      "source": [
        "# 직육면체의 부피를 구하는 코드를 작성 => 가로 : x, 세로 : y, 높이 : h\n",
        "\n",
        "def oz(x, y=20, h=10):\n",
        "    print(x * y * h)\n",
        "\n",
        "# x식별자에 매개변수 10을 넣은 경우\n",
        "oz(10)\n",
        "\n",
        "# x식별자에 10을 넣고 y=10이라는 키워드 매개변수를 이용한 경우\n",
        "oz(10, y=10)\n",
        "\n",
        "# 모든 매개변수를 키워드 매개변수로 넣은 경우\n",
        "oz(x=10, y=10, h=10)"
      ],
      "metadata": {
        "colab": {
          "base_uri": "https://localhost:8080/"
        },
        "id": "xsc7u9rECjGE",
        "outputId": "7be30193-d2f9-4262-aea8-38bd6462db06"
      },
      "execution_count": 15,
      "outputs": [
        {
          "output_type": "stream",
          "name": "stdout",
          "text": [
            "2000\n",
            "1000\n",
            "1000\n"
          ]
        }
      ]
    },
    {
      "cell_type": "code",
      "source": [
        "# 키워드 매개변수를 사용하는 이유? => 기본 매개변수의 값을 변경하거나 각 매개변수에 정확하게 적용하기 위해서\n",
        "# 키워드 매개변수를 사용하기 위한 문법은? => 함수 호출할때, 함수명(매개변수=넣을값)"
      ],
      "metadata": {
        "id": "mvLQ-YD6OYFT"
      },
      "execution_count": null,
      "outputs": []
    }
  ]
}